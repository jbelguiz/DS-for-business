{
 "cells": [
  {
   "cell_type": "markdown",
   "metadata": {},
   "source": [
    "# DSFB Assignment 1 - Credit Default (Advanced Models)"
   ]
  },
  {
   "cell_type": "markdown",
   "metadata": {},
   "source": [
    "By [Omid Shahmirzadi](https://ch.linkedin.com/in/omidshahmirzadi) - Email  [omid.shahmirzadi@epfl.ch](mailto:omid.shahmirzadi@epfl.ch)"
   ]
  },
  {
   "cell_type": "markdown",
   "metadata": {},
   "source": [
    "In this assignment, we try to predict the probability of default on a credit card account based on the dataset of customer default payments that you already used and are familiar with from Demo 0. From a risk management perspective, the accuracy of the predicted probability of default is more valuable than just a binary prediction (classification) of default itself. "
   ]
  },
  {
   "cell_type": "markdown",
   "metadata": {},
   "source": [
    "![](https://greendayonline.com/wp-content/uploads/2017/03/Recovering-From-Student-Loan-Default.jpg)\n",
    "\n",
    "Image source: https://greendayonline.com/wp-content/uploads/2017/03/Recovering-From-Student-Loan-Default.jpg"
   ]
  },
  {
   "cell_type": "markdown",
   "metadata": {},
   "source": [
    "Dataset source: *Yeh, I. C., & Lien, C. H. (2009). The comparisons of data mining techniques for the predictive accuracy of probability of default of credit card clients. Expert Systems with Applications, 36(2), 2473-2480.*"
   ]
  },
  {
   "cell_type": "markdown",
   "metadata": {},
   "source": [
    "The dataset consists of information of 30,000 clients with the following 23 features:\n",
    "\n",
    "  * LIMIT_BAL: Amount of the given credit (Taiwanese Dollar) which includes both the individual consumer credit and his/her family (supplementary) credit.  \n",
    "\n",
    "  * SEX: Gender (1 = male; 2 = female).   \n",
    "\n",
    "  * EDUCATION: Education (1 = graduate school; 2 = university; 3 = high school; 4 = others).   \n",
    "\n",
    "  * MARRIAGE: Marital status (0 = unknown; 1 = married; 2 = single; 3 = others).   \n",
    "\n",
    "  * AGE: Age (year).   \n",
    "\n",
    "  * PAY1 - PAY6: History of past payment. We tracked the past monthly payment records (from April to September, 2005) as follows: PAY1 = the repayment status in September, 2005; PAY2 = the repayment status in August, 2005; . . .;PAY6 = the repayment status in April, 2005. The measurement scale for the repayment status is: -2 = payment two months in advance; -1 = payment one month in advance; 0 = pay duly; 1 = payment delay for one month; 2 = payment delay for two months; . . .; 8 = payment delay for eight months; 9 = payment delay for nine months and above.  \n",
    "  \n",
    "  * BILL_AMT1-BILL_AMT6: Amount of bill statement (Taiwanese Dollar). BILL_AMT1 = amount of bill statement in September, 2005; BILL_AMT2 = amount of bill statement in August, 2005; . . .; BILL_AMT6 = amount of bill statement in April, 2005.   \n",
    "\n",
    "  * PAY_AMT1-PAY_AMT6: Amount of previous payment (Taiwanese Dollar). PAY_AMT1 = amount paid in September, 2005; PAY_AMT2 = amount paid in August, 2005; . . .; PAY_AMT6 = amount paid in April, 2005. \n",
    "\n",
    "The target variable is given in a separate field called 'default_payment_next_month', where 1 denotes default in the following month and 0 denotes otherwise."
   ]
  },
  {
   "cell_type": "markdown",
   "metadata": {},
   "source": [
    "As you might remember, we tried to predict customer defaults using logistic regression. The validation of our results was based on a simple cross validation by splitting data into a training set and a test set. We also used class labels instead of class probabilities. Here we try to elaborate more on this problem, using different models and more statistically sound cross validation schemas and performance metrics."
   ]
  },
  {
   "cell_type": "code",
   "execution_count": 71,
   "metadata": {},
   "outputs": [],
   "source": [
    "# Cell to import all the data needed\n",
    "import pandas as pd\n",
    "import numpy as np\n",
    "import matplotlib.pyplot as plt"
   ]
  },
  {
   "cell_type": "markdown",
   "metadata": {},
   "source": [
    "## Part 1: Data Preprocessing and EDA"
   ]
  },
  {
   "cell_type": "markdown",
   "metadata": {},
   "source": [
    "**Q 1:** Which features need to be one-hot encoded and why? Shall you do that for all categorical features ? Perform the required one-hot encoding and save your pre-processed data into a new data frame."
   ]
  },
  {
   "cell_type": "markdown",
   "metadata": {},
   "source": [
    "Hint: Use the *get_dummies()* function of Pandas."
   ]
  },
  {
   "cell_type": "markdown",
   "metadata": {},
   "source": [
    "##### Solution :\n",
    "The features that are categorical must be one-hot encoded. Moreovere one set of this features must not be a subset of the same feature. For exemple the feature education is a categorical feature but the set University  is a subset of the set HighSchool since every person at the university graduated from highschool. Therefore in our case the features SEX and MARRIAGE must be one-hot encoded. The others features are either numerical or ordinal with acceptable labeling."
   ]
  },
  {
   "cell_type": "code",
   "execution_count": 93,
   "metadata": {},
   "outputs": [
    {
     "name": "stdout",
     "output_type": "stream",
     "text": [
      "False\n",
      "Index(['ID', 'LIMIT_BAL', 'EDUCATION', 'AGE', 'PAY_1', 'PAY_2', 'PAY_3',\n",
      "       'PAY_4', 'PAY_5', 'PAY_6', 'BILL_AMT1', 'BILL_AMT2', 'BILL_AMT3',\n",
      "       'BILL_AMT4', 'BILL_AMT5', 'BILL_AMT6', 'PAY_AMT1', 'PAY_AMT2',\n",
      "       'PAY_AMT3', 'PAY_AMT4', 'PAY_AMT5', 'PAY_AMT6',\n",
      "       'default_payment_next_month', 'SEX_1', 'SEX_2', 'MARRIAGE_0',\n",
      "       'MARRIAGE_1', 'MARRIAGE_2', 'MARRIAGE_3'],\n",
      "      dtype='object')\n"
     ]
    }
   ],
   "source": [
    "# Load data into a dataframe\n",
    "\n",
    "data = pd.read_csv('credit_data.csv')\n",
    "#check if there are some NaN values in the Dataframe\n",
    "print(data.isnull().values.any())\n",
    "\n",
    "# One hot encoding of sex and marital status\n",
    "# Applying one-hot encoding for other field doesn't make sense since they are either numeric or ordinal\n",
    "\n",
    "cols_to_transform = ['SEX', 'MARRIAGE']\n",
    "data_with_dummies = pd.get_dummies( data=data, columns = cols_to_transform )\n",
    "\n",
    "print(data_with_dummies.columns)"
   ]
  },
  {
   "cell_type": "code",
   "execution_count": 94,
   "metadata": {},
   "outputs": [
    {
     "name": "stdout",
     "output_type": "stream",
     "text": [
      "   ID  LIMIT_BAL  EDUCATION  AGE  PAY_1  PAY_2  PAY_3  PAY_4  PAY_5  PAY_6  \\\n",
      "0   1      20000          2   24      2      2     -1     -1     -2     -2   \n",
      "1   2     120000          2   26     -1      2      0      0      0      2   \n",
      "2   3      90000          2   34      0      0      0      0      0      0   \n",
      "3   4      50000          2   37      0      0      0      0      0      0   \n",
      "4   5      50000          2   57     -1      0     -1      0      0      0   \n",
      "\n",
      "      ...      PAY_AMT4  PAY_AMT5  PAY_AMT6  default_payment_next_month  \\\n",
      "0     ...             0         0         0                           1   \n",
      "1     ...          1000         0      2000                           1   \n",
      "2     ...          1000      1000      5000                           0   \n",
      "3     ...          1100      1069      1000                           0   \n",
      "4     ...          9000       689       679                           0   \n",
      "\n",
      "   SEX_1  SEX_2  MARRIAGE_0  MARRIAGE_1  MARRIAGE_2  MARRIAGE_3  \n",
      "0      0      1           0           1           0           0  \n",
      "1      0      1           0           0           1           0  \n",
      "2      0      1           0           0           1           0  \n",
      "3      0      1           0           1           0           0  \n",
      "4      1      0           0           1           0           0  \n",
      "\n",
      "[5 rows x 29 columns]\n"
     ]
    }
   ],
   "source": [
    "print(data_with_dummies.head())"
   ]
  },
  {
   "cell_type": "markdown",
   "metadata": {},
   "source": [
    "**Q 2:** Obtain correlation of different features compare to the target using Pearson correlation. What are the most correlated ones? Why not only consider them to do the prediction task?  "
   ]
  },
  {
   "cell_type": "markdown",
   "metadata": {},
   "source": [
    "Hint: To compute Pearson correlation of two dataframe columns A and B, do the following:\n",
    "\n",
    "*df['A'].corr(df['B'])*"
   ]
  },
  {
   "cell_type": "code",
   "execution_count": 95,
   "metadata": {},
   "outputs": [
    {
     "name": "stdout",
     "output_type": "stream",
     "text": [
      "ID                           -0.013952\n",
      "LIMIT_BAL                    -0.153520\n",
      "EDUCATION                     0.028006\n",
      "AGE                           0.013890\n",
      "PAY_1                         0.324794\n",
      "PAY_2                         0.263551\n",
      "PAY_3                         0.235253\n",
      "PAY_4                         0.216614\n",
      "PAY_5                         0.204149\n",
      "PAY_6                         0.186866\n",
      "BILL_AMT1                    -0.019644\n",
      "BILL_AMT2                    -0.014193\n",
      "BILL_AMT3                    -0.014076\n",
      "BILL_AMT4                    -0.010156\n",
      "BILL_AMT5                    -0.006760\n",
      "BILL_AMT6                    -0.005372\n",
      "PAY_AMT1                     -0.072929\n",
      "PAY_AMT2                     -0.058579\n",
      "PAY_AMT3                     -0.056250\n",
      "PAY_AMT4                     -0.056827\n",
      "PAY_AMT5                     -0.055124\n",
      "PAY_AMT6                     -0.053183\n",
      "default_payment_next_month    1.000000\n",
      "SEX_1                         0.039961\n",
      "SEX_2                        -0.039961\n",
      "MARRIAGE_0                   -0.013158\n",
      "MARRIAGE_1                    0.029775\n",
      "MARRIAGE_2                   -0.030619\n",
      "MARRIAGE_3                    0.009768\n",
      "Name: default_payment_next_month, dtype: float64\n",
      "-0.1535198763934634\n"
     ]
    }
   ],
   "source": [
    "# Compute the correlation matrix\n",
    "corr = data_with_dummies.corr()\n",
    "corr_results = corr['default_payment_next_month']\n",
    "print(corr_results)\n",
    "print(corr_results.min())"
   ]
  },
  {
   "cell_type": "markdown",
   "metadata": {},
   "source": [
    "#### Solution :\n",
    "The most correlated features are the ones with the biggest and smallest correlation. All the ones with a correlation close to 0 are uncorrelated.\n",
    "\n",
    "The most correlated ones are therefore PAY_1 to 6\n",
    "\n",
    "We consider also the ones with less correlation to get a more precise predictions."
   ]
  },
  {
   "cell_type": "markdown",
   "metadata": {},
   "source": [
    "## Part 2: Choosing Performance Metric and Baseline"
   ]
  },
  {
   "cell_type": "markdown",
   "metadata": {},
   "source": [
    "**Q 1:** What could be a fair metric for this problem? discuss different options starting from the plain accuracy."
   ]
  },
  {
   "cell_type": "markdown",
   "metadata": {},
   "source": [
    "Hint: Consider the case where distribution of different classes are not uniform. Also consider the cut-off threshold to separate positive and negative classes. Find a popular metric which is not sensitive to class distributions as well as cut-off threshold and use it for the rest of your analysis."
   ]
  },
  {
   "cell_type": "markdown",
   "metadata": {},
   "source": [
    "##### Solution :\n",
    "The accuracy is a very useful metric to measure the results of a model. After training on the Train set (for exemple 80% of the dataset) We would compare the classification predicted by the model on the Testing set(the rest of the dataset) with the true result of the testing set. We compute a Pourcentage of matching prediction. The higher the accuracy is, the better our model performs. \n",
    "To Resume it is a good way to measure the results of a model. The only problem is that it is misleading when the distribution between classes is skewed.\n",
    " \n",
    "We also know that : Sampling differences can affect the final performance of the model, especially when tested against a small holdout set of testing data. Therefore, the models might perform very differently on a different population.\n",
    "\n",
    "Therefore in our case accuracy might not be the best way to evaluate our model. \n",
    "\n",
    "We have a few technics to improve our evaluation step. \n",
    "\n",
    "We can use the K-flod cross validation. It will evaluate our model with different training and testing set. We then can at the end perform the average of our result to get a proper evaluation step. It will avoid problem raising from cut-off threshold for testing/training data. \n",
    "\n",
    "We could also verify to have the same proportion of positive and negative data in the spliting dataset than in the Whole dataset\n",
    "\n",
    "Another good way to compare models even with different class distributions is computing the expected value as follow using the confusion metrix and the benefits metrix.\n",
    "Expected Value =\n",
    "    p(pos) * [ p(Y|pos)*b(Y,pos) + p(N|pos)*b(N,pos) ] +\n",
    "    p(neg) * [ p(N|neg)*b(N,neg) + p(Y|neg)*b(Y,neg) ]\n",
    "\n",
    "But for now we cannot compute the benefits metrix.\n",
    "\n",
    "Finally we can use The True Positive True Negative False Positive and False Negative  by computing the confusion metric to evaluate our results.\n",
    "From those 4 measures we can derive the F Score, F1 score, the recall and Precision of our model.\n",
    "\n",
    "#### With our Problem we are more interested by the Precision score of the positive class which means the precision of the prediction of the default of payment. Better ou model is Higher will this score be"
   ]
  },
  {
   "cell_type": "code",
   "execution_count": 96,
   "metadata": {},
   "outputs": [],
   "source": [
    "### CHECK CONFUSION MATRIX CODE CHANGE THE TEXT ABOVE\n",
    "from sklearn.metrics import confusion_matrix\n",
    "\n",
    "def get_results(y_test,y_pred):\n",
    "    print ('confusion matrix: \\n', confusion_matrix(y_test, y_pred))\n",
    "\n",
    "    # calculate precision, recall and F score based on confusion metrics\n",
    "    # note for each class, metrics are calculated separately since average option is set to None \n",
    "    precision = precision_score(y_test, y_pred, average=None)\n",
    "    print ('precision: ', precision)\n",
    "    recall = recall_score(y_test, y_pred, average=None)\n",
    "    print ('recall: ', recall)\n",
    "    f1 = f1_score(y_test, y_pred, average=None)\n",
    "    print ('F score: ', f1)\n",
    "    print('The precision score of class 1(default next month) is :'+str(precision[1]))\n",
    "    return"
   ]
  },
  {
   "cell_type": "markdown",
   "metadata": {},
   "source": [
    "**Q 2:** Come up with a sensible baseline to compare with your more complex models based on your selected metric. Print the baseline performance."
   ]
  },
  {
   "cell_type": "markdown",
   "metadata": {},
   "source": [
    "Hint: Divide data into training and test sets using *train_test_split()* function in *sklearn.model_selection* package. Then fit an object from *DummyClassifier* class in *sklearn.dummy* package to training set and evaluate the performance on the test set. Keep the strategy of *DummyClassifier* object as default (stratified)."
   ]
  },
  {
   "cell_type": "code",
   "execution_count": 97,
   "metadata": {},
   "outputs": [],
   "source": [
    "# SPLIT data into training and testing sets\n",
    "from sklearn.model_selection import train_test_split\n",
    "\n",
    "X = data_with_dummies.loc[:, ['LIMIT_BAL', 'EDUCATION', 'AGE', 'PAY_1', 'PAY_2', 'PAY_3',\n",
    "       'PAY_4', 'PAY_5', 'PAY_6', 'BILL_AMT1', 'BILL_AMT2', 'BILL_AMT3',\n",
    "       'BILL_AMT4', 'BILL_AMT5', 'BILL_AMT6', 'PAY_AMT1', 'PAY_AMT2',\n",
    "       'PAY_AMT3', 'PAY_AMT4', 'PAY_AMT5', 'PAY_AMT6', 'SEX_1', 'SEX_2', 'MARRIAGE_0',\n",
    "       'MARRIAGE_1', 'MARRIAGE_2', 'MARRIAGE_3']]\n",
    "\n",
    "y = data_with_dummies['default_payment_next_month']\n",
    "\n",
    "X_train, X_test, y_train, y_test = train_test_split(X, y, test_size=0.2, random_state=1, stratify=y)"
   ]
  },
  {
   "cell_type": "code",
   "execution_count": 27,
   "metadata": {},
   "outputs": [
    {
     "name": "stdout",
     "output_type": "stream",
     "text": [
      "Mean accuracy : 0.6523333333333333\n",
      "confusion matrix: \n",
      " [[3628 1045]\n",
      " [1034  293]]\n",
      "precision:  [0.77820678 0.21898356]\n",
      "recall:  [0.77637492 0.22079879]\n",
      "F score:  [0.77728977 0.21988743]\n",
      "The precision score of class 1(default next month) is :0.21898355754857998\n"
     ]
    }
   ],
   "source": [
    "from sklearn.dummy import DummyClassifier\n",
    "from sklearn.metrics import confusion_matrix\n",
    "from sklearn.metrics import precision_score\n",
    "from sklearn.metrics import recall_score\n",
    "from sklearn.metrics import f1_score\n",
    "from sklearn.metrics import accuracy_score\n",
    "\n",
    "dummy_clf = DummyClassifier(strategy='stratified')\n",
    "dummy_clf.fit(X_train,y_train)\n",
    "y_pred = dummy_clf.predict(X_test)\n",
    "baseline_score = dummy_clf.score(X_test,y_test)\n",
    "print (\"Mean accuracy : \"+str(baseline_score))\n",
    "\n",
    "get_results(y_test,y_pred)"
   ]
  },
  {
   "cell_type": "markdown",
   "metadata": {},
   "source": [
    "## Part 3: Prediction using Logistic Regression"
   ]
  },
  {
   "cell_type": "markdown",
   "metadata": {},
   "source": [
    "**Q 1:** Predict probability of default using logistic regression. Is normalization of data needed? What is the performance of your model ?"
   ]
  },
  {
   "cell_type": "markdown",
   "metadata": {},
   "source": [
    "Hint: Use *LogisticRegression* class from *sklearn.linear_model* package."
   ]
  },
  {
   "cell_type": "markdown",
   "metadata": {},
   "source": [
    "##### Solution\n",
    "\n",
    "It is always better to normalize the features before training a model. It allows the model to get better predictions"
   ]
  },
  {
   "cell_type": "code",
   "execution_count": 28,
   "metadata": {},
   "outputs": [
    {
     "name": "stdout",
     "output_type": "stream",
     "text": [
      "CPU times: user 137 ms, sys: 70 µs, total: 137 ms\n",
      "Wall time: 137 ms\n",
      "Mean accuracy : 0.7788333333333334\n",
      "confusion matrix: \n",
      " [[4641   32]\n",
      " [1294   33]]\n",
      "precision:  [0.78197136 0.50769231]\n",
      "recall:  [0.99315215 0.02486812]\n",
      "F score:  [0.875      0.04741379]\n",
      "The precision score of class 1(default next month) is :0.5076923076923077\n"
     ]
    }
   ],
   "source": [
    "from sklearn.linear_model import LogisticRegression\n",
    "from sklearn import preprocessing\n",
    "\n",
    "X_train_normalized = preprocessing.normalize(X_train,norm='max')\n",
    "X_test_normalized = preprocessing.normalize(X_test,norm='max')\n",
    "#print(X_train.head())\n",
    "lr_clf = LogisticRegression()\n",
    "%time lr_clf.fit(X_train_normalized,y_train)\n",
    "y_pred = lr_clf.predict(X_test)\n",
    "lr_score = lr_clf.score(X_test_normalized,y_test)\n",
    "\n",
    "print (\"Mean accuracy : \"+str(lr_score))\n",
    "get_results(y_test,y_pred)"
   ]
  },
  {
   "cell_type": "markdown",
   "metadata": {},
   "source": [
    "**Q 2:** Try to think conceptually what is the correct way to estimate performance of a classifier if we need to tune hyper-parameters. Implement your solution."
   ]
  },
  {
   "cell_type": "markdown",
   "metadata": {},
   "source": [
    "Hint: Think about the problem that might arise if we tune hyper-parameters using the training set and the test set."
   ]
  },
  {
   "cell_type": "markdown",
   "metadata": {},
   "source": [
    "K-Fold crossvalidation is a very good way to estimate the performance of a classifier if we need to tune hyper-parameters. StratifiedKFold is a variation of k-fold which returns stratified folds: each set contains approximately the same percentage of samples of each target class as the complete set.\n",
    "We can do is as follows."
   ]
  },
  {
   "cell_type": "code",
   "execution_count": 20,
   "metadata": {},
   "outputs": [
    {
     "name": "stdout",
     "output_type": "stream",
     "text": [
      "-------------------FOLD1 ----------------------------\n",
      "fold 1: train set shape: (23999,) test set shape: (6001,)\n",
      "fold 1: train set: [ 5984  5985  5988 ... 29997 29998 29999] test set: [   0    1    2 ... 6044 6045 6047]\n",
      "CPU times: user 138 ms, sys: 442 µs, total: 138 ms\n",
      "Wall time: 138 ms\n",
      "Mean accuracy : 0.7788701883019497\n",
      "confusion matrix: \n",
      " [[4673    0]\n",
      " [1327    1]]\n",
      "precision:  [0.77883333 1.        ]\n",
      "recall:  [1.00000000e+00 7.53012048e-04]\n",
      "F score:  [0.87566757 0.00150489]\n",
      "The precision score of class 1(default next month) is :1.0\n",
      "-------------------FOLD2 ----------------------------\n",
      "fold 2: train set shape: (24000,) test set shape: (6000,)\n",
      "fold 2: train set: [    0     1     2 ... 29997 29998 29999] test set: [ 5984  5985  5988 ... 12049 12050 12051]\n",
      "CPU times: user 190 ms, sys: 159 ms, total: 350 ms\n",
      "Wall time: 161 ms\n",
      "Mean accuracy : 0.7788333333333334\n",
      "confusion matrix: \n",
      " [[4673    0]\n",
      " [1327    0]]\n",
      "precision:  [0.77883333 0.        ]\n",
      "recall:  [1. 0.]\n",
      "F score:  [0.87566757 0.        ]\n",
      "The precision score of class 1(default next month) is :0.0\n",
      "-------------------FOLD3 ----------------------------\n",
      "fold 3: train set shape: (24000,) test set shape: (6000,)\n",
      "fold 3: train set: [    0     1     2 ... 29997 29998 29999] test set: [11793 11794 11796 ... 18222 18223 18224]\n",
      "CPU times: user 171 ms, sys: 192 ms, total: 363 ms\n",
      "Wall time: 137 ms\n",
      "Mean accuracy : 0.7785\n",
      "confusion matrix: \n",
      " [[4671    2]\n",
      " [1327    0]]\n",
      "precision:  [0.77875959 0.        ]\n",
      "recall:  [0.99957201 0.        ]\n",
      "F score:  [0.87545685 0.        ]\n",
      "The precision score of class 1(default next month) is :0.0\n",
      "-------------------FOLD4 ----------------------------\n",
      "fold 4: train set shape: (24000,) test set shape: (6000,)\n",
      "fold 4: train set: [    0     1     2 ... 29997 29998 29999] test set: [17312 17315 17316 ... 24073 24074 24075]\n"
     ]
    },
    {
     "name": "stderr",
     "output_type": "stream",
     "text": [
      "/home/julien/.local/lib/python3.5/site-packages/sklearn/metrics/classification.py:1135: UndefinedMetricWarning: Precision is ill-defined and being set to 0.0 in labels with no predicted samples.\n",
      "  'precision', 'predicted', average, warn_for)\n",
      "/home/julien/.local/lib/python3.5/site-packages/sklearn/metrics/classification.py:1135: UndefinedMetricWarning: F-score is ill-defined and being set to 0.0 in labels with no predicted samples.\n",
      "  'precision', 'predicted', average, warn_for)\n"
     ]
    },
    {
     "name": "stdout",
     "output_type": "stream",
     "text": [
      "CPU times: user 201 ms, sys: 117 ms, total: 318 ms\n",
      "Wall time: 198 ms\n",
      "Mean accuracy : 0.7788333333333334\n",
      "confusion matrix: \n",
      " [[4673    0]\n",
      " [1327    0]]\n",
      "precision:  [0.77883333 0.        ]\n",
      "recall:  [1. 0.]\n",
      "F score:  [0.87566757 0.        ]\n",
      "The precision score of class 1(default next month) is :0.0\n",
      "-------------------FOLD5 ----------------------------\n",
      "fold 5: train set shape: (24001,) test set shape: (5999,)\n",
      "fold 5: train set: [    0     1     2 ... 24073 24074 24075] test set: [23688 23691 23696 ... 29997 29998 29999]\n"
     ]
    },
    {
     "name": "stderr",
     "output_type": "stream",
     "text": [
      "/home/julien/.local/lib/python3.5/site-packages/sklearn/metrics/classification.py:1135: UndefinedMetricWarning: Precision is ill-defined and being set to 0.0 in labels with no predicted samples.\n",
      "  'precision', 'predicted', average, warn_for)\n",
      "/home/julien/.local/lib/python3.5/site-packages/sklearn/metrics/classification.py:1135: UndefinedMetricWarning: F-score is ill-defined and being set to 0.0 in labels with no predicted samples.\n",
      "  'precision', 'predicted', average, warn_for)\n"
     ]
    },
    {
     "name": "stdout",
     "output_type": "stream",
     "text": [
      "CPU times: user 254 ms, sys: 78.6 ms, total: 332 ms\n",
      "Wall time: 255 ms\n",
      "Mean accuracy : 0.7787964660776796\n",
      "confusion matrix: \n",
      " [[4672    0]\n",
      " [1327    0]]\n",
      "precision:  [0.77879647 0.        ]\n",
      "recall:  [1. 0.]\n",
      "F score:  [0.87564427 0.        ]\n",
      "The precision score of class 1(default next month) is :0.0\n"
     ]
    },
    {
     "name": "stderr",
     "output_type": "stream",
     "text": [
      "/home/julien/.local/lib/python3.5/site-packages/sklearn/metrics/classification.py:1135: UndefinedMetricWarning: Precision is ill-defined and being set to 0.0 in labels with no predicted samples.\n",
      "  'precision', 'predicted', average, warn_for)\n",
      "/home/julien/.local/lib/python3.5/site-packages/sklearn/metrics/classification.py:1135: UndefinedMetricWarning: F-score is ill-defined and being set to 0.0 in labels with no predicted samples.\n",
      "  'precision', 'predicted', average, warn_for)\n"
     ]
    },
    {
     "data": {
      "text/plain": [
       "LogisticRegression(C=1.0, class_weight=None, dual=False, fit_intercept=True,\n",
       "          intercept_scaling=1, max_iter=100, multi_class='ovr', n_jobs=1,\n",
       "          penalty='l2', random_state=None, solver='liblinear', tol=0.0001,\n",
       "          verbose=0, warm_start=False)"
      ]
     },
     "execution_count": 20,
     "metadata": {},
     "output_type": "execute_result"
    }
   ],
   "source": [
    "# K-Fold crossvalidation\n",
    "from sklearn.model_selection import StratifiedKFold\n",
    "\n",
    "skf = StratifiedKFold(n_splits=5)\n",
    "i = 1\n",
    "for train, test in skf.split(X,y):\n",
    "    print(\"-------------------FOLD\"+ str(i)+\" ----------------------------\")\n",
    "    print(\"fold %i: train set shape: %s test set shape: %s\" % (i, train.shape, test.shape))\n",
    "    print(\"fold %i: train set: %s test set: %s\" % (i, train, test))\n",
    "    #Select the appropriate part of the dataframe based on the array of index train and test\n",
    "    X_train_normalized = preprocessing.normalize(X.iloc[train,:],norm=\"max\")\n",
    "    y_train = y.iloc[train]\n",
    "    X_test_normalized = preprocessing.normalize(X.iloc[test,:],norm=\"max\")\n",
    "    y_test = y.iloc[test]\n",
    "    #print(y_train)\n",
    "    # Train our Model\n",
    "    %time lr_clf.fit(X_train_normalized,y_train)\n",
    "    # Predict our Results\n",
    "    y_pred = lr_clf.predict(X_test_normalized)\n",
    "    lr_score = lr_clf.score(X_test_normalized,y_test)\n",
    "    #Print our Results\n",
    "    print (\"Mean accuracy : \"+str(lr_score))\n",
    "    get_results(y_test,y_pred)\n",
    "    i+=1\n",
    "\n",
    "lr_clf"
   ]
  },
  {
   "cell_type": "markdown",
   "metadata": {},
   "source": [
    "Second Version: print only the accuracy scores"
   ]
  },
  {
   "cell_type": "code",
   "execution_count": 26,
   "metadata": {},
   "outputs": [
    {
     "name": "stdout",
     "output_type": "stream",
     "text": [
      "Accuracy for each fold\n",
      "[0.77874042 0.77874042 0.77874042 0.77874042 0.77866667 0.77833333\n",
      " 0.77892631 0.77892631 0.77925975 0.77892631]\n",
      "Mean Accuracy\n",
      "0.778800035900004\n"
     ]
    }
   ],
   "source": [
    "from sklearn.cross_validation import cross_val_score\n",
    "\n",
    "cross_val = cross_val_score(LogisticRegression(), preprocessing.normalize(X,norm='max'), y, scoring='accuracy', cv=10)\n",
    "\n",
    "print(\"Accuracy for each fold\")\n",
    "print(cross_val)\n",
    "print(\"Mean Accuracy\")\n",
    "print(cross_val.mean())"
   ]
  },
  {
   "cell_type": "markdown",
   "metadata": {},
   "source": [
    "**Q 3:** Tune the parameter *C* using *l1* penalty. Note that data normalization is required for regularized linear models. What is the correct method to implement the normalization ? Obtain the performance of the model using best value of *C*."
   ]
  },
  {
   "cell_type": "markdown",
   "metadata": {},
   "source": [
    "Hint: Think about the possible problem that might arise if we standardize all data (training and test) and then fit a classifier to it. Read about *Pipeline* class from *sklearn.pipeline* package and see how taking advantage of *Pipeline* can avoid the mentioned problem."
   ]
  },
  {
   "cell_type": "markdown",
   "metadata": {},
   "source": [
    "##### Solution :\n",
    "The sklearn.pipeline module implements utilities to build a composite estimator, as a chain of transforms and estimators.\n",
    "It gives us the opportunity to apply the same transformation in the same order on our data each time.\n",
    "\n",
    "We will use standard scaler to normalize our data for regularized liner models"
   ]
  },
  {
   "cell_type": "code",
   "execution_count": 75,
   "metadata": {},
   "outputs": [
    {
     "name": "stdout",
     "output_type": "stream",
     "text": [
      "Fitting 3 folds for each of 16 candidates, totalling 48 fits\n"
     ]
    },
    {
     "name": "stderr",
     "output_type": "stream",
     "text": [
      "[Parallel(n_jobs=1)]: Done  48 out of  48 | elapsed:   19.3s finished\n"
     ]
    },
    {
     "name": "stdout",
     "output_type": "stream",
     "text": [
      "Final score is:  0.8113333333333334\n"
     ]
    },
    {
     "data": {
      "text/plain": [
       "{'regressor__C': 0.25}"
      ]
     },
     "execution_count": 75,
     "metadata": {},
     "output_type": "execute_result"
    }
   ],
   "source": [
    "from sklearn.feature_selection import VarianceThreshold\n",
    "from sklearn.linear_model import LinearRegression, Lasso\n",
    "from sklearn.preprocessing import StandardScaler\n",
    "from sklearn.pipeline import Pipeline\n",
    "from sklearn.model_selection import GridSearchCV\n",
    "\n",
    "\n",
    "X_train, X_test, y_train, y_test = train_test_split(X, y, test_size=0.2, random_state=1, stratify=y)\n",
    "\n",
    "#As for the regularization factor, we consider an exponential range of values\n",
    "alpha_to_test = 2.0**np.arange(-10, +6)\n",
    "\n",
    "pipe = Pipeline([\n",
    "            ('scaler', StandardScaler()),\n",
    "            ('regressor', LogisticRegression(penalty='l1'))\n",
    "            ])\n",
    "\n",
    "params = {'regressor__C': alpha_to_test}\n",
    "\n",
    "gridsearch = GridSearchCV(pipe, params, verbose=1).fit(X_train, y_train)\n",
    "print('Final score is: ', gridsearch.score(X_test, y_test))\n",
    "\n",
    "#pipe = pipe.fit(X_train, y_train)\n",
    "gridsearch.best_params_"
   ]
  },
  {
   "cell_type": "markdown",
   "metadata": {},
   "source": [
    "The best value of C is 0.25"
   ]
  },
  {
   "cell_type": "code",
   "execution_count": 76,
   "metadata": {},
   "outputs": [
    {
     "name": "stdout",
     "output_type": "stream",
     "text": [
      "confusion matrix: \n",
      " [[3773 1792]\n",
      " [ 165  270]]\n",
      "precision:  [0.95810056 0.13094083]\n",
      "recall:  [0.67798742 0.62068966]\n",
      "F score:  [0.79406503 0.21625951]\n",
      "The precision score of class 1(default next month) is :0.1309408341416101\n"
     ]
    }
   ],
   "source": [
    "lr_clf = LogisticRegression(penalty='l1',C=gridsearch.best_params_['regressor__C'])\n",
    "lr_clf.fit(X_train,y_train)\n",
    "y_test = lr_clf.predict(X_test)\n",
    "#print results\n",
    "get_results(y_test,y_pred)"
   ]
  },
  {
   "cell_type": "markdown",
   "metadata": {},
   "source": [
    "**Q 4:** Check the coefficients and intercept of your tuned model under *l1* regularization."
   ]
  },
  {
   "cell_type": "markdown",
   "metadata": {},
   "source": [
    "Hint: Extract the logistic regression from your pipeline and use its methods directly."
   ]
  },
  {
   "cell_type": "code",
   "execution_count": 74,
   "metadata": {},
   "outputs": [
    {
     "name": "stdout",
     "output_type": "stream",
     "text": [
      "LogisticRegression(C=0.25, class_weight=None, dual=False, fit_intercept=True,\n",
      "          intercept_scaling=1, max_iter=100, multi_class='ovr', n_jobs=1,\n",
      "          penalty='l1', random_state=None, solver='liblinear', tol=0.0001,\n",
      "          verbose=0, warm_start=False)\n",
      "Coefficient : [[-0.10992314 -0.07768952  0.05230196  0.6516184   0.09809659  0.07943354\n",
      "   0.03713665  0.03573404  0.         -0.3295948   0.12258446  0.0804357\n",
      "   0.00253957  0.02317748  0.         -0.20866417 -0.24788842 -0.02932627\n",
      "  -0.04100516 -0.04659603 -0.02377498  0.00992231 -0.04738577 -0.05285821\n",
      "   0.02795191 -0.06923467  0.        ]]\n",
      "Intercept : [-1.46265186]\n"
     ]
    }
   ],
   "source": [
    "clf=gridsearch.best_estimator_.named_steps['regressor']\n",
    "print(clf)\n",
    "print(\"Coefficient : \"+str(clf.coef_))\n",
    "print(\"Intercept : \"+str(clf.intercept_))"
   ]
  },
  {
   "cell_type": "markdown",
   "metadata": {},
   "source": [
    "**Q 5:** Draw the ROC curve of your tuned model under *l1* regularization."
   ]
  },
  {
   "cell_type": "markdown",
   "metadata": {},
   "source": [
    "Hint: Use *roc_curve* function from *sklearn.metrics* package."
   ]
  },
  {
   "cell_type": "code",
   "execution_count": 80,
   "metadata": {},
   "outputs": [
    {
     "name": "stdout",
     "output_type": "stream",
     "text": [
      "(6000,)\n",
      "(6000,)\n",
      "false positive rates:  [0.         0.02567944 1.        ] \n",
      " true positive rates:  [0.         0.23737754 1.        ] \n",
      " thresholds:  [2 1 0]\n",
      "area under roc curve:  0.6058490541391962\n"
     ]
    },
    {
     "data": {
      "image/png": "[encoded data removed]",
      "text/plain": [
       "<Figure size 432x288 with 1 Axes>"
      ]
     },
     "metadata": {},
     "output_type": "display_data"
    }
   ],
   "source": [
    "from sklearn.metrics import roc_curve\n",
    "from sklearn.metrics import auc\n",
    "\n",
    "y_pred = gridsearch.predict(X_test)\n",
    "print(y_pred.shape)\n",
    "print(y_test.shape)\n",
    "fpr, tpr, thresholds = roc_curve(y_test, y_pred, pos_label=1)\n",
    "print ('false positive rates: ',fpr,'\\n','true positive rates: ',\n",
    "       tpr,'\\n','thresholds: ',thresholds)\n",
    "roc_auc = auc(fpr, tpr)\n",
    "print ('area under roc curve: ', roc_auc)\n",
    "\n",
    "# plot roc curve\n",
    "plt.plot(fpr, tpr, color='red',lw=2)\n",
    "plt.xlim([0.0, 1.0])\n",
    "plt.ylim([0.0, 1.05])\n",
    "plt.xlabel('False Positive Rate')\n",
    "plt.ylabel('True Positive Rate')\n",
    "plt.show()"
   ]
  },
  {
   "cell_type": "markdown",
   "metadata": {},
   "source": [
    "## Part 4: Prediction using KNN Classifier"
   ]
  },
  {
   "cell_type": "markdown",
   "metadata": {},
   "source": [
    "**Q 1:** What could be the advantage of knn over logistic regression? Shall the data be normalized ?"
   ]
  },
  {
   "cell_type": "markdown",
   "metadata": {},
   "source": [
    "##### Solution :\n",
    "\n",
    "- Training: k-nearest neighbors requires no training. Logistic regression requires some training.\n",
    "- Decision boundary: Logistic regression learns a linear classifier, while k-nearest neighbors can learn non-linear boundaries as well.\n",
    "\n",
    "\n",
    "\n",
    "Normalization : THe disctance is important to classify my featurs thus there is no need to normalize"
   ]
  },
  {
   "cell_type": "markdown",
   "metadata": {},
   "source": [
    "**Q 2:** Try to fit a knn classifier with 5 nearest nieghbors using training and test sets. Is normalization necessary ?"
   ]
  },
  {
   "cell_type": "markdown",
   "metadata": {},
   "source": [
    "Hint: Use the *KNeighborsClassifier* class from *sklearn.neighbors* package.\n",
    "\n",
    "##### Solution :\n",
    "\n",
    "Normalization : THe disctance is important to classify my featurs thus there is no need to normalize"
   ]
  },
  {
   "cell_type": "code",
   "execution_count": 99,
   "metadata": {},
   "outputs": [
    {
     "name": "stdout",
     "output_type": "stream",
     "text": [
      "Mean accuracy : 0.7533333333333333\n",
      "confusion matrix: \n",
      " [[4272  401]\n",
      " [1079  248]]\n",
      "precision:  [0.79835545 0.38212635]\n",
      "recall:  [0.91418789 0.18688772]\n",
      "F score:  [0.85235435 0.25101215]\n",
      "The precision score of class 1(default next month) is :0.38212634822804314\n"
     ]
    }
   ],
   "source": [
    "from sklearn.neighbors import KNeighborsClassifier\n",
    "X_train, X_test, y_train, y_test = train_test_split(X, y, test_size=0.2, random_state=1, stratify=y)\n",
    "\n",
    "n_neighbors = 5 \n",
    "clf_knn = KNeighborsClassifier(n_neighbors)\n",
    "#train\n",
    "clf_knn.fit(X_train, y_train)\n",
    "#predict\n",
    "y_pred = clf_knn.predict(X_test)\n",
    "lr_score = clf_knn.score(X_test,y_test)\n",
    "\n",
    "#print results\n",
    "print (\"Mean accuracy : \"+str(lr_score))\n",
    "get_results(y_test,y_pred)"
   ]
  },
  {
   "cell_type": "markdown",
   "metadata": {},
   "source": [
    "**Q 3:** Tune the parameter *n_neighbors* and report the perfromance of your tuned model."
   ]
  },
  {
   "cell_type": "code",
   "execution_count": 105,
   "metadata": {},
   "outputs": [
    {
     "name": "stdout",
     "output_type": "stream",
     "text": [
      "Fitting 3 folds for each of 39 candidates, totalling 117 fits\n"
     ]
    },
    {
     "name": "stderr",
     "output_type": "stream",
     "text": [
      "[Parallel(n_jobs=4)]: Done  42 tasks      | elapsed:  1.1min\n",
      "[Parallel(n_jobs=4)]: Done 117 out of 117 | elapsed:  4.2min finished\n"
     ]
    },
    {
     "name": "stdout",
     "output_type": "stream",
     "text": [
      "Final score is:  0.7801666666666667\n"
     ]
    },
    {
     "data": {
      "text/plain": [
       "{'regressor__n_neighbors': 36}"
      ]
     },
     "execution_count": 105,
     "metadata": {},
     "output_type": "execute_result"
    }
   ],
   "source": [
    "#k to tetst\n",
    "k_to_test = np.arange(1, 40)\n",
    "\n",
    "pipe = Pipeline([\n",
    "            ('regressor', KNeighborsClassifier())\n",
    "            ])\n",
    "\n",
    "params = {'regressor__n_neighbors': k_to_test}\n",
    "\n",
    "gridsearch = GridSearchCV(pipe,params,n_jobs=4, verbose=1).fit(X_train, y_train)\n",
    "print('Final score is: ', gridsearch.score(X_test, y_test))\n",
    "\n",
    "#pipe = pipe.fit(X_train, y_train)\n",
    "gridsearch.best_params_"
   ]
  },
  {
   "cell_type": "code",
   "execution_count": 106,
   "metadata": {},
   "outputs": [
    {
     "name": "stdout",
     "output_type": "stream",
     "text": [
      "confusion matrix: \n",
      " [[4574   99]\n",
      " [1220  107]]\n",
      "precision:  [0.78943735 0.51941748]\n",
      "recall:  [0.97881447 0.08063301]\n",
      "F score:  [0.8739849  0.13959556]\n",
      "The precision score of class 1(default next month) is :0.5194174757281553\n"
     ]
    }
   ],
   "source": [
    "clf_knn2=KNeighborsClassifier(weights='uniform',n_neighbors=gridsearch.best_params_['regressor__n_neighbors'])\n",
    "clf_knn2.fit(X_train,y_train)\n",
    "y_pred=clf_knn2.predict(X_test)\n",
    "\n",
    "#print results\n",
    "get_results(y_test,y_pred)"
   ]
  },
  {
   "cell_type": "markdown",
   "metadata": {},
   "source": [
    "**Q 4:** Apply knn classifier using *'weighted'* strategy which gives different weights to different neighbors based on their distance from the focal data point. "
   ]
  },
  {
   "cell_type": "markdown",
   "metadata": {},
   "source": [
    "Hint: Modify the *weights* parameter of your knn classifier object, instantiated in the previous question."
   ]
  },
  {
   "cell_type": "code",
   "execution_count": 107,
   "metadata": {},
   "outputs": [
    {
     "name": "stdout",
     "output_type": "stream",
     "text": [
      "Fitting 3 folds for each of 39 candidates, totalling 117 fits\n"
     ]
    },
    {
     "name": "stderr",
     "output_type": "stream",
     "text": [
      "[Parallel(n_jobs=4)]: Done  42 tasks      | elapsed:  1.2min\n",
      "[Parallel(n_jobs=4)]: Done 117 out of 117 | elapsed:  4.2min finished\n"
     ]
    },
    {
     "name": "stdout",
     "output_type": "stream",
     "text": [
      "Final score is:  0.779\n"
     ]
    },
    {
     "data": {
      "text/plain": [
       "{'regressor__n_neighbors': 38}"
      ]
     },
     "execution_count": 107,
     "metadata": {},
     "output_type": "execute_result"
    }
   ],
   "source": [
    "#k to tetst\n",
    "k_to_test = np.arange(1, 40)\n",
    "\n",
    "pipe = Pipeline([\n",
    "            ('regressor', KNeighborsClassifier(weights='distance'))\n",
    "            ])\n",
    "\n",
    "params = {'regressor__n_neighbors': k_to_test}\n",
    "\n",
    "gridsearch = GridSearchCV(pipe,params,n_jobs=4, verbose=1).fit(X_train, y_train)\n",
    "print('Final score is: ', gridsearch.score(X_test, y_test))\n",
    "\n",
    "#pipe = pipe.fit(X_train, y_train)\n",
    "gridsearch.best_params_"
   ]
  },
  {
   "cell_type": "code",
   "execution_count": 108,
   "metadata": {},
   "outputs": [
    {
     "name": "stdout",
     "output_type": "stream",
     "text": [
      "confusion matrix: \n",
      " [[4534  139]\n",
      " [1187  140]]\n",
      "precision:  [0.79251879 0.50179211]\n",
      "recall:  [0.97025465 0.10550113]\n",
      "F score:  [0.8724264 0.1743462]\n",
      "The precision score of class 1(default next month) is :0.5017921146953405\n"
     ]
    }
   ],
   "source": [
    "clf_knn2=KNeighborsClassifier(weights='distance',n_neighbors=gridsearch.best_params_['regressor__n_neighbors'])\n",
    "clf_knn2.fit(X_train,y_train)\n",
    "y_pred=clf_knn2.predict(X_test)\n",
    "#print results\n",
    "get_results(y_test,y_pred)"
   ]
  },
  {
   "cell_type": "markdown",
   "metadata": {},
   "source": [
    "## Part 5: Prediction using Classifiers based on Decision Trees"
   ]
  },
  {
   "cell_type": "markdown",
   "metadata": {},
   "source": [
    "**Q 1:** How do you think about the required preprocessing for decision tree ? In particular discuss the case of one hot encoding and normalization."
   ]
  },
  {
   "cell_type": "markdown",
   "metadata": {},
   "source": [
    "##### Solution :\n",
    "- Preprocessing : ...\n",
    "    -One Hot Encoded\n",
    "- Normalization : ..."
   ]
  },
  {
   "cell_type": "markdown",
   "metadata": {},
   "source": [
    "**Q 2:** Fit a decision tree classifier to your data, with no hyper-parameter tuning, using training and test sets and report the performance of your model. Do the same with a different train and test set. How do the results compare? What are the most important features in either of the cases? Visualize your second tree classifier using *sklearn.tree.export_graphviz* function."
   ]
  },
  {
   "cell_type": "markdown",
   "metadata": {},
   "source": [
    "Hint: Use the *DecisionTreeClassifier* class from *sklearn.tree* package. The *feature_importances_* attribute of this classs, reports the importance of different features. "
   ]
  },
  {
   "cell_type": "code",
   "execution_count": 81,
   "metadata": {},
   "outputs": [],
   "source": [
    "def importance_features(clf,n_importance):\n",
    "    print(\"Importance of features \"+str(clf.feature_importances_))\n",
    "    arr = np.array(clf.feature_importances_)\n",
    "    idx = (-arr).argsort()[:n_importance]\n",
    "    print(\"The \"+str(n_importance)+\" most important features are \")\n",
    "    return X.columns[idx]"
   ]
  },
  {
   "cell_type": "code",
   "execution_count": 82,
   "metadata": {},
   "outputs": [
    {
     "name": "stdout",
     "output_type": "stream",
     "text": [
      "Mean accuracy : 0.731\n",
      "confusion matrix: \n",
      " [[3853  820]\n",
      " [ 794  533]]\n",
      "precision:  [0.82913708 0.39393939]\n",
      "recall:  [0.82452386 0.40165787]\n",
      "F score:  [0.82682403 0.39776119]\n",
      "The precision score of class 1(default next month) is :0.3939393939393939\n"
     ]
    }
   ],
   "source": [
    "from sklearn.tree import DecisionTreeClassifier\n",
    "X_train, X_test, y_train, y_test = train_test_split(X, y, test_size=0.2, random_state=1, stratify=y)\n",
    "\n",
    "decTree_clf = DecisionTreeClassifier()\n",
    "decTree_clf.fit(X=X_train,y=y_train)\n",
    "y_pred = decTree_clf.predict(X_test)\n",
    "\n",
    "#print results\n",
    "score = decTree_clf.score(X_test,y_test)\n",
    "print (\"Mean accuracy : \"+str(score))\n",
    "get_results(y_test,y_pred)"
   ]
  },
  {
   "cell_type": "code",
   "execution_count": 83,
   "metadata": {},
   "outputs": [
    {
     "name": "stdout",
     "output_type": "stream",
     "text": [
      "Importance of features [0.05600363 0.02274681 0.07497557 0.16151301 0.03444798 0.01148501\n",
      " 0.01096667 0.01071479 0.01151093 0.06516502 0.04981126 0.04386343\n",
      " 0.04213452 0.04193262 0.05097436 0.04733499 0.04403153 0.05937182\n",
      " 0.03327306 0.04560955 0.05207903 0.00682142 0.00780248 0.0007128\n",
      " 0.00673148 0.00651367 0.00147256]\n",
      "The 5 most important features are \n"
     ]
    },
    {
     "data": {
      "text/plain": [
       "Index(['PAY_1', 'AGE', 'BILL_AMT1', 'PAY_AMT3', 'LIMIT_BAL'], dtype='object')"
      ]
     },
     "execution_count": 83,
     "metadata": {},
     "output_type": "execute_result"
    }
   ],
   "source": [
    "importance_features(decTree_clf,5)"
   ]
  },
  {
   "cell_type": "code",
   "execution_count": 84,
   "metadata": {},
   "outputs": [
    {
     "name": "stdout",
     "output_type": "stream",
     "text": [
      "Mean accuracy : 0.7298333333333333\n",
      "confusion matrix: \n",
      " [[3803  870]\n",
      " [ 751  576]]\n",
      "precision:  [0.83509003 0.39834025]\n",
      "recall:  [0.8138241  0.43406179]\n",
      "F score:  [0.82431993 0.41543455]\n",
      "The precision score of class 1(default next month) is :0.3983402489626556\n",
      "Importance of features [0.06847666 0.0192049  0.06703385 0.16157826 0.03301541 0.00693859\n",
      " 0.00862445 0.00889787 0.01231635 0.06475555 0.05190677 0.04543107\n",
      " 0.04396475 0.04167039 0.05078537 0.04715333 0.05175381 0.05743657\n",
      " 0.03718585 0.04145127 0.05109278 0.00681504 0.00581707 0.00092672\n",
      " 0.00635947 0.00722212 0.00218574]\n"
     ]
    }
   ],
   "source": [
    "from sklearn.tree import DecisionTreeClassifier\n",
    "X_train, X_test, y_train, y_test = train_test_split(X, y, test_size=0.2, random_state=2, stratify=y)\n",
    "\n",
    "decTree_clf = DecisionTreeClassifier()\n",
    "decTree_clf.fit(X=X_train,y=y_train)\n",
    "y_pred = decTree_clf.predict(X_test)\n",
    "\n",
    "#print results\n",
    "score = decTree_clf.score(X_test,y_test)\n",
    "print (\"Mean accuracy : \"+str(score))\n",
    "get_results(y_test,y_pred)\n",
    "print(\"Importance of features \"+str(decTree_clf.feature_importances_))"
   ]
  },
  {
   "cell_type": "code",
   "execution_count": 85,
   "metadata": {},
   "outputs": [
    {
     "name": "stdout",
     "output_type": "stream",
     "text": [
      "Importance of features [0.06847666 0.0192049  0.06703385 0.16157826 0.03301541 0.00693859\n",
      " 0.00862445 0.00889787 0.01231635 0.06475555 0.05190677 0.04543107\n",
      " 0.04396475 0.04167039 0.05078537 0.04715333 0.05175381 0.05743657\n",
      " 0.03718585 0.04145127 0.05109278 0.00681504 0.00581707 0.00092672\n",
      " 0.00635947 0.00722212 0.00218574]\n",
      "The 5 most important features are \n"
     ]
    },
    {
     "data": {
      "text/plain": [
       "Index(['PAY_1', 'LIMIT_BAL', 'AGE', 'BILL_AMT1', 'PAY_AMT3'], dtype='object')"
      ]
     },
     "execution_count": 85,
     "metadata": {},
     "output_type": "execute_result"
    }
   ],
   "source": [
    "importance_features(decTree_clf,5)"
   ]
  },
  {
   "cell_type": "markdown",
   "metadata": {},
   "source": [
    "Both results are very Similar"
   ]
  },
  {
   "cell_type": "code",
   "execution_count": 86,
   "metadata": {},
   "outputs": [
    {
     "ename": "ImportError",
     "evalue": "No module named 'pydotplus'",
     "output_type": "error",
     "traceback": [
      "\u001b[0;31m---------------------------------------------------------------------------\u001b[0m",
      "\u001b[0;31mImportError\u001b[0m                               Traceback (most recent call last)",
      "\u001b[0;32m<ipython-input-86-93eec6ce8c4b>\u001b[0m in \u001b[0;36m<module>\u001b[0;34m()\u001b[0m\n\u001b[1;32m      3\u001b[0m \u001b[0;32mfrom\u001b[0m \u001b[0mIPython\u001b[0m\u001b[0;34m.\u001b[0m\u001b[0mdisplay\u001b[0m \u001b[0;32mimport\u001b[0m \u001b[0mImage\u001b[0m\u001b[0;34m\u001b[0m\u001b[0m\n\u001b[1;32m      4\u001b[0m \u001b[0;32mfrom\u001b[0m \u001b[0msklearn\u001b[0m\u001b[0;34m.\u001b[0m\u001b[0mtree\u001b[0m \u001b[0;32mimport\u001b[0m \u001b[0mexport_graphviz\u001b[0m\u001b[0;34m\u001b[0m\u001b[0m\n\u001b[0;32m----> 5\u001b[0;31m \u001b[0;32mimport\u001b[0m \u001b[0mpydotplus\u001b[0m\u001b[0;34m\u001b[0m\u001b[0m\n\u001b[0m\u001b[1;32m      6\u001b[0m \u001b[0;34m\u001b[0m\u001b[0m\n\u001b[1;32m      7\u001b[0m \u001b[0mdot_data\u001b[0m \u001b[0;34m=\u001b[0m \u001b[0mStringIO\u001b[0m\u001b[0;34m(\u001b[0m\u001b[0;34m)\u001b[0m\u001b[0;34m\u001b[0m\u001b[0m\n",
      "\u001b[0;31mImportError\u001b[0m: No module named 'pydotplus'"
     ]
    }
   ],
   "source": [
    "\n",
    "from sklearn.externals.six import StringIO  \n",
    "from IPython.display import Image  \n",
    "from sklearn.tree import export_graphviz\n",
    "import pydotplus\n",
    "\n",
    "dot_data = StringIO()\n",
    "export_graphviz(decTree_clf, out_file=dot_data,  \n",
    "                filled=True, rounded=True,\n",
    "                special_characters=True)\n",
    "graph = pydotplus.graph_from_dot_data(dot_data.getvalue())  \n",
    "Image(graph.create_png())"
   ]
  },
  {
   "cell_type": "code",
   "execution_count": null,
   "metadata": {},
   "outputs": [],
   "source": [
    "from subprocess import check_call\n",
    "check_call(['dot','-Tpng','tree.dot','-o','OutputFile.png'])"
   ]
  },
  {
   "cell_type": "markdown",
   "metadata": {},
   "source": [
    "**Q 3:** Fit a random forest classifier to your data by adjusting the total number of trees. How do your results compare to a single decision tree? report importance of different features."
   ]
  },
  {
   "cell_type": "markdown",
   "metadata": {},
   "source": [
    "Hint: Use the *RandomForestClassifier* class from *sklearn.ensemble* package."
   ]
  },
  {
   "cell_type": "code",
   "execution_count": 112,
   "metadata": {},
   "outputs": [
    {
     "name": "stdout",
     "output_type": "stream",
     "text": [
      "Fitting 3 folds for each of 199 candidates, totalling 597 fits\n"
     ]
    },
    {
     "name": "stderr",
     "output_type": "stream",
     "text": [
      "[Parallel(n_jobs=4)]: Done  58 tasks      | elapsed:   14.7s\n",
      "[Parallel(n_jobs=4)]: Done 208 tasks      | elapsed:  3.3min\n",
      "[Parallel(n_jobs=4)]: Done 458 tasks      | elapsed: 16.3min\n",
      "[Parallel(n_jobs=4)]: Done 597 out of 597 | elapsed: 27.9min finished\n"
     ]
    },
    {
     "name": "stdout",
     "output_type": "stream",
     "text": [
      "Final score is:  0.8166666666666667\n"
     ]
    },
    {
     "ename": "TypeError",
     "evalue": "__init__() got an unexpected keyword argument 'n_neighbors'",
     "output_type": "error",
     "traceback": [
      "\u001b[0;31m---------------------------------------------------------------------------\u001b[0m",
      "\u001b[0;31mTypeError\u001b[0m                                 Traceback (most recent call last)",
      "\u001b[0;32m<ipython-input-112-d166a26bf09f>\u001b[0m in \u001b[0;36m<module>\u001b[0;34m()\u001b[0m\n\u001b[1;32m     14\u001b[0m \u001b[0mprint\u001b[0m\u001b[0;34m(\u001b[0m\u001b[0;34m'Final score is: '\u001b[0m\u001b[0;34m,\u001b[0m \u001b[0mgridsearch\u001b[0m\u001b[0;34m.\u001b[0m\u001b[0mscore\u001b[0m\u001b[0;34m(\u001b[0m\u001b[0mX_test\u001b[0m\u001b[0;34m,\u001b[0m \u001b[0my_test\u001b[0m\u001b[0;34m)\u001b[0m\u001b[0;34m)\u001b[0m\u001b[0;34m\u001b[0m\u001b[0m\n\u001b[1;32m     15\u001b[0m \u001b[0;34m\u001b[0m\u001b[0m\n\u001b[0;32m---> 16\u001b[0;31m \u001b[0mrandTree_clf\u001b[0m \u001b[0;34m=\u001b[0m \u001b[0mRandomForestClassifier\u001b[0m\u001b[0;34m(\u001b[0m\u001b[0mn_neighbors\u001b[0m\u001b[0;34m=\u001b[0m\u001b[0mgridsearch\u001b[0m\u001b[0;34m.\u001b[0m\u001b[0mbest_params_\u001b[0m\u001b[0;34m[\u001b[0m\u001b[0;34m'regressor__n_estimators'\u001b[0m\u001b[0;34m]\u001b[0m\u001b[0;34m)\u001b[0m\u001b[0;34m\u001b[0m\u001b[0m\n\u001b[0m\u001b[1;32m     17\u001b[0m \u001b[0mrandTree_clf\u001b[0m\u001b[0;34m.\u001b[0m\u001b[0mfit\u001b[0m\u001b[0;34m(\u001b[0m\u001b[0mX\u001b[0m\u001b[0;34m=\u001b[0m\u001b[0mX_train\u001b[0m\u001b[0;34m,\u001b[0m\u001b[0my\u001b[0m\u001b[0;34m=\u001b[0m\u001b[0my_train\u001b[0m\u001b[0;34m)\u001b[0m\u001b[0;34m\u001b[0m\u001b[0m\n\u001b[1;32m     18\u001b[0m \u001b[0my_pred\u001b[0m \u001b[0;34m=\u001b[0m \u001b[0mrandTree_clf\u001b[0m\u001b[0;34m.\u001b[0m\u001b[0mpredict\u001b[0m\u001b[0;34m(\u001b[0m\u001b[0mX_test\u001b[0m\u001b[0;34m)\u001b[0m\u001b[0;34m\u001b[0m\u001b[0m\n",
      "\u001b[0;31mTypeError\u001b[0m: __init__() got an unexpected keyword argument 'n_neighbors'"
     ]
    }
   ],
   "source": [
    "from sklearn.ensemble import RandomForestClassifier \n",
    "\n",
    "X_train, X_test, y_train, y_test = train_test_split(X, y, test_size=0.2, random_state=1, stratify=y)\n",
    "\n",
    "n_to_test = np.arange(1, 200)\n",
    "\n",
    "pipe = Pipeline([\n",
    "            ('regressor', RandomForestClassifier())\n",
    "            ])\n",
    "\n",
    "params = {'regressor__n_estimators': n_to_test}\n",
    "\n",
    "gridsearch = GridSearchCV(pipe,params,n_jobs=4, verbose=1).fit(X_train, y_train)\n",
    "print('Final score is: ', gridsearch.score(X_test, y_test))\n"
   ]
  },
  {
   "cell_type": "code",
   "execution_count": 113,
   "metadata": {},
   "outputs": [
    {
     "name": "stdout",
     "output_type": "stream",
     "text": [
      "Mean accuracy : 0.8158333333333333\n",
      "confusion matrix: \n",
      " [[4392  281]\n",
      " [ 824  503]]\n",
      "precision:  [0.84202454 0.64158163]\n",
      "recall:  [0.93986732 0.37905049]\n",
      "F score:  [0.88825968 0.4765514 ]\n",
      "The precision score of class 1(default next month) is :0.6415816326530612\n"
     ]
    }
   ],
   "source": [
    "\n",
    "randTree_clf = RandomForestClassifier(n_estimators=gridsearch.best_params_['regressor__n_estimators'])\n",
    "randTree_clf.fit(X=X_train,y=y_train)\n",
    "y_pred = randTree_clf.predict(X_test)\n",
    "\n",
    "#print results\n",
    "score = randTree_clf.score(X_test,y_test)\n",
    "print (\"Mean accuracy : \"+str(score))\n",
    "get_results(y_test,y_pred)"
   ]
  },
  {
   "cell_type": "code",
   "execution_count": 114,
   "metadata": {},
   "outputs": [
    {
     "data": {
      "text/plain": [
       "131"
      ]
     },
     "execution_count": 114,
     "metadata": {},
     "output_type": "execute_result"
    }
   ],
   "source": [
    "gridsearch.best_params_['regressor__n_estimators']"
   ]
  },
  {
   "cell_type": "code",
   "execution_count": 115,
   "metadata": {},
   "outputs": [
    {
     "name": "stdout",
     "output_type": "stream",
     "text": [
      "Importance of features [0.05931126 0.01995874 0.0656581  0.09933462 0.0472319  0.02317351\n",
      " 0.02455875 0.02198946 0.01768895 0.06037702 0.05268554 0.05079133\n",
      " 0.04961764 0.04915152 0.04852466 0.05021566 0.04691439 0.04523865\n",
      " 0.04285169 0.04285532 0.04570146 0.00843819 0.00871725 0.00033025\n",
      " 0.00856199 0.00843093 0.00169121]\n",
      "The 5 most important features are \n"
     ]
    },
    {
     "data": {
      "text/plain": [
       "Index(['PAY_1', 'AGE', 'BILL_AMT1', 'LIMIT_BAL', 'BILL_AMT2'], dtype='object')"
      ]
     },
     "execution_count": 115,
     "metadata": {},
     "output_type": "execute_result"
    }
   ],
   "source": [
    "importance_features(randTree_clf,5)"
   ]
  },
  {
   "cell_type": "markdown",
   "metadata": {},
   "source": [
    "**Q 4:** Fit a gradient boosted tree classifier to your data by tunning the total number of trees. How do your results compare to the other models? What are the most important features?"
   ]
  },
  {
   "cell_type": "markdown",
   "metadata": {},
   "source": [
    "Hint: Use the *GradientBoostingClassifier* class from *sklearn.ensemble* package."
   ]
  },
  {
   "cell_type": "code",
   "execution_count": 89,
   "metadata": {},
   "outputs": [
    {
     "name": "stdout",
     "output_type": "stream",
     "text": [
      "Mean accuracy : 0.8205\n",
      "confusion matrix: \n",
      " [[4445  228]\n",
      " [ 849  478]]\n",
      "precision:  [0.83962977 0.67705382]\n",
      "recall:  [0.95120907 0.360211  ]\n",
      "F score:  [0.89194341 0.47024102]\n",
      "The precision score of class 1(default next month) is :0.6770538243626062\n"
     ]
    }
   ],
   "source": [
    "from sklearn.ensemble import GradientBoostingClassifier \n",
    "\n",
    "X_train, X_test, y_train, y_test = train_test_split(X, y, test_size=0.2, random_state=1, stratify=y)\n",
    "\n",
    "GradTree_clf = GradientBoostingClassifier()\n",
    "GradTree_clf.fit(X=X_train,y=y_train)\n",
    "y_pred = GradTree_clf.predict(X_test)\n",
    "\n",
    "#print results\n",
    "score = GradTree_clf.score(X_test,y_test)\n",
    "print (\"Mean accuracy : \"+str(score))\n",
    "get_results(y_test,y_pred)"
   ]
  },
  {
   "cell_type": "code",
   "execution_count": 90,
   "metadata": {},
   "outputs": [
    {
     "name": "stdout",
     "output_type": "stream",
     "text": [
      "Importance of features [0.06620478 0.02172896 0.04125565 0.15261758 0.02794735 0.02883496\n",
      " 0.02214051 0.03128873 0.02496172 0.11314753 0.05855562 0.04166046\n",
      " 0.03623507 0.03687666 0.03771943 0.05383595 0.0403825  0.03197003\n",
      " 0.02026025 0.05029455 0.02428331 0.0104192  0.00210666 0.00777023\n",
      " 0.0093936  0.0081087  0.        ]\n",
      "The 6 most important features are \n"
     ]
    },
    {
     "data": {
      "text/plain": [
       "Index(['PAY_1', 'BILL_AMT1', 'LIMIT_BAL', 'BILL_AMT2', 'PAY_AMT1', 'PAY_AMT5'], dtype='object')"
      ]
     },
     "execution_count": 90,
     "metadata": {},
     "output_type": "execute_result"
    }
   ],
   "source": [
    "importance_features(GradTree_clf,6)"
   ]
  },
  {
   "cell_type": "markdown",
   "metadata": {},
   "source": [
    "##### This is the best classifier we have so far !"
   ]
  },
  {
   "cell_type": "markdown",
   "metadata": {},
   "source": [
    "## Part 6: Feature Selection / Projection"
   ]
  },
  {
   "cell_type": "markdown",
   "metadata": {},
   "source": [
    "**Q 1:** Fit a logistic regression (with no l1 and l2 regularization) to the top 6 important features obtained from Q 4 of part 5. How do you compare the performance of this model to the logistic regression model trained on all features ?"
   ]
  },
  {
   "cell_type": "code",
   "execution_count": 50,
   "metadata": {},
   "outputs": [
    {
     "name": "stdout",
     "output_type": "stream",
     "text": [
      "   PAY_1  BILL_AMT1  LIMIT_BAL  PAY_AMT1  BILL_AMT2  PAY_AMT5\n",
      "0      2       3913      20000         0       3102         0\n",
      "1     -1       2682     120000         0       1725         0\n",
      "2      0      29239      90000      1518      14027      1000\n",
      "3      0      46990      50000      2000      48233      1069\n",
      "4     -1       8617      50000      2000       5670       689\n",
      "Mean accuracy : 0.7788333333333334\n",
      "confusion matrix: \n",
      " [[3203 1470]\n",
      " [ 735  592]]\n",
      "precision:  [0.81335703 0.2870999 ]\n",
      "recall:  [0.68542692 0.44611907]\n",
      "F score:  [0.74393218 0.34936559]\n",
      "The precision score of class 1(default next month) is :0.2870999030067895\n"
     ]
    }
   ],
   "source": [
    "X_6 = X.loc[:,['PAY_1', 'BILL_AMT1', 'LIMIT_BAL', 'PAY_AMT1', 'BILL_AMT2', 'PAY_AMT5']]\n",
    "\n",
    "print(X_6.head())\n",
    "\n",
    "X_train, X_test, y_train, y_test = train_test_split(X_6, y, test_size=0.2, random_state=1, stratify=y)\n",
    "\n",
    "\n",
    "X_train_normalized = preprocessing.normalize(X_train,norm='max')\n",
    "X_test_normalized = preprocessing.normalize(X_test,norm='max')\n",
    "\n",
    "lr_clf = LogisticRegression()\n",
    "lr_clf.fit(X_train_normalized,y_train)\n",
    "y_pred = lr_clf.predict(X_test)\n",
    "lr_score = lr_clf.score(X_test_normalized,y_test)\n",
    "\n",
    "print (\"Mean accuracy : \"+str(lr_score))\n",
    "get_results(y_test,y_pred)"
   ]
  },
  {
   "cell_type": "markdown",
   "metadata": {},
   "source": [
    "The results are slightly differente. The overral accuracy is the same but the precision of the class 1 is way better when training on all the features."
   ]
  },
  {
   "cell_type": "markdown",
   "metadata": {},
   "source": [
    "**Q 2:** Apply PCA to project your data into 6 dimensions and fit a logistic regression as Q 1. How you compare the performance of your model?"
   ]
  },
  {
   "cell_type": "markdown",
   "metadata": {},
   "source": [
    "Hint: Use the *PCA* class from *sklearn.decomposition* package. Create a pipeline consists of *StandardScaler*, *PCA* and *LogisticRegression* classes."
   ]
  },
  {
   "cell_type": "code",
   "execution_count": 59,
   "metadata": {},
   "outputs": [
    {
     "name": "stdout",
     "output_type": "stream",
     "text": [
      "Fitting 3 folds for each of 1 candidates, totalling 3 fits\n"
     ]
    },
    {
     "name": "stderr",
     "output_type": "stream",
     "text": [
      "[Parallel(n_jobs=1)]: Done   3 out of   3 | elapsed:    0.8s finished\n"
     ]
    },
    {
     "name": "stdout",
     "output_type": "stream",
     "text": [
      "Final score is:  0.8116666666666666\n"
     ]
    },
    {
     "data": {
      "text/plain": [
       "{'reduce_dim': PCA(copy=True, iterated_power='auto', n_components=None, random_state=None,\n",
       "   svd_solver='auto', tol=0.0, whiten=False)}"
      ]
     },
     "execution_count": 59,
     "metadata": {},
     "output_type": "execute_result"
    }
   ],
   "source": [
    "from sklearn.feature_selection import VarianceThreshold\n",
    "from sklearn.linear_model import LinearRegression, Lasso\n",
    "from sklearn.preprocessing import StandardScaler\n",
    "from sklearn.pipeline import Pipeline\n",
    "from sklearn.model_selection import GridSearchCV\n",
    "from sklearn.decomposition import PCA\n",
    "\n",
    "\n",
    "X_train, X_test, y_train, y_test = train_test_split(X, y, test_size=0.2, random_state=1, stratify=y)\n",
    "\n",
    "#As for the regularization factor, we consider an exponential range of values\n",
    "#alpha_to_test = 2.0**np.arange(-10, +6)\n",
    "\n",
    "pipe = Pipeline([\n",
    "            ('scaler', StandardScaler()),\n",
    "            ('reduce_dim',PCA(n_components=6)),\n",
    "            ('regressor', LogisticRegression())\n",
    "            ])\n",
    "params = {'reduce_dim': [PCA()]}\n",
    "\n",
    "gridsearch = GridSearchCV(pipe, params, verbose=1).fit(X_train, y_train)\n",
    "print('Final score is: ', gridsearch.score(X_test, y_test))\n",
    "\n",
    "#pipe = pipe.fit(X_train, y_train)\n",
    "gridsearch.best_params_\n"
   ]
  },
  {
   "cell_type": "code",
   "execution_count": 60,
   "metadata": {},
   "outputs": [
    {
     "name": "stdout",
     "output_type": "stream",
     "text": [
      "confusion matrix: \n",
      " [[3772 1789]\n",
      " [ 166  273]]\n",
      "precision:  [0.95784662 0.13239573]\n",
      "recall:  [0.67829527 0.62186788]\n",
      "F score:  [0.79418886 0.21831267]\n",
      "The precision score of class 1(default next month) is :0.13239573229873908\n"
     ]
    }
   ],
   "source": [
    "y_test = gridsearch.predict(X_test)\n",
    "get_results(y_test,y_pred)"
   ]
  },
  {
   "cell_type": "markdown",
   "metadata": {},
   "source": [
    "**Q 3:** Visualize your data in 2 dimensions using PCA. What is the disadvantage of PCA when used for visualizing high-dimensional data? What could be a better solution?"
   ]
  },
  {
   "cell_type": "markdown",
   "metadata": {},
   "source": [
    "Hint: Don't forget to normalize your data before applying PCA. Use *matplotlib.pyplot.scatter* function to plot your data in two dimensions."
   ]
  },
  {
   "cell_type": "markdown",
   "metadata": {},
   "source": [
    "##### Solution : \n",
    "The disadvantage of PCA when using visualization is that the axis don't not represent any comprehensible measure.\n",
    "We could instead use different plot with only 2 or 3 features each time"
   ]
  },
  {
   "cell_type": "code",
   "execution_count": 73,
   "metadata": {},
   "outputs": [
    {
     "data": {
      "image/png": "[encoded data removed]",
      "text/plain": [
       "<Figure size 432x288 with 1 Axes>"
      ]
     },
     "metadata": {},
     "output_type": "display_data"
    }
   ],
   "source": [
    "# We assume that we have to vizualize our features in 2 dimensions\n",
    "\n",
    "# normalize\n",
    "X_norm = preprocessing.normalize(X,norm='max')\n",
    "#pca\n",
    "pca = PCA(n_components=2)\n",
    "data = pca.fit(X)\n",
    "#plot\n",
    "plt.scatter(data.components_[0],data.components_[1])\n",
    "plt.show()"
   ]
  },
  {
   "cell_type": "markdown",
   "metadata": {},
   "source": [
    "## Part 7: Prediction Improvement: Better Model"
   ]
  },
  {
   "cell_type": "markdown",
   "metadata": {},
   "source": [
    "**Q 1:** If model A performas better than all other models for our problem, does it mean that it is in general a better model? Why?"
   ]
  },
  {
   "cell_type": "markdown",
   "metadata": {},
   "source": [
    "Hint: Google *no-free-lunch* theorem."
   ]
  },
  {
   "cell_type": "markdown",
   "metadata": {},
   "source": [
    "##### Solution :\n",
    "What the NFLT is trying to tell us is, we are generally not going to find off the shelf algorithms that fit perfectly to our data. We are going to have to architect the algorithm to better fit the data — for example, make a Neural Network recurrent to better fit a time series, or make an Multi Layer Perceptron into a Convolutional Neural Network to better understand the spacial information in the input data. \n",
    "Thus a composition of different model might be a better solution than individual model"
   ]
  },
  {
   "cell_type": "markdown",
   "metadata": {},
   "source": [
    "**Q 2:** Create a simple ensmble classifier using average predicted probabilities of  logistic regression (with l1 penalty), knn classifier, random forest classifier and gradient boosted classifier. Compare its performance with each of the 4 individual models."
   ]
  },
  {
   "cell_type": "code",
   "execution_count": 108,
   "metadata": {},
   "outputs": [
    {
     "name": "stdout",
     "output_type": "stream",
     "text": [
      "(6000, 2)\n",
      "[[0.88151379 0.11848621]\n",
      " [0.79969091 0.20030909]\n",
      " [0.91492909 0.08507091]\n",
      " ...\n",
      " [0.86914187 0.13085813]\n",
      " [0.8950265  0.1049735 ]\n",
      " [0.96135959 0.03864041]]\n"
     ]
    }
   ],
   "source": [
    "#lr\n",
    "lr_clf = LogisticRegression(penalty='l1',C=gridsearch.best_params_['regressor__C'])\n",
    "lr_clf.fit(X_train,y_train)\n",
    "#knn\n",
    "clf_knn2=KNeighborsClassifier(weights='uniform',n_neighbors=36)\n",
    "clf_knn2.fit(X_train,y_train)\n",
    "#random forest\n",
    "randTree_clf = RandomForestClassifier()\n",
    "randTree_clf.fit(X=X_train,y=y_train)\n",
    "#gradient boosted\n",
    "GradTree_clf = GradientBoostingClassifier()\n",
    "GradTree_clf.fit(X=X_train,y=y_train)\n",
    "y_pred_ensemble = (GradTree_clf.predict_proba(X_test)+randTree_clf.predict_proba(X_test)+lr_clf.predict_proba(X_test)+clf_knn2.predict_proba(X_test))/4\n",
    "print(y_pred.shape)\n",
    "print(y_pred)\n"
   ]
  },
  {
   "cell_type": "code",
   "execution_count": 111,
   "metadata": {},
   "outputs": [
    {
     "name": "stdout",
     "output_type": "stream",
     "text": [
      " The accuracy score of the ensemble classifier is \n",
      "0.8051666666666667\n"
     ]
    }
   ],
   "source": [
    "print(\" The accuracy score of the ensemble classifier is \")\n",
    "print(np.mean([GradTree_clf.score(X_test,y_test),randTree_clf.score(X_test,y_test),lr_clf.score(X_test,y_test),clf_knn2.score(X_test,y_test)]))\n"
   ]
  },
  {
   "cell_type": "markdown",
   "metadata": {},
   "source": [
    "Accuracy is similar to random forest lower than lr with pca(6) and gradientboost and greater than knn"
   ]
  },
  {
   "cell_type": "markdown",
   "metadata": {},
   "source": [
    "**Q 3:** How can you make your performance results statistically more reliable ?"
   ]
  },
  {
   "cell_type": "markdown",
   "metadata": {},
   "source": [
    "Hint: Consider selection bias in both tuning and testing steps."
   ]
  },
  {
   "cell_type": "code",
   "execution_count": null,
   "metadata": {},
   "outputs": [],
   "source": []
  },
  {
   "cell_type": "markdown",
   "metadata": {},
   "source": [
    "## Bonus: Food for Thought"
   ]
  },
  {
   "cell_type": "markdown",
   "metadata": {},
   "source": [
    "To read: https://homes.cs.washington.edu/~pedrod/papers/cacm12.pdf"
   ]
  },
  {
   "cell_type": "markdown",
   "metadata": {},
   "source": [
    "To watch: https://www.ted.com/talks/deb_roy_the_birth_of_a_word#t-316846"
   ]
  }
 ],
 "metadata": {
  "kernelspec": {
   "display_name": "Python 3",
   "language": "python",
   "name": "python3"
  },
  "language_info": {
   "codemirror_mode": {
    "name": "ipython",
    "version": 3
   },
   "file_extension": ".py",
   "mimetype": "text/x-python",
   "name": "python",
   "nbconvert_exporter": "python",
   "pygments_lexer": "ipython3",
   "version": "3.5.2"
  }
 },
 "nbformat": 4,
 "nbformat_minor": 2
}
