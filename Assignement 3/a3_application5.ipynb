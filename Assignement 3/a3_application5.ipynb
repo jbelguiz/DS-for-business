{
  "nbformat": 4,
  "nbformat_minor": 0,
  "metadata": {
    "colab": {
      "name": "a3-application.ipynb",
      "version": "0.3.2",
      "provenance": [],
      "collapsed_sections": [
        "bFmittrrZktJ",
        "Qv-CmHooZkvZ",
        "6bSS-ua2ZkxO"
      ]
    },
    "kernelspec": {
      "name": "python3",
      "display_name": "Python 3"
    },
    "accelerator": "GPU"
  },
  "cells": [
    {
      "metadata": {
        "id": "tdaEaiFyZks6",
        "colab_type": "text"
      },
      "cell_type": "markdown",
      "source": [
        "# DSFB Assignment 3 - Pre-Screening Funding Applications"
      ]
    },
    {
      "metadata": {
        "id": "jcHtwWu-Zks-",
        "colab_type": "text"
      },
      "cell_type": "markdown",
      "source": [
        "By [Omid Shahmirzadi](https://ch.linkedin.com/in/omidshahmirzadi) - Email  [omid.shahmirzadi@epfl.ch](mailto:omid.shahmirzadi@epfl.ch)"
      ]
    },
    {
      "metadata": {
        "id": "Wo_kd9TgZktA",
        "colab_type": "text"
      },
      "cell_type": "markdown",
      "source": [
        "Founded in 2000 by a high school teacher in the Bronx, DonorsChoose.org empowers public school teachers from across the country to request much-needed materials and experiences for their students. At any given time, there are thousands of classroom requests that can be brought to life with a gift of any amount.\n",
        "\n",
        "DonorsChoose.org receives hundreds of thousands of project proposals each year for classroom projects in need of funding. Right now, a large number of volunteers is needed to manually screen each submission before it's approved to be posted on the DonorsChoose.org website.\n",
        "\n",
        "The goal is to predict the chances that a DonorsChoose.org project proposal submitted by a teacher will be approved, using the text of project descriptions as well as additional metadata about the project, teacher, and school. DonorsChoose.org can then use this information to identify projects most likely to need further review before approval and hence to save the time of volunteer reviewers so that they can focus on more solid projects.\n",
        "\n",
        "Your machine learning algorithm can help more teachers get funded more quickly, and with less cost to DonorsChoose.org, allowing them to channel even more funding directly to classrooms across the country."
      ]
    },
    {
      "metadata": {
        "id": "I-xS-wK-ZktE",
        "colab_type": "text"
      },
      "cell_type": "markdown",
      "source": [
        "![](https://cached.imagescaler.hbpl.co.uk/resize/scaleWidth/580/cached.offlinehbpl.hbpl.co.uk/news/NST/C8B9CC1D-03B0-9B80-4CFE78B5B539240F.jpg)\n",
        "\n",
        "Image source: https://cached.imagescaler.hbpl.co.uk/resize/scaleWidth/580/cached.offlinehbpl.hbpl.co.uk/news/NST/C8B9CC1D-03B0-9B80-4CFE78B5B539240F.jpg"
      ]
    },
    {
      "metadata": {
        "id": "OgleALqLZktF",
        "colab_type": "text"
      },
      "cell_type": "markdown",
      "source": [
        "Dataset source: https://www.kaggle.com/c/donorschoose-application-screening/data"
      ]
    },
    {
      "metadata": {
        "id": "bLSNpyhaZktH",
        "colab_type": "text"
      },
      "cell_type": "markdown",
      "source": [
        "As you will see, this dataset includes many different kinds of features with structured and unstructured data. You need to predict whether an application needs further study. To assess the quality of your predictions, consider the area under the curve (AUC). \n",
        "\n",
        "The features are listed as follows (see *application_data.csv*):\n",
        "\n",
        "  * id - unique id of the project application  \n",
        "\n",
        "  * teacher_id - id of the teacher submitting the application  \n",
        "\n",
        "  * teacher_prefix - title of the teacher's name (Ms., Mr., etc.)  \n",
        "\n",
        "  * school_state - US state of the teacher's school  \n",
        "\n",
        "  * project_submitted_datetime - application submission timestamp  \n",
        "\n",
        "  * project_grade_category - school grade levels (PreK-2, 3-5, 6-8, and 9-12)  \n",
        "\n",
        "  * project_subject_categories - category of the project (e.g., \"Music & The Arts\")  \n",
        "\n",
        "  * project_subject_subcategories - sub-category of the project (e.g., \"Visual Arts\")  \n",
        "\n",
        "  * project_title - title of the project  \n",
        "\n",
        "  * project_essay_1 - first essay*  \n",
        "\n",
        "  * project_essay_2 - second essay*  \n",
        "\n",
        "  * project_essay_3 - third essay*  \n",
        "\n",
        "  * project_essay_4 - fourth essay*  \n",
        "\n",
        "  * project_resource_summary - summary of the resources needed for the project  \n",
        "\n",
        "  * teacher_number_of_previously_posted_projects - number of previously posted applications by the submitting teacher  \n",
        "\n",
        "  * project_is_approved - whether DonorsChoose proposal was accepted (0=\"rejected\", 1=\"accepted\"); train.csv only  \n",
        "\n",
        "\n",
        "Note: Prior to May 17, 2016, the prompts for the essays were as follows:\n",
        "\n",
        "  * project_essay_1: \"Introduce us to your classroom\"  \n",
        "\n",
        "  * project_essay_2: \"Tell us more about your students\"  \n",
        "\n",
        "  * project_essay_3: \"Describe how your students will use the materials you're requesting\"  \n",
        "\n",
        "  * project_essay_4: \"Close by sharing why your project will make a difference\"  \n",
        "\n",
        "Starting on May 17, 2016, the number of essays was reduced from 4 to 2, and the prompts for the first 2 essays were changed to the following:\n",
        "\n",
        "  * project_essay_1: \"Describe your students: What makes your students special? Specific details about their background, your neighborhood, and your school are all helpful.\"  \n",
        "\n",
        "  * project_essay_2: \"About your project: How will these materials make a difference in your students' learning and improve their school lives?\"  \n",
        "\n",
        "\n",
        "For all projects with project_submitted_datetime of 2016-05-17 and later, the values of project_essay_3 and project_essay_4 will be NaN.\n",
        "\n",
        "Proposals also include resources requested. Each project may include multiple requested resources (see *resource_data.csv*). Each row in *resource_data.csv* corresponds to a resource, so multiple rows may tie to the same project by id.\n",
        "\n",
        "  * id - unique id of the project application; joins with test.csv. and train.csv on id  \n",
        "\n",
        "  * description - description of the resource requested  \n",
        "\n",
        "  * quantity - quantity of resource requested  \n",
        "\n",
        "  * price - price of resource requested  \n",
        "\n",
        "You can create a group of up to three to discuss the problem, however every body is encouraged to implement the solution on his own machine. Remember to name your group mates in your submission. \n"
      ]
    },
    {
      "metadata": {
        "id": "bFmittrrZktJ",
        "colab_type": "text"
      },
      "cell_type": "markdown",
      "source": [
        "## Part 1: Data Preperation, Data Cleaning and EDA"
      ]
    },
    {
      "metadata": {
        "id": "wsMDCIbOZktL",
        "colab_type": "text"
      },
      "cell_type": "markdown",
      "source": [
        "**Q 1:** Unlike other problems, this problem includes a big training set which is more than the standard size limit of github. Through the terminal lab of Jupyter lab, download it using wget command and unzip it using zip command and put it in the root directory of the problem. \n",
        "\n",
        "Locations : \n",
        "\n",
        "    Applications dataset: https://storage.googleapis.com/dsfm/application/application_data.csv.zip\n",
        "    Resources dataset: https://storage.googleapis.com/dsfm/application/resource_data.csv.zip"
      ]
    },
    {
      "metadata": {
        "id": "DU3nPLh_ZktO",
        "colab_type": "text"
      },
      "cell_type": "markdown",
      "source": [
        "Hint: Use *wget* and *unzip* commands. Use ! followed by a bash command in a cell to run a bash command."
      ]
    },
    {
      "metadata": {
        "id": "F9MZob7DZktR",
        "colab_type": "text"
      },
      "cell_type": "markdown",
      "source": [
        "##### Downloaded  outside the notebook"
      ]
    },
    {
      "metadata": {
        "id": "JXhoLFHyZktV",
        "colab_type": "code",
        "outputId": "8d75dfb2-cea1-43ca-ecb7-1ba7ec23a69d",
        "colab": {
          "base_uri": "https://localhost:8080/",
          "height": 421
        }
      },
      "cell_type": "code",
      "source": [
        "! wget https://storage.googleapis.com/dsfm/application/application_data.csv.zip\n",
        "#! unzip https://storage.googleapis.com/dsfm/application/application_data.csv.zip\n",
        "    \n",
        "!wget https://storage.googleapis.com/dsfm/application/resource_data.csv.zip\n",
        "#!unzip https://storage.googleapis.com/dsfm/application/resource_data.csv.zip"
      ],
      "execution_count": 1,
      "outputs": [
        {
          "output_type": "stream",
          "text": [
            "--2018-12-04 09:06:39--  https://storage.googleapis.com/dsfm/application/application_data.csv.zip\n",
            "Resolving storage.googleapis.com (storage.googleapis.com)... 74.125.206.128, 2a00:1450:400c:c04::80\n",
            "Connecting to storage.googleapis.com (storage.googleapis.com)|74.125.206.128|:443... connected.\n",
            "HTTP request sent, awaiting response... 200 OK\n",
            "Length: 113169833 (108M) [application/zip]\n",
            "Saving to: ‘application_data.csv.zip’\n",
            "\n",
            "\rapplication_data.cs   0%[                    ]       0  --.-KB/s               \rapplication_data.cs  25%[====>               ]  27.71M   139MB/s               \rapplication_data.cs  62%[===========>        ]  67.95M   170MB/s               \rapplication_data.cs 100%[===================>] 107.93M   180MB/s    in 0.6s    \n",
            "\n",
            "2018-12-04 09:06:40 (180 MB/s) - ‘application_data.csv.zip’ saved [113169833/113169833]\n",
            "\n",
            "--2018-12-04 09:06:42--  https://storage.googleapis.com/dsfm/application/resource_data.csv.zip\n",
            "Resolving storage.googleapis.com (storage.googleapis.com)... 74.125.206.128, 2a00:1450:400c:c04::80\n",
            "Connecting to storage.googleapis.com (storage.googleapis.com)|74.125.206.128|:443... connected.\n",
            "HTTP request sent, awaiting response... 200 OK\n",
            "Length: 42396552 (40M) [application/zip]\n",
            "Saving to: ‘resource_data.csv.zip’\n",
            "\n",
            "resource_data.csv.z 100%[===================>]  40.43M   141MB/s    in 0.3s    \n",
            "\n",
            "2018-12-04 09:06:42 (141 MB/s) - ‘resource_data.csv.zip’ saved [42396552/42396552]\n",
            "\n"
          ],
          "name": "stdout"
        }
      ]
    },
    {
      "metadata": {
        "id": "8rt-39D5dq3a",
        "colab_type": "code",
        "colab": {
          "base_uri": "https://localhost:8080/",
          "height": 90
        },
        "outputId": "3a48b7eb-2c41-420b-d4f2-1894ed98f7c0"
      },
      "cell_type": "code",
      "source": [
        "! unzip application_data.csv.zip\n",
        "    \n",
        "#!wget https://storage.googleapis.com/dsfm/application/resource_data.csv.zip\n",
        "!unzip resource_data.csv.zip"
      ],
      "execution_count": 2,
      "outputs": [
        {
          "output_type": "stream",
          "text": [
            "Archive:  application_data.csv.zip\n",
            "  inflating: application_data.csv    \n",
            "Archive:  resource_data.csv.zip\n",
            "  inflating: resource_data.csv       \n"
          ],
          "name": "stdout"
        }
      ]
    },
    {
      "metadata": {
        "id": "Wee6-cBzZktj",
        "colab_type": "text"
      },
      "cell_type": "markdown",
      "source": [
        "**Q 2:** Load the datasets and investigate their features. What could be a unifying strategy to create the same ‘project essay’ columns? Apply your strategy and deal with missing values afterwards."
      ]
    },
    {
      "metadata": {
        "id": "JFWH46QfZktk",
        "colab_type": "text"
      },
      "cell_type": "markdown",
      "source": [
        "##### One way to proceed is to combine for every project before the 17th may of 2016 project_essay_1 with project_essay_2 and project_essay_3 with project_essay_4 to place them in project_essay_1 and project_essay2 respectively."
      ]
    },
    {
      "metadata": {
        "id": "MXtvmlhNZktm",
        "colab_type": "code",
        "outputId": "74b2e88e-c77d-4c64-ad85-0162ed48a297",
        "colab": {
          "base_uri": "https://localhost:8080/",
          "height": 505
        }
      },
      "cell_type": "code",
      "source": [
        "import warnings\n",
        "import pandas as pd\n",
        "%matplotlib inline\n",
        "\n",
        "app_data = pd.read_csv('application_data.csv')\n",
        "print(len(app_data))\n",
        "app_data.head()"
      ],
      "execution_count": 91,
      "outputs": [
        {
          "output_type": "stream",
          "text": [
            "182080\n"
          ],
          "name": "stdout"
        },
        {
          "output_type": "execute_result",
          "data": {
            "text/html": [
              "<div>\n",
              "<style scoped>\n",
              "    .dataframe tbody tr th:only-of-type {\n",
              "        vertical-align: middle;\n",
              "    }\n",
              "\n",
              "    .dataframe tbody tr th {\n",
              "        vertical-align: top;\n",
              "    }\n",
              "\n",
              "    .dataframe thead th {\n",
              "        text-align: right;\n",
              "    }\n",
              "</style>\n",
              "<table border=\"1\" class=\"dataframe\">\n",
              "  <thead>\n",
              "    <tr style=\"text-align: right;\">\n",
              "      <th></th>\n",
              "      <th>id</th>\n",
              "      <th>teacher_id</th>\n",
              "      <th>teacher_prefix</th>\n",
              "      <th>school_state</th>\n",
              "      <th>project_submitted_datetime</th>\n",
              "      <th>project_grade_category</th>\n",
              "      <th>project_subject_categories</th>\n",
              "      <th>project_subject_subcategories</th>\n",
              "      <th>project_title</th>\n",
              "      <th>project_essay_1</th>\n",
              "      <th>project_essay_2</th>\n",
              "      <th>project_essay_3</th>\n",
              "      <th>project_essay_4</th>\n",
              "      <th>project_resource_summary</th>\n",
              "      <th>teacher_number_of_previously_posted_projects</th>\n",
              "      <th>project_is_approved</th>\n",
              "    </tr>\n",
              "  </thead>\n",
              "  <tbody>\n",
              "    <tr>\n",
              "      <th>0</th>\n",
              "      <td>p036502</td>\n",
              "      <td>484aaf11257089a66cfedc9461c6bd0a</td>\n",
              "      <td>Ms.</td>\n",
              "      <td>NV</td>\n",
              "      <td>2016-11-18 14:45:59</td>\n",
              "      <td>Grades PreK-2</td>\n",
              "      <td>Literacy &amp; Language</td>\n",
              "      <td>Literacy</td>\n",
              "      <td>Super Sight Word Centers</td>\n",
              "      <td>Most of my kindergarten students come from low...</td>\n",
              "      <td>I currently have a differentiated sight word c...</td>\n",
              "      <td>NaN</td>\n",
              "      <td>NaN</td>\n",
              "      <td>My students need 6 Ipod Nano's to create and d...</td>\n",
              "      <td>26</td>\n",
              "      <td>1</td>\n",
              "    </tr>\n",
              "    <tr>\n",
              "      <th>1</th>\n",
              "      <td>p039565</td>\n",
              "      <td>df72a3ba8089423fa8a94be88060f6ed</td>\n",
              "      <td>Mrs.</td>\n",
              "      <td>GA</td>\n",
              "      <td>2017-04-26 15:57:28</td>\n",
              "      <td>Grades 3-5</td>\n",
              "      <td>Music &amp; The Arts, Health &amp; Sports</td>\n",
              "      <td>Performing Arts, Team Sports</td>\n",
              "      <td>Keep Calm and Dance On</td>\n",
              "      <td>Our elementary school is a culturally rich sch...</td>\n",
              "      <td>We strive to provide our diverse population of...</td>\n",
              "      <td>NaN</td>\n",
              "      <td>NaN</td>\n",
              "      <td>My students need matching shirts to wear for d...</td>\n",
              "      <td>1</td>\n",
              "      <td>0</td>\n",
              "    </tr>\n",
              "    <tr>\n",
              "      <th>2</th>\n",
              "      <td>p233823</td>\n",
              "      <td>a9b876a9252e08a55e3d894150f75ba3</td>\n",
              "      <td>Ms.</td>\n",
              "      <td>UT</td>\n",
              "      <td>2017-01-01 22:57:44</td>\n",
              "      <td>Grades 3-5</td>\n",
              "      <td>Math &amp; Science, Literacy &amp; Language</td>\n",
              "      <td>Applied Sciences, Literature &amp; Writing</td>\n",
              "      <td>Lets 3Doodle to Learn</td>\n",
              "      <td>Hello;\\r\\nMy name is Mrs. Brotherton. I teach ...</td>\n",
              "      <td>We are looking to add some 3Doodler to our cla...</td>\n",
              "      <td>NaN</td>\n",
              "      <td>NaN</td>\n",
              "      <td>My students need the 3doodler. We are an SEM s...</td>\n",
              "      <td>5</td>\n",
              "      <td>1</td>\n",
              "    </tr>\n",
              "    <tr>\n",
              "      <th>3</th>\n",
              "      <td>p185307</td>\n",
              "      <td>525fdbb6ec7f538a48beebaa0a51b24f</td>\n",
              "      <td>Mr.</td>\n",
              "      <td>NC</td>\n",
              "      <td>2016-08-12 15:42:11</td>\n",
              "      <td>Grades 3-5</td>\n",
              "      <td>Health &amp; Sports</td>\n",
              "      <td>Health &amp; Wellness</td>\n",
              "      <td>\\\"Kid Inspired\\\" Equipment to Increase Activit...</td>\n",
              "      <td>My students are the greatest students but are ...</td>\n",
              "      <td>The student's project which is totally \\\"kid-i...</td>\n",
              "      <td>NaN</td>\n",
              "      <td>NaN</td>\n",
              "      <td>My students need balls and other activity equi...</td>\n",
              "      <td>16</td>\n",
              "      <td>0</td>\n",
              "    </tr>\n",
              "    <tr>\n",
              "      <th>4</th>\n",
              "      <td>p013780</td>\n",
              "      <td>a63b5547a7239eae4c1872670848e61a</td>\n",
              "      <td>Mr.</td>\n",
              "      <td>CA</td>\n",
              "      <td>2016-08-06 09:09:11</td>\n",
              "      <td>Grades 6-8</td>\n",
              "      <td>Health &amp; Sports</td>\n",
              "      <td>Health &amp; Wellness</td>\n",
              "      <td>We need clean water for our culinary arts class!</td>\n",
              "      <td>My students are athletes and students who are ...</td>\n",
              "      <td>For some reason in our kitchen the water comes...</td>\n",
              "      <td>NaN</td>\n",
              "      <td>NaN</td>\n",
              "      <td>My students need a water filtration system for...</td>\n",
              "      <td>42</td>\n",
              "      <td>1</td>\n",
              "    </tr>\n",
              "  </tbody>\n",
              "</table>\n",
              "</div>"
            ],
            "text/plain": [
              "        id                        teacher_id teacher_prefix school_state  \\\n",
              "0  p036502  484aaf11257089a66cfedc9461c6bd0a            Ms.           NV   \n",
              "1  p039565  df72a3ba8089423fa8a94be88060f6ed           Mrs.           GA   \n",
              "2  p233823  a9b876a9252e08a55e3d894150f75ba3            Ms.           UT   \n",
              "3  p185307  525fdbb6ec7f538a48beebaa0a51b24f            Mr.           NC   \n",
              "4  p013780  a63b5547a7239eae4c1872670848e61a            Mr.           CA   \n",
              "\n",
              "  project_submitted_datetime project_grade_category  \\\n",
              "0        2016-11-18 14:45:59          Grades PreK-2   \n",
              "1        2017-04-26 15:57:28             Grades 3-5   \n",
              "2        2017-01-01 22:57:44             Grades 3-5   \n",
              "3        2016-08-12 15:42:11             Grades 3-5   \n",
              "4        2016-08-06 09:09:11             Grades 6-8   \n",
              "\n",
              "            project_subject_categories  \\\n",
              "0                  Literacy & Language   \n",
              "1    Music & The Arts, Health & Sports   \n",
              "2  Math & Science, Literacy & Language   \n",
              "3                      Health & Sports   \n",
              "4                      Health & Sports   \n",
              "\n",
              "            project_subject_subcategories  \\\n",
              "0                                Literacy   \n",
              "1            Performing Arts, Team Sports   \n",
              "2  Applied Sciences, Literature & Writing   \n",
              "3                       Health & Wellness   \n",
              "4                       Health & Wellness   \n",
              "\n",
              "                                       project_title  \\\n",
              "0                           Super Sight Word Centers   \n",
              "1                             Keep Calm and Dance On   \n",
              "2                              Lets 3Doodle to Learn   \n",
              "3  \\\"Kid Inspired\\\" Equipment to Increase Activit...   \n",
              "4   We need clean water for our culinary arts class!   \n",
              "\n",
              "                                     project_essay_1  \\\n",
              "0  Most of my kindergarten students come from low...   \n",
              "1  Our elementary school is a culturally rich sch...   \n",
              "2  Hello;\\r\\nMy name is Mrs. Brotherton. I teach ...   \n",
              "3  My students are the greatest students but are ...   \n",
              "4  My students are athletes and students who are ...   \n",
              "\n",
              "                                     project_essay_2 project_essay_3  \\\n",
              "0  I currently have a differentiated sight word c...             NaN   \n",
              "1  We strive to provide our diverse population of...             NaN   \n",
              "2  We are looking to add some 3Doodler to our cla...             NaN   \n",
              "3  The student's project which is totally \\\"kid-i...             NaN   \n",
              "4  For some reason in our kitchen the water comes...             NaN   \n",
              "\n",
              "  project_essay_4                           project_resource_summary  \\\n",
              "0             NaN  My students need 6 Ipod Nano's to create and d...   \n",
              "1             NaN  My students need matching shirts to wear for d...   \n",
              "2             NaN  My students need the 3doodler. We are an SEM s...   \n",
              "3             NaN  My students need balls and other activity equi...   \n",
              "4             NaN  My students need a water filtration system for...   \n",
              "\n",
              "   teacher_number_of_previously_posted_projects  project_is_approved  \n",
              "0                                            26                    1  \n",
              "1                                             1                    0  \n",
              "2                                             5                    1  \n",
              "3                                            16                    0  \n",
              "4                                            42                    1  "
            ]
          },
          "metadata": {
            "tags": []
          },
          "execution_count": 91
        }
      ]
    },
    {
      "metadata": {
        "id": "tgAoxcQAZktw",
        "colab_type": "code",
        "outputId": "7485648b-de9a-4937-997e-4f508b7e7d0c",
        "colab": {
          "base_uri": "https://localhost:8080/",
          "height": 72
        }
      },
      "cell_type": "code",
      "source": [
        "from datetime import datetime\n",
        "# First we convert the column dateTime to a object called datetime.date much more useful for futur use\n",
        "print(type(app_data.project_submitted_datetime[0]))\n",
        "app_data.project_submitted_datetime = app_data.project_submitted_datetime.apply(lambda x: datetime.strptime(x, '%Y-%m-%d %H:%M:%S') )\n",
        "print(type(app_data.project_submitted_datetime[0]))\n",
        "app_data.project_submitted_datetime = app_data.project_submitted_datetime.apply(lambda x: x.date() )\n",
        "print(type(app_data.project_submitted_datetime[0]))"
      ],
      "execution_count": 92,
      "outputs": [
        {
          "output_type": "stream",
          "text": [
            "<class 'str'>\n",
            "<class 'pandas._libs.tslib.Timestamp'>\n",
            "<class 'datetime.date'>\n"
          ],
          "name": "stdout"
        }
      ]
    },
    {
      "metadata": {
        "id": "KX0DH_6rZkt4",
        "colab_type": "code",
        "outputId": "00692e5a-61ff-48d8-b821-eba42288e0ab",
        "colab": {
          "base_uri": "https://localhost:8080/",
          "height": 201
        }
      },
      "cell_type": "code",
      "source": [
        "# Now we need to merge project_essay_1 with project_essay_2 as described above\n",
        "# To do so we need to use the columnproject_submitted_datime updated before\n",
        "\n",
        "#17 may 2016\n",
        "critical_date = datetime.strptime('17052016', \"%d%m%Y\").date()\n",
        "\n",
        "# Loop over every rows\n",
        "for index, row in app_data.iterrows():\n",
        "    # Check if before critical date\n",
        "    if row.project_submitted_datetime < critical_date:\n",
        "        # Update project essay 1 and 2 \n",
        "        app_data['project_essay_1'][index] = row['project_essay_1']+\" \"+row['project_essay_2']\n",
        "        app_data['project_essay_2'][index] = row['project_essay_3']+\" \"+row['project_essay_4']\n",
        "        \n",
        "# try to use the following and check for time\n",
        "\n",
        "# Concat diff columns with the following line\n",
        "# dataframe[\"period\"] = dataframe[\"Year\"].map(str) + dataframe[\"quarter\"]"
      ],
      "execution_count": 93,
      "outputs": [
        {
          "output_type": "stream",
          "text": [
            "/usr/local/lib/python3.6/dist-packages/ipykernel_launcher.py:8: SettingWithCopyWarning: \n",
            "A value is trying to be set on a copy of a slice from a DataFrame\n",
            "\n",
            "See the caveats in the documentation: http://pandas.pydata.org/pandas-docs/stable/indexing.html#indexing-view-versus-copy\n",
            "  \n",
            "/usr/local/lib/python3.6/dist-packages/ipykernel_launcher.py:9: SettingWithCopyWarning: \n",
            "A value is trying to be set on a copy of a slice from a DataFrame\n",
            "\n",
            "See the caveats in the documentation: http://pandas.pydata.org/pandas-docs/stable/indexing.html#indexing-view-versus-copy\n",
            "  if __name__ == '__main__':\n"
          ],
          "name": "stderr"
        }
      ]
    },
    {
      "metadata": {
        "id": "EpG_KIVyZkuD",
        "colab_type": "text"
      },
      "cell_type": "markdown",
      "source": [
        "**Q 3:** Merge resources dataset into application dataset. You can aggregate the total cost of requested resources for every project and merge it into applications dataset using the *id* field. "
      ]
    },
    {
      "metadata": {
        "id": "Mbo5ci1rZkuG",
        "colab_type": "text"
      },
      "cell_type": "markdown",
      "source": [
        "Hint: Use *groupby* and *agg* functions of dataframe to create aggregates. Use *merge* function of *Pandas* to merge two dataframes."
      ]
    },
    {
      "metadata": {
        "id": "PScBtDtLZkuH",
        "colab_type": "code",
        "outputId": "47d5b89b-5fa8-4586-d33a-5a7c8b16388f",
        "colab": {
          "base_uri": "https://localhost:8080/",
          "height": 206
        }
      },
      "cell_type": "code",
      "source": [
        "# load the data\n",
        "resource_data = pd.read_csv('resource_data.csv')\n",
        "resource_data.head()"
      ],
      "execution_count": 94,
      "outputs": [
        {
          "output_type": "execute_result",
          "data": {
            "text/html": [
              "<div>\n",
              "<style scoped>\n",
              "    .dataframe tbody tr th:only-of-type {\n",
              "        vertical-align: middle;\n",
              "    }\n",
              "\n",
              "    .dataframe tbody tr th {\n",
              "        vertical-align: top;\n",
              "    }\n",
              "\n",
              "    .dataframe thead th {\n",
              "        text-align: right;\n",
              "    }\n",
              "</style>\n",
              "<table border=\"1\" class=\"dataframe\">\n",
              "  <thead>\n",
              "    <tr style=\"text-align: right;\">\n",
              "      <th></th>\n",
              "      <th>id</th>\n",
              "      <th>description</th>\n",
              "      <th>quantity</th>\n",
              "      <th>price</th>\n",
              "    </tr>\n",
              "  </thead>\n",
              "  <tbody>\n",
              "    <tr>\n",
              "      <th>0</th>\n",
              "      <td>p233245</td>\n",
              "      <td>LC652 - Lakeshore Double-Space Mobile Drying Rack</td>\n",
              "      <td>1</td>\n",
              "      <td>149.00</td>\n",
              "    </tr>\n",
              "    <tr>\n",
              "      <th>1</th>\n",
              "      <td>p069063</td>\n",
              "      <td>Bouncy Bands for Desks (Blue support pipes)</td>\n",
              "      <td>3</td>\n",
              "      <td>14.95</td>\n",
              "    </tr>\n",
              "    <tr>\n",
              "      <th>2</th>\n",
              "      <td>p069063</td>\n",
              "      <td>Cory Stories: A Kid's Book About Living With Adhd</td>\n",
              "      <td>1</td>\n",
              "      <td>8.45</td>\n",
              "    </tr>\n",
              "    <tr>\n",
              "      <th>3</th>\n",
              "      <td>p069063</td>\n",
              "      <td>Dixon Ticonderoga Wood-Cased #2 HB Pencils, Bo...</td>\n",
              "      <td>2</td>\n",
              "      <td>13.59</td>\n",
              "    </tr>\n",
              "    <tr>\n",
              "      <th>4</th>\n",
              "      <td>p069063</td>\n",
              "      <td>EDUCATIONAL INSIGHTS FLUORESCENT LIGHT FILTERS...</td>\n",
              "      <td>3</td>\n",
              "      <td>24.95</td>\n",
              "    </tr>\n",
              "  </tbody>\n",
              "</table>\n",
              "</div>"
            ],
            "text/plain": [
              "        id                                        description  quantity  \\\n",
              "0  p233245  LC652 - Lakeshore Double-Space Mobile Drying Rack         1   \n",
              "1  p069063        Bouncy Bands for Desks (Blue support pipes)         3   \n",
              "2  p069063  Cory Stories: A Kid's Book About Living With Adhd         1   \n",
              "3  p069063  Dixon Ticonderoga Wood-Cased #2 HB Pencils, Bo...         2   \n",
              "4  p069063  EDUCATIONAL INSIGHTS FLUORESCENT LIGHT FILTERS...         3   \n",
              "\n",
              "    price  \n",
              "0  149.00  \n",
              "1   14.95  \n",
              "2    8.45  \n",
              "3   13.59  \n",
              "4   24.95  "
            ]
          },
          "metadata": {
            "tags": []
          },
          "execution_count": 94
        }
      ]
    },
    {
      "metadata": {
        "id": "Dt2JEihwZkuM",
        "colab_type": "code",
        "outputId": "f22cc227-9511-4e35-b824-a39f6682f270",
        "colab": {
          "base_uri": "https://localhost:8080/",
          "height": 225
        }
      },
      "cell_type": "code",
      "source": [
        "# multiply quantity and price in new colulmn totalPrice\n",
        "# groupby ID and sum all totalprice with same ID\n",
        "# we can drop the description for the resources since there is a summary of the description of the resources needed in the other DF.\n",
        "\n",
        "resource_data['totalPrice'] = resource_data['quantity']*resource_data['price']\n",
        "resource_data_update = pd.DataFrame(resource_data.groupby('id').totalPrice.agg('sum'))\n",
        "resource_data_update.reset_index(inplace=True)\n",
        "print(len(resource_data_update))\n",
        "resource_data_update.head()"
      ],
      "execution_count": 95,
      "outputs": [
        {
          "output_type": "stream",
          "text": [
            "260115\n"
          ],
          "name": "stdout"
        },
        {
          "output_type": "execute_result",
          "data": {
            "text/html": [
              "<div>\n",
              "<style scoped>\n",
              "    .dataframe tbody tr th:only-of-type {\n",
              "        vertical-align: middle;\n",
              "    }\n",
              "\n",
              "    .dataframe tbody tr th {\n",
              "        vertical-align: top;\n",
              "    }\n",
              "\n",
              "    .dataframe thead th {\n",
              "        text-align: right;\n",
              "    }\n",
              "</style>\n",
              "<table border=\"1\" class=\"dataframe\">\n",
              "  <thead>\n",
              "    <tr style=\"text-align: right;\">\n",
              "      <th></th>\n",
              "      <th>id</th>\n",
              "      <th>totalPrice</th>\n",
              "    </tr>\n",
              "  </thead>\n",
              "  <tbody>\n",
              "    <tr>\n",
              "      <th>0</th>\n",
              "      <td>p000001</td>\n",
              "      <td>833.63</td>\n",
              "    </tr>\n",
              "    <tr>\n",
              "      <th>1</th>\n",
              "      <td>p000002</td>\n",
              "      <td>630.28</td>\n",
              "    </tr>\n",
              "    <tr>\n",
              "      <th>2</th>\n",
              "      <td>p000003</td>\n",
              "      <td>298.97</td>\n",
              "    </tr>\n",
              "    <tr>\n",
              "      <th>3</th>\n",
              "      <td>p000004</td>\n",
              "      <td>1126.22</td>\n",
              "    </tr>\n",
              "    <tr>\n",
              "      <th>4</th>\n",
              "      <td>p000005</td>\n",
              "      <td>702.31</td>\n",
              "    </tr>\n",
              "  </tbody>\n",
              "</table>\n",
              "</div>"
            ],
            "text/plain": [
              "        id  totalPrice\n",
              "0  p000001      833.63\n",
              "1  p000002      630.28\n",
              "2  p000003      298.97\n",
              "3  p000004     1126.22\n",
              "4  p000005      702.31"
            ]
          },
          "metadata": {
            "tags": []
          },
          "execution_count": 95
        }
      ]
    },
    {
      "metadata": {
        "id": "aSMh6SxbZkuT",
        "colab_type": "code",
        "outputId": "5de52f9a-1888-46dc-e5e3-8857711c883d",
        "colab": {
          "base_uri": "https://localhost:8080/",
          "height": 505
        }
      },
      "cell_type": "code",
      "source": [
        "# Now we need to merge both dataframes with respect to the ID column\n",
        "\n",
        "merged_data = app_data.merge(resource_data_update,how='outer',on='id')\n",
        "\n",
        "print(len(merged_data))\n",
        "merged_data.head()"
      ],
      "execution_count": 96,
      "outputs": [
        {
          "output_type": "stream",
          "text": [
            "260115\n"
          ],
          "name": "stdout"
        },
        {
          "output_type": "execute_result",
          "data": {
            "text/html": [
              "<div>\n",
              "<style scoped>\n",
              "    .dataframe tbody tr th:only-of-type {\n",
              "        vertical-align: middle;\n",
              "    }\n",
              "\n",
              "    .dataframe tbody tr th {\n",
              "        vertical-align: top;\n",
              "    }\n",
              "\n",
              "    .dataframe thead th {\n",
              "        text-align: right;\n",
              "    }\n",
              "</style>\n",
              "<table border=\"1\" class=\"dataframe\">\n",
              "  <thead>\n",
              "    <tr style=\"text-align: right;\">\n",
              "      <th></th>\n",
              "      <th>id</th>\n",
              "      <th>teacher_id</th>\n",
              "      <th>teacher_prefix</th>\n",
              "      <th>school_state</th>\n",
              "      <th>project_submitted_datetime</th>\n",
              "      <th>project_grade_category</th>\n",
              "      <th>project_subject_categories</th>\n",
              "      <th>project_subject_subcategories</th>\n",
              "      <th>project_title</th>\n",
              "      <th>project_essay_1</th>\n",
              "      <th>project_essay_2</th>\n",
              "      <th>project_essay_3</th>\n",
              "      <th>project_essay_4</th>\n",
              "      <th>project_resource_summary</th>\n",
              "      <th>teacher_number_of_previously_posted_projects</th>\n",
              "      <th>project_is_approved</th>\n",
              "      <th>totalPrice</th>\n",
              "    </tr>\n",
              "  </thead>\n",
              "  <tbody>\n",
              "    <tr>\n",
              "      <th>0</th>\n",
              "      <td>p036502</td>\n",
              "      <td>484aaf11257089a66cfedc9461c6bd0a</td>\n",
              "      <td>Ms.</td>\n",
              "      <td>NV</td>\n",
              "      <td>2016-11-18</td>\n",
              "      <td>Grades PreK-2</td>\n",
              "      <td>Literacy &amp; Language</td>\n",
              "      <td>Literacy</td>\n",
              "      <td>Super Sight Word Centers</td>\n",
              "      <td>Most of my kindergarten students come from low...</td>\n",
              "      <td>I currently have a differentiated sight word c...</td>\n",
              "      <td>NaN</td>\n",
              "      <td>NaN</td>\n",
              "      <td>My students need 6 Ipod Nano's to create and d...</td>\n",
              "      <td>26.0</td>\n",
              "      <td>1.0</td>\n",
              "      <td>899.94</td>\n",
              "    </tr>\n",
              "    <tr>\n",
              "      <th>1</th>\n",
              "      <td>p039565</td>\n",
              "      <td>df72a3ba8089423fa8a94be88060f6ed</td>\n",
              "      <td>Mrs.</td>\n",
              "      <td>GA</td>\n",
              "      <td>2017-04-26</td>\n",
              "      <td>Grades 3-5</td>\n",
              "      <td>Music &amp; The Arts, Health &amp; Sports</td>\n",
              "      <td>Performing Arts, Team Sports</td>\n",
              "      <td>Keep Calm and Dance On</td>\n",
              "      <td>Our elementary school is a culturally rich sch...</td>\n",
              "      <td>We strive to provide our diverse population of...</td>\n",
              "      <td>NaN</td>\n",
              "      <td>NaN</td>\n",
              "      <td>My students need matching shirts to wear for d...</td>\n",
              "      <td>1.0</td>\n",
              "      <td>0.0</td>\n",
              "      <td>400.00</td>\n",
              "    </tr>\n",
              "    <tr>\n",
              "      <th>2</th>\n",
              "      <td>p233823</td>\n",
              "      <td>a9b876a9252e08a55e3d894150f75ba3</td>\n",
              "      <td>Ms.</td>\n",
              "      <td>UT</td>\n",
              "      <td>2017-01-01</td>\n",
              "      <td>Grades 3-5</td>\n",
              "      <td>Math &amp; Science, Literacy &amp; Language</td>\n",
              "      <td>Applied Sciences, Literature &amp; Writing</td>\n",
              "      <td>Lets 3Doodle to Learn</td>\n",
              "      <td>Hello;\\r\\nMy name is Mrs. Brotherton. I teach ...</td>\n",
              "      <td>We are looking to add some 3Doodler to our cla...</td>\n",
              "      <td>NaN</td>\n",
              "      <td>NaN</td>\n",
              "      <td>My students need the 3doodler. We are an SEM s...</td>\n",
              "      <td>5.0</td>\n",
              "      <td>1.0</td>\n",
              "      <td>469.99</td>\n",
              "    </tr>\n",
              "    <tr>\n",
              "      <th>3</th>\n",
              "      <td>p185307</td>\n",
              "      <td>525fdbb6ec7f538a48beebaa0a51b24f</td>\n",
              "      <td>Mr.</td>\n",
              "      <td>NC</td>\n",
              "      <td>2016-08-12</td>\n",
              "      <td>Grades 3-5</td>\n",
              "      <td>Health &amp; Sports</td>\n",
              "      <td>Health &amp; Wellness</td>\n",
              "      <td>\\\"Kid Inspired\\\" Equipment to Increase Activit...</td>\n",
              "      <td>My students are the greatest students but are ...</td>\n",
              "      <td>The student's project which is totally \\\"kid-i...</td>\n",
              "      <td>NaN</td>\n",
              "      <td>NaN</td>\n",
              "      <td>My students need balls and other activity equi...</td>\n",
              "      <td>16.0</td>\n",
              "      <td>0.0</td>\n",
              "      <td>684.47</td>\n",
              "    </tr>\n",
              "    <tr>\n",
              "      <th>4</th>\n",
              "      <td>p013780</td>\n",
              "      <td>a63b5547a7239eae4c1872670848e61a</td>\n",
              "      <td>Mr.</td>\n",
              "      <td>CA</td>\n",
              "      <td>2016-08-06</td>\n",
              "      <td>Grades 6-8</td>\n",
              "      <td>Health &amp; Sports</td>\n",
              "      <td>Health &amp; Wellness</td>\n",
              "      <td>We need clean water for our culinary arts class!</td>\n",
              "      <td>My students are athletes and students who are ...</td>\n",
              "      <td>For some reason in our kitchen the water comes...</td>\n",
              "      <td>NaN</td>\n",
              "      <td>NaN</td>\n",
              "      <td>My students need a water filtration system for...</td>\n",
              "      <td>42.0</td>\n",
              "      <td>1.0</td>\n",
              "      <td>711.00</td>\n",
              "    </tr>\n",
              "  </tbody>\n",
              "</table>\n",
              "</div>"
            ],
            "text/plain": [
              "        id                        teacher_id teacher_prefix school_state  \\\n",
              "0  p036502  484aaf11257089a66cfedc9461c6bd0a            Ms.           NV   \n",
              "1  p039565  df72a3ba8089423fa8a94be88060f6ed           Mrs.           GA   \n",
              "2  p233823  a9b876a9252e08a55e3d894150f75ba3            Ms.           UT   \n",
              "3  p185307  525fdbb6ec7f538a48beebaa0a51b24f            Mr.           NC   \n",
              "4  p013780  a63b5547a7239eae4c1872670848e61a            Mr.           CA   \n",
              "\n",
              "  project_submitted_datetime project_grade_category  \\\n",
              "0                 2016-11-18          Grades PreK-2   \n",
              "1                 2017-04-26             Grades 3-5   \n",
              "2                 2017-01-01             Grades 3-5   \n",
              "3                 2016-08-12             Grades 3-5   \n",
              "4                 2016-08-06             Grades 6-8   \n",
              "\n",
              "            project_subject_categories  \\\n",
              "0                  Literacy & Language   \n",
              "1    Music & The Arts, Health & Sports   \n",
              "2  Math & Science, Literacy & Language   \n",
              "3                      Health & Sports   \n",
              "4                      Health & Sports   \n",
              "\n",
              "            project_subject_subcategories  \\\n",
              "0                                Literacy   \n",
              "1            Performing Arts, Team Sports   \n",
              "2  Applied Sciences, Literature & Writing   \n",
              "3                       Health & Wellness   \n",
              "4                       Health & Wellness   \n",
              "\n",
              "                                       project_title  \\\n",
              "0                           Super Sight Word Centers   \n",
              "1                             Keep Calm and Dance On   \n",
              "2                              Lets 3Doodle to Learn   \n",
              "3  \\\"Kid Inspired\\\" Equipment to Increase Activit...   \n",
              "4   We need clean water for our culinary arts class!   \n",
              "\n",
              "                                     project_essay_1  \\\n",
              "0  Most of my kindergarten students come from low...   \n",
              "1  Our elementary school is a culturally rich sch...   \n",
              "2  Hello;\\r\\nMy name is Mrs. Brotherton. I teach ...   \n",
              "3  My students are the greatest students but are ...   \n",
              "4  My students are athletes and students who are ...   \n",
              "\n",
              "                                     project_essay_2 project_essay_3  \\\n",
              "0  I currently have a differentiated sight word c...             NaN   \n",
              "1  We strive to provide our diverse population of...             NaN   \n",
              "2  We are looking to add some 3Doodler to our cla...             NaN   \n",
              "3  The student's project which is totally \\\"kid-i...             NaN   \n",
              "4  For some reason in our kitchen the water comes...             NaN   \n",
              "\n",
              "  project_essay_4                           project_resource_summary  \\\n",
              "0             NaN  My students need 6 Ipod Nano's to create and d...   \n",
              "1             NaN  My students need matching shirts to wear for d...   \n",
              "2             NaN  My students need the 3doodler. We are an SEM s...   \n",
              "3             NaN  My students need balls and other activity equi...   \n",
              "4             NaN  My students need a water filtration system for...   \n",
              "\n",
              "   teacher_number_of_previously_posted_projects  project_is_approved  \\\n",
              "0                                          26.0                  1.0   \n",
              "1                                           1.0                  0.0   \n",
              "2                                           5.0                  1.0   \n",
              "3                                          16.0                  0.0   \n",
              "4                                          42.0                  1.0   \n",
              "\n",
              "   totalPrice  \n",
              "0      899.94  \n",
              "1      400.00  \n",
              "2      469.99  \n",
              "3      684.47  \n",
              "4      711.00  "
            ]
          },
          "metadata": {
            "tags": []
          },
          "execution_count": 96
        }
      ]
    },
    {
      "metadata": {
        "id": "rgQMz8WAZkua",
        "colab_type": "code",
        "outputId": "64a1ab89-cd89-4de7-9384-646773e9c301",
        "colab": {}
      },
      "cell_type": "code",
      "source": [
        "import matplotlib.pyplot as plt\n",
        "import seaborn as sns\n",
        "%matplotlib inline\n",
        "\n",
        "# Visualize pattern of missing data\n",
        "sns.heatmap(merged_data.isnull())"
      ],
      "execution_count": 0,
      "outputs": [
        {
          "output_type": "execute_result",
          "data": {
            "text/plain": [
              "<matplotlib.axes._subplots.AxesSubplot at 0xe945cfac50>"
            ]
          },
          "metadata": {
            "tags": []
          },
          "execution_count": 9
        },
        {
          "output_type": "display_data",
          "data": {
            "image/png": "[encoded data removed]",
            "text/plain": [
              "<Figure size 432x288 with 2 Axes>"
            ]
          },
          "metadata": {
            "tags": [],
            "needs_background": "light"
          }
        }
      ]
    },
    {
      "metadata": {
        "id": "f7bXBoXwZkuh",
        "colab_type": "text"
      },
      "cell_type": "markdown",
      "source": [
        "##### We can see that since we had more ID in resource_data than in application_data we have approximatly 1/4 of the data to drop.\n",
        "Moreover we need to drop the columns porject_essay_3 & project_essay_4.\n",
        "\n",
        "We also have a nan in the teacher prefix than we need to fix before we jump to the next question"
      ]
    },
    {
      "metadata": {
        "id": "9hl_fsjfZkui",
        "colab_type": "code",
        "colab": {}
      },
      "cell_type": "code",
      "source": [
        "# drop of columns project_essay_3 and project_essay_4\n",
        "merged_data.drop(labels=['project_essay_3','project_essay_4'],axis='columns',inplace=True)\n",
        "# drop rows where the project title is missing\n",
        "merged_data.drop(labels=merged_data[merged_data['project_title'].isnull()].index.tolist(),axis='index',inplace=True)"
      ],
      "execution_count": 0,
      "outputs": []
    },
    {
      "metadata": {
        "id": "FRwHonNhZkum",
        "colab_type": "code",
        "outputId": "62e16d76-51ab-42dd-f6a9-f1fe4ebbbe2b",
        "colab": {}
      },
      "cell_type": "code",
      "source": [
        "sns.heatmap(merged_data.isnull())"
      ],
      "execution_count": 0,
      "outputs": [
        {
          "output_type": "execute_result",
          "data": {
            "text/plain": [
              "<matplotlib.axes._subplots.AxesSubplot at 0xe9454686d8>"
            ]
          },
          "metadata": {
            "tags": []
          },
          "execution_count": 11
        },
        {
          "output_type": "display_data",
          "data": {
            "image/png": "[encoded data removed]",
            "text/plain": [
              "<Figure size 432x288 with 2 Axes>"
            ]
          },
          "metadata": {
            "tags": [],
            "needs_background": "light"
          }
        }
      ]
    },
    {
      "metadata": {
        "id": "s8hju1iDZkuu",
        "colab_type": "code",
        "outputId": "62dd9809-479a-43e1-9297-2a3afb0a1870",
        "colab": {
          "base_uri": "https://localhost:8080/",
          "height": 35
        }
      },
      "cell_type": "code",
      "source": [
        "#check if we still have missing values\n",
        "print(merged_data.isnull().values.sum())\n"
      ],
      "execution_count": 8,
      "outputs": [
        {
          "output_type": "stream",
          "text": [
            "4\n"
          ],
          "name": "stdout"
        }
      ]
    },
    {
      "metadata": {
        "id": "z7eL118oZku5",
        "colab_type": "text"
      },
      "cell_type": "markdown",
      "source": [
        "We still have 4 Nan in our dataset that we we need to take care of. We decide to drop those observations."
      ]
    },
    {
      "metadata": {
        "id": "AGqJ67iRZku7",
        "colab_type": "code",
        "outputId": "fe7e0ea4-2a49-49f4-874a-3ad4a0c5a924",
        "colab": {
          "base_uri": "https://localhost:8080/",
          "height": 54
        }
      },
      "cell_type": "code",
      "source": [
        "print(merged_data.shape)\n",
        "merged_data.dropna(axis=0, how='any', thresh=None, subset=None, inplace=True)\n",
        "print(merged_data.shape)"
      ],
      "execution_count": 98,
      "outputs": [
        {
          "output_type": "stream",
          "text": [
            "(182080, 15)\n",
            "(182076, 15)\n"
          ],
          "name": "stdout"
        }
      ]
    },
    {
      "metadata": {
        "id": "V7rmUD1QZkvB",
        "colab_type": "text"
      },
      "cell_type": "markdown",
      "source": [
        "**Q 4:**  Separate your merged dataset into features and target and visualize distribution of the target. Why area under the ROC curve is a suitable classification metric?"
      ]
    },
    {
      "metadata": {
        "id": "jRiBJIplZkvD",
        "colab_type": "code",
        "outputId": "6425f640-d02b-4604-e67b-4d85218c09cb",
        "colab": {
          "base_uri": "https://localhost:8080/",
          "height": 35
        }
      },
      "cell_type": "code",
      "source": [
        "import platform\n",
        "\n",
        "print(platform.python_version())"
      ],
      "execution_count": 99,
      "outputs": [
        {
          "output_type": "stream",
          "text": [
            "3.6.7\n"
          ],
          "name": "stdout"
        }
      ]
    },
    {
      "metadata": {
        "id": "Ym41b2z5ZkvK",
        "colab_type": "code",
        "outputId": "eb0f5fec-4fa0-4698-fcf1-e006db96beee",
        "colab": {
          "base_uri": "https://localhost:8080/",
          "height": 209
        }
      },
      "cell_type": "code",
      "source": [
        "#split features and target values\n",
        "\n",
        "features = merged_data.drop(labels=['id','totalPrice'],axis = 'columns')\n",
        "target = merged_data['totalPrice']\n",
        "\n",
        "sns.distplot(target)"
      ],
      "execution_count": 123,
      "outputs": [
        {
          "output_type": "error",
          "ename": "NameError",
          "evalue": "ignored",
          "traceback": [
            "\u001b[0;31m---------------------------------------------------------------------------\u001b[0m",
            "\u001b[0;31mNameError\u001b[0m                                 Traceback (most recent call last)",
            "\u001b[0;32m<ipython-input-123-b7ddb1df80d4>\u001b[0m in \u001b[0;36m<module>\u001b[0;34m()\u001b[0m\n\u001b[1;32m      3\u001b[0m \u001b[0mtarget\u001b[0m \u001b[0;34m=\u001b[0m \u001b[0mmerged_data\u001b[0m\u001b[0;34m[\u001b[0m\u001b[0;34m'totalPrice'\u001b[0m\u001b[0;34m]\u001b[0m\u001b[0;34m\u001b[0m\u001b[0;34m\u001b[0m\u001b[0m\n\u001b[1;32m      4\u001b[0m \u001b[0;34m\u001b[0m\u001b[0m\n\u001b[0;32m----> 5\u001b[0;31m \u001b[0msns\u001b[0m\u001b[0;34m.\u001b[0m\u001b[0mdistplot\u001b[0m\u001b[0;34m(\u001b[0m\u001b[0mtarget\u001b[0m\u001b[0;34m)\u001b[0m\u001b[0;34m\u001b[0m\u001b[0;34m\u001b[0m\u001b[0m\n\u001b[0m",
            "\u001b[0;31mNameError\u001b[0m: name 'sns' is not defined"
          ]
        }
      ]
    },
    {
      "metadata": {
        "id": "grcf0zNzZkvR",
        "colab_type": "text"
      },
      "cell_type": "markdown",
      "source": [
        "We ould prefer to have our target data looking like a gaussian. Therefore we try to applay a log transform on them"
      ]
    },
    {
      "metadata": {
        "id": "IFj8E0OYZkvU",
        "colab_type": "code",
        "outputId": "2b668ed2-dcb4-43a0-b636-445e283b5ad8",
        "colab": {}
      },
      "cell_type": "code",
      "source": [
        "import numpy as np\n",
        "\n",
        "target= np.log1p(target)\n",
        "sns.distplot(target)"
      ],
      "execution_count": 0,
      "outputs": [
        {
          "output_type": "stream",
          "text": [
            "C:\\Users\\Julien\\Anaconda3\\lib\\site-packages\\scipy\\stats\\stats.py:1713: FutureWarning: Using a non-tuple sequence for multidimensional indexing is deprecated; use `arr[tuple(seq)]` instead of `arr[seq]`. In the future this will be interpreted as an array index, `arr[np.array(seq)]`, which will result either in an error or a different result.\n",
            "  return np.add.reduce(sorted[indexer] * weights, axis=axis) / sumval\n"
          ],
          "name": "stderr"
        },
        {
          "output_type": "execute_result",
          "data": {
            "text/plain": [
              "<matplotlib.axes._subplots.AxesSubplot at 0xe90b051be0>"
            ]
          },
          "metadata": {
            "tags": []
          },
          "execution_count": 16
        },
        {
          "output_type": "display_data",
          "data": {
            "image/png": "[encoded data removed]",
            "text/plain": [
              "<Figure size 432x288 with 1 Axes>"
            ]
          },
          "metadata": {
            "tags": [],
            "needs_background": "light"
          }
        }
      ]
    },
    {
      "metadata": {
        "id": "OnvHCRYHZkvY",
        "colab_type": "text"
      },
      "cell_type": "markdown",
      "source": [
        "This distribution looks way more as a gaussian than the one before thus we will use it for the rest of the notebook"
      ]
    },
    {
      "metadata": {
        "id": "Qv-CmHooZkvZ",
        "colab_type": "text"
      },
      "cell_type": "markdown",
      "source": [
        "## Part 2: Encoding Categorical / DateTime Features"
      ]
    },
    {
      "metadata": {
        "id": "LE3wb07JZkvZ",
        "colab_type": "text"
      },
      "cell_type": "markdown",
      "source": [
        "**Q 1:** What would be a possible issue with one hot encoding of teacher_id column? Can you think of another way to encode this feature?"
      ]
    },
    {
      "metadata": {
        "id": "8Yj_mRqrZkva",
        "colab_type": "text"
      },
      "cell_type": "markdown",
      "source": [
        "**Since all the teachers ID are different if we one hot encod the colomn then we would add roughly 150000 features which is way too much. Anyway the teacher ID is not really relevant. We could instead count the number of time a teacher is maker a query and therefore replace \"teacher_id\" column by nb of demand by this teacher ( \"nbProject_teacher\")**"
      ]
    },
    {
      "metadata": {
        "scrolled": true,
        "id": "jrmfiCrIZkvg",
        "colab_type": "code",
        "outputId": "3bbcb018-81db-4a88-ff2c-a66875e72642",
        "colab": {
          "base_uri": "https://localhost:8080/",
          "height": 505
        }
      },
      "cell_type": "code",
      "source": [
        "#DROP TEACHER ID OR NOT\n",
        "#for index,row in features.iterrows():\n",
        "value_count = features.teacher_id.value_counts()\n",
        "#print((value_count))\n",
        "print(value_count['fa2f220b537e8653fb48878ebb38044d'])\n",
        "#print(value_count[value_count.index ==fa2f220b537e8653fb48878ebb38044d].teacher_id)\n",
        "\n",
        "\n",
        "features['nbProject_teacher']=features['teacher_id'].apply(lambda x: value_count[x])\n",
        "\n",
        "features.drop(columns=\"teacher_id\",inplace=True,axis='columns')\n",
        "\n",
        "features.head()"
      ],
      "execution_count": 124,
      "outputs": [
        {
          "output_type": "stream",
          "text": [
            "74\n"
          ],
          "name": "stdout"
        },
        {
          "output_type": "execute_result",
          "data": {
            "text/html": [
              "<div>\n",
              "<style scoped>\n",
              "    .dataframe tbody tr th:only-of-type {\n",
              "        vertical-align: middle;\n",
              "    }\n",
              "\n",
              "    .dataframe tbody tr th {\n",
              "        vertical-align: top;\n",
              "    }\n",
              "\n",
              "    .dataframe thead th {\n",
              "        text-align: right;\n",
              "    }\n",
              "</style>\n",
              "<table border=\"1\" class=\"dataframe\">\n",
              "  <thead>\n",
              "    <tr style=\"text-align: right;\">\n",
              "      <th></th>\n",
              "      <th>teacher_prefix</th>\n",
              "      <th>school_state</th>\n",
              "      <th>project_submitted_datetime</th>\n",
              "      <th>project_grade_category</th>\n",
              "      <th>project_subject_categories</th>\n",
              "      <th>project_subject_subcategories</th>\n",
              "      <th>project_title</th>\n",
              "      <th>project_essay_1</th>\n",
              "      <th>project_essay_2</th>\n",
              "      <th>project_resource_summary</th>\n",
              "      <th>teacher_number_of_previously_posted_projects</th>\n",
              "      <th>project_is_approved</th>\n",
              "      <th>nbProject_teacher</th>\n",
              "    </tr>\n",
              "  </thead>\n",
              "  <tbody>\n",
              "    <tr>\n",
              "      <th>0</th>\n",
              "      <td>Ms.</td>\n",
              "      <td>NV</td>\n",
              "      <td>2016-11-18</td>\n",
              "      <td>Grades PreK-2</td>\n",
              "      <td>Literacy &amp; Language</td>\n",
              "      <td>Literacy</td>\n",
              "      <td>Super Sight Word Centers</td>\n",
              "      <td>Most of my kindergarten students come from low...</td>\n",
              "      <td>I currently have a differentiated sight word c...</td>\n",
              "      <td>My students need 6 Ipod Nano's to create and d...</td>\n",
              "      <td>26.0</td>\n",
              "      <td>1.0</td>\n",
              "      <td>10</td>\n",
              "    </tr>\n",
              "    <tr>\n",
              "      <th>1</th>\n",
              "      <td>Mrs.</td>\n",
              "      <td>GA</td>\n",
              "      <td>2017-04-26</td>\n",
              "      <td>Grades 3-5</td>\n",
              "      <td>Music &amp; The Arts, Health &amp; Sports</td>\n",
              "      <td>Performing Arts, Team Sports</td>\n",
              "      <td>Keep Calm and Dance On</td>\n",
              "      <td>Our elementary school is a culturally rich sch...</td>\n",
              "      <td>We strive to provide our diverse population of...</td>\n",
              "      <td>My students need matching shirts to wear for d...</td>\n",
              "      <td>1.0</td>\n",
              "      <td>0.0</td>\n",
              "      <td>1</td>\n",
              "    </tr>\n",
              "    <tr>\n",
              "      <th>2</th>\n",
              "      <td>Ms.</td>\n",
              "      <td>UT</td>\n",
              "      <td>2017-01-01</td>\n",
              "      <td>Grades 3-5</td>\n",
              "      <td>Math &amp; Science, Literacy &amp; Language</td>\n",
              "      <td>Applied Sciences, Literature &amp; Writing</td>\n",
              "      <td>Lets 3Doodle to Learn</td>\n",
              "      <td>Hello;\\r\\nMy name is Mrs. Brotherton. I teach ...</td>\n",
              "      <td>We are looking to add some 3Doodler to our cla...</td>\n",
              "      <td>My students need the 3doodler. We are an SEM s...</td>\n",
              "      <td>5.0</td>\n",
              "      <td>1.0</td>\n",
              "      <td>4</td>\n",
              "    </tr>\n",
              "    <tr>\n",
              "      <th>3</th>\n",
              "      <td>Mr.</td>\n",
              "      <td>NC</td>\n",
              "      <td>2016-08-12</td>\n",
              "      <td>Grades 3-5</td>\n",
              "      <td>Health &amp; Sports</td>\n",
              "      <td>Health &amp; Wellness</td>\n",
              "      <td>\\\"Kid Inspired\\\" Equipment to Increase Activit...</td>\n",
              "      <td>My students are the greatest students but are ...</td>\n",
              "      <td>The student's project which is totally \\\"kid-i...</td>\n",
              "      <td>My students need balls and other activity equi...</td>\n",
              "      <td>16.0</td>\n",
              "      <td>0.0</td>\n",
              "      <td>16</td>\n",
              "    </tr>\n",
              "    <tr>\n",
              "      <th>4</th>\n",
              "      <td>Mr.</td>\n",
              "      <td>CA</td>\n",
              "      <td>2016-08-06</td>\n",
              "      <td>Grades 6-8</td>\n",
              "      <td>Health &amp; Sports</td>\n",
              "      <td>Health &amp; Wellness</td>\n",
              "      <td>We need clean water for our culinary arts class!</td>\n",
              "      <td>My students are athletes and students who are ...</td>\n",
              "      <td>For some reason in our kitchen the water comes...</td>\n",
              "      <td>My students need a water filtration system for...</td>\n",
              "      <td>42.0</td>\n",
              "      <td>1.0</td>\n",
              "      <td>10</td>\n",
              "    </tr>\n",
              "  </tbody>\n",
              "</table>\n",
              "</div>"
            ],
            "text/plain": [
              "  teacher_prefix school_state project_submitted_datetime  \\\n",
              "0            Ms.           NV                 2016-11-18   \n",
              "1           Mrs.           GA                 2017-04-26   \n",
              "2            Ms.           UT                 2017-01-01   \n",
              "3            Mr.           NC                 2016-08-12   \n",
              "4            Mr.           CA                 2016-08-06   \n",
              "\n",
              "  project_grade_category           project_subject_categories  \\\n",
              "0          Grades PreK-2                  Literacy & Language   \n",
              "1             Grades 3-5    Music & The Arts, Health & Sports   \n",
              "2             Grades 3-5  Math & Science, Literacy & Language   \n",
              "3             Grades 3-5                      Health & Sports   \n",
              "4             Grades 6-8                      Health & Sports   \n",
              "\n",
              "            project_subject_subcategories  \\\n",
              "0                                Literacy   \n",
              "1            Performing Arts, Team Sports   \n",
              "2  Applied Sciences, Literature & Writing   \n",
              "3                       Health & Wellness   \n",
              "4                       Health & Wellness   \n",
              "\n",
              "                                       project_title  \\\n",
              "0                           Super Sight Word Centers   \n",
              "1                             Keep Calm and Dance On   \n",
              "2                              Lets 3Doodle to Learn   \n",
              "3  \\\"Kid Inspired\\\" Equipment to Increase Activit...   \n",
              "4   We need clean water for our culinary arts class!   \n",
              "\n",
              "                                     project_essay_1  \\\n",
              "0  Most of my kindergarten students come from low...   \n",
              "1  Our elementary school is a culturally rich sch...   \n",
              "2  Hello;\\r\\nMy name is Mrs. Brotherton. I teach ...   \n",
              "3  My students are the greatest students but are ...   \n",
              "4  My students are athletes and students who are ...   \n",
              "\n",
              "                                     project_essay_2  \\\n",
              "0  I currently have a differentiated sight word c...   \n",
              "1  We strive to provide our diverse population of...   \n",
              "2  We are looking to add some 3Doodler to our cla...   \n",
              "3  The student's project which is totally \\\"kid-i...   \n",
              "4  For some reason in our kitchen the water comes...   \n",
              "\n",
              "                            project_resource_summary  \\\n",
              "0  My students need 6 Ipod Nano's to create and d...   \n",
              "1  My students need matching shirts to wear for d...   \n",
              "2  My students need the 3doodler. We are an SEM s...   \n",
              "3  My students need balls and other activity equi...   \n",
              "4  My students need a water filtration system for...   \n",
              "\n",
              "   teacher_number_of_previously_posted_projects  project_is_approved  \\\n",
              "0                                          26.0                  1.0   \n",
              "1                                           1.0                  0.0   \n",
              "2                                           5.0                  1.0   \n",
              "3                                          16.0                  0.0   \n",
              "4                                          42.0                  1.0   \n",
              "\n",
              "   nbProject_teacher  \n",
              "0                 10  \n",
              "1                  1  \n",
              "2                  4  \n",
              "3                 16  \n",
              "4                 10  "
            ]
          },
          "metadata": {
            "tags": []
          },
          "execution_count": 124
        }
      ]
    },
    {
      "metadata": {
        "id": "HvxYe6JVZkvk",
        "colab_type": "text"
      },
      "cell_type": "markdown",
      "source": [
        "**Q 2:** Encode categorical features of (teacher_prefix, school_state, project_grade_category) using one-hot-encoding."
      ]
    },
    {
      "metadata": {
        "id": "unbNyR-RZkvl",
        "colab_type": "code",
        "outputId": "7ff6aa37-14b9-4846-b3d8-d482b7dfccc2",
        "colab": {
          "base_uri": "https://localhost:8080/",
          "height": 35
        }
      },
      "cell_type": "code",
      "source": [
        "data = pd.get_dummies(data=features, columns = ['teacher_prefix','school_state','project_grade_category'] )\n",
        "print(data.shape)"
      ],
      "execution_count": 125,
      "outputs": [
        {
          "output_type": "stream",
          "text": [
            "(182076, 70)\n"
          ],
          "name": "stdout"
        }
      ]
    },
    {
      "metadata": {
        "id": "JnsMO6bTZkvq",
        "colab_type": "text"
      },
      "cell_type": "markdown",
      "source": [
        "**Q 3:** What could be the issue with one-hot-encoding of project_subject_category and project_subject_subcategory ? Come up with a sensible solution and implement it."
      ]
    },
    {
      "metadata": {
        "id": "BEp_PDKJZkvr",
        "colab_type": "text"
      },
      "cell_type": "markdown",
      "source": [
        "Hint: Understand and use the following function to encode categories and subcategories:\n",
        "\n",
        "    def getCatFeatures(df, Col):\n",
        "        vectorizer = CountVectorizer(binary=True,\n",
        "                                     ngram_range=(1,1),\n",
        "                                     tokenizer=lambda x:[a.strip() for a in x.split(',')])\n",
        "        return (vectorizer.fit_transform(df[Col]), vectorizer.vocabulary_)\n",
        "        \n",
        "To concat two sparse matrices, use *hstack* function from *scipy.sparse* package. To create a dataframe from an sparse matrix SM, use the following function:\n",
        "\n",
        "    pd.SparseDataFrame([ pd.SparseSeries(SM[i].toarray().ravel()) for i in np.arange(SM.shape[0]) ])\n",
        "    \n",
        "Convert your sparse matrices to *csr* format before converting it to a dataframe using the following function:\n",
        "\n",
        "    SM.tocsr()"
      ]
    },
    {
      "metadata": {
        "id": "oXoZGh0Wec5w",
        "colab_type": "code",
        "colab": {}
      },
      "cell_type": "code",
      "source": [
        "!pip install -q numpy\n",
        "import numpy as np"
      ],
      "execution_count": 0,
      "outputs": []
    },
    {
      "metadata": {
        "id": "RwU5tBb7Zkvs",
        "colab_type": "code",
        "outputId": "fe2a6335-59e2-45e5-ce20-ad50f0e7aa2b",
        "colab": {
          "base_uri": "https://localhost:8080/",
          "height": 236
        }
      },
      "cell_type": "code",
      "source": [
        "\"\"\"The issue with one-hot-encoding of both project_subject_category & project_subject_subcategory is the following.\n",
        "Since we have some categories which are the combination of two categorizes we cannot use one hot encoded. it will lead to too \n",
        "many features instead of combining differents descriptions of categorizes\"\"\"\n",
        "from scipy.sparse import hstack\n",
        "from sklearn.feature_extraction.text import CountVectorizer\n",
        "\n",
        "def getCatFeatures(df, Col):\n",
        "    vectorizer = CountVectorizer(binary=True,\n",
        "                                 ngram_range=(1,1),\n",
        "                                 tokenizer=lambda x:[a.strip() for a in x.split(',')])\n",
        "    return (vectorizer.fit_transform(df[Col]), vectorizer.vocabulary_)\n",
        "\n",
        "# First We Combine both Columns : project_subject_category & project_subject_subcategory\n",
        "#data['project_subject_category'] = project_subject_category+' '+project_subject_subcategory\n",
        "# Then we replace all the '&' by a ','\n",
        "data['project_subject_categories'] = data['project_subject_categories'].str.replace('&',',')\n",
        "data['project_subject_subcategories'] = data['project_subject_subcategories'].str.replace('&',',')\n",
        "# Now  we can use our function getCatFeatures\n",
        "vectorize_matrix_cat, columns_name_cat = getCatFeatures(data,'project_subject_categories')\n",
        "vectorize_matrix_subcat, columns_name_subcat = getCatFeatures(data,'project_subject_subcategories')\n",
        "\n",
        "# We concat both sparse matrices and convert it to csr\n",
        "concat_SM = hstack((vectorize_matrix_cat, vectorize_matrix_subcat)).tocsr()\n",
        "\n",
        "# Convert our matrix to a dataframe\n",
        "#cat_df = pd.SparseDataFrame([ pd.SparseSeries(concat_SM[i].toarray().ravel()) for i in np.arange(concat_SM.shape[0]) ])\n",
        "cat_df = pd.DataFrame([ pd.SparseSeries(concat_SM[i].toarray().ravel()) for i in np.arange(concat_SM.shape[0]) ])\n",
        "\n",
        "cat_df.head()"
      ],
      "execution_count": 126,
      "outputs": [
        {
          "output_type": "execute_result",
          "data": {
            "text/html": [
              "<div>\n",
              "<style scoped>\n",
              "    .dataframe tbody tr th:only-of-type {\n",
              "        vertical-align: middle;\n",
              "    }\n",
              "\n",
              "    .dataframe tbody tr th {\n",
              "        vertical-align: top;\n",
              "    }\n",
              "\n",
              "    .dataframe thead th {\n",
              "        text-align: right;\n",
              "    }\n",
              "</style>\n",
              "<table border=\"1\" class=\"dataframe\">\n",
              "  <thead>\n",
              "    <tr style=\"text-align: right;\">\n",
              "      <th></th>\n",
              "      <th>0</th>\n",
              "      <th>1</th>\n",
              "      <th>2</th>\n",
              "      <th>3</th>\n",
              "      <th>4</th>\n",
              "      <th>5</th>\n",
              "      <th>6</th>\n",
              "      <th>7</th>\n",
              "      <th>8</th>\n",
              "      <th>9</th>\n",
              "      <th>...</th>\n",
              "      <th>42</th>\n",
              "      <th>43</th>\n",
              "      <th>44</th>\n",
              "      <th>45</th>\n",
              "      <th>46</th>\n",
              "      <th>47</th>\n",
              "      <th>48</th>\n",
              "      <th>49</th>\n",
              "      <th>50</th>\n",
              "      <th>51</th>\n",
              "    </tr>\n",
              "  </thead>\n",
              "  <tbody>\n",
              "    <tr>\n",
              "      <th>0</th>\n",
              "      <td>0</td>\n",
              "      <td>0</td>\n",
              "      <td>0</td>\n",
              "      <td>0</td>\n",
              "      <td>0</td>\n",
              "      <td>0</td>\n",
              "      <td>1</td>\n",
              "      <td>1</td>\n",
              "      <td>0</td>\n",
              "      <td>0</td>\n",
              "      <td>...</td>\n",
              "      <td>0</td>\n",
              "      <td>0</td>\n",
              "      <td>0</td>\n",
              "      <td>0</td>\n",
              "      <td>0</td>\n",
              "      <td>0</td>\n",
              "      <td>0</td>\n",
              "      <td>0</td>\n",
              "      <td>0</td>\n",
              "      <td>0</td>\n",
              "    </tr>\n",
              "    <tr>\n",
              "      <th>1</th>\n",
              "      <td>0</td>\n",
              "      <td>0</td>\n",
              "      <td>0</td>\n",
              "      <td>1</td>\n",
              "      <td>0</td>\n",
              "      <td>0</td>\n",
              "      <td>0</td>\n",
              "      <td>0</td>\n",
              "      <td>0</td>\n",
              "      <td>1</td>\n",
              "      <td>...</td>\n",
              "      <td>0</td>\n",
              "      <td>0</td>\n",
              "      <td>1</td>\n",
              "      <td>0</td>\n",
              "      <td>0</td>\n",
              "      <td>1</td>\n",
              "      <td>0</td>\n",
              "      <td>0</td>\n",
              "      <td>0</td>\n",
              "      <td>0</td>\n",
              "    </tr>\n",
              "    <tr>\n",
              "      <th>2</th>\n",
              "      <td>0</td>\n",
              "      <td>0</td>\n",
              "      <td>0</td>\n",
              "      <td>0</td>\n",
              "      <td>0</td>\n",
              "      <td>0</td>\n",
              "      <td>1</td>\n",
              "      <td>1</td>\n",
              "      <td>1</td>\n",
              "      <td>0</td>\n",
              "      <td>...</td>\n",
              "      <td>0</td>\n",
              "      <td>0</td>\n",
              "      <td>0</td>\n",
              "      <td>0</td>\n",
              "      <td>0</td>\n",
              "      <td>0</td>\n",
              "      <td>0</td>\n",
              "      <td>0</td>\n",
              "      <td>0</td>\n",
              "      <td>1</td>\n",
              "    </tr>\n",
              "    <tr>\n",
              "      <th>3</th>\n",
              "      <td>0</td>\n",
              "      <td>0</td>\n",
              "      <td>0</td>\n",
              "      <td>1</td>\n",
              "      <td>0</td>\n",
              "      <td>0</td>\n",
              "      <td>0</td>\n",
              "      <td>0</td>\n",
              "      <td>0</td>\n",
              "      <td>0</td>\n",
              "      <td>...</td>\n",
              "      <td>0</td>\n",
              "      <td>0</td>\n",
              "      <td>0</td>\n",
              "      <td>0</td>\n",
              "      <td>0</td>\n",
              "      <td>0</td>\n",
              "      <td>0</td>\n",
              "      <td>0</td>\n",
              "      <td>1</td>\n",
              "      <td>0</td>\n",
              "    </tr>\n",
              "    <tr>\n",
              "      <th>4</th>\n",
              "      <td>0</td>\n",
              "      <td>0</td>\n",
              "      <td>0</td>\n",
              "      <td>1</td>\n",
              "      <td>0</td>\n",
              "      <td>0</td>\n",
              "      <td>0</td>\n",
              "      <td>0</td>\n",
              "      <td>0</td>\n",
              "      <td>0</td>\n",
              "      <td>...</td>\n",
              "      <td>0</td>\n",
              "      <td>0</td>\n",
              "      <td>0</td>\n",
              "      <td>0</td>\n",
              "      <td>0</td>\n",
              "      <td>0</td>\n",
              "      <td>0</td>\n",
              "      <td>0</td>\n",
              "      <td>1</td>\n",
              "      <td>0</td>\n",
              "    </tr>\n",
              "  </tbody>\n",
              "</table>\n",
              "<p>5 rows × 52 columns</p>\n",
              "</div>"
            ],
            "text/plain": [
              "   0   1   2   3   4   5   6   7   8   9  ...  42  43  44  45  46  47  48  49  \\\n",
              "0   0   0   0   0   0   0   1   1   0   0 ...   0   0   0   0   0   0   0   0   \n",
              "1   0   0   0   1   0   0   0   0   0   1 ...   0   0   1   0   0   1   0   0   \n",
              "2   0   0   0   0   0   0   1   1   1   0 ...   0   0   0   0   0   0   0   0   \n",
              "3   0   0   0   1   0   0   0   0   0   0 ...   0   0   0   0   0   0   0   0   \n",
              "4   0   0   0   1   0   0   0   0   0   0 ...   0   0   0   0   0   0   0   0   \n",
              "\n",
              "   50  51  \n",
              "0   0   0  \n",
              "1   0   0  \n",
              "2   0   1  \n",
              "3   1   0  \n",
              "4   1   0  \n",
              "\n",
              "[5 rows x 52 columns]"
            ]
          },
          "metadata": {
            "tags": []
          },
          "execution_count": 126
        }
      ]
    },
    {
      "metadata": {
        "id": "kaNZHalpZkvu",
        "colab_type": "code",
        "outputId": "9f285816-3226-46a7-8aa0-04ac1555c4d1",
        "colab": {
          "base_uri": "https://localhost:8080/",
          "height": 202
        }
      },
      "cell_type": "code",
      "source": [
        "print(columns_name_cat)\n",
        "print(len(columns_name_cat))\n",
        "print(columns_name_subcat)\n",
        "print(len(columns_name_subcat))\n",
        "print(cat_df.columns.values)\n",
        "\n",
        "dic_col_cat=columns_name_cat\n",
        "dic_col_subca=columns_name_subcat\n",
        "\n",
        "#Update the value of the subcat columns name\n",
        "for key, value in dic_col_subca.items():\n",
        "    dic_col_subca[key]=value+15\n",
        "print(dic_col_subca)\n",
        "\n",
        "# Create an array with the name corresponding to each column\n",
        "col_list = list(np.arange(52))\n",
        "\n",
        "for key, value in dic_col_cat.items():\n",
        "    col_list[value]=key\n",
        "for key, value in dic_col_subca.items():\n",
        "    col_list[value]=key\n",
        "#print final column list\n",
        "print(col_list)"
      ],
      "execution_count": 127,
      "outputs": [
        {
          "output_type": "stream",
          "text": [
            "{'literacy': 7, 'language': 6, 'music': 9, 'the arts': 13, 'health': 3, 'sports': 12, 'math': 8, 'science': 10, 'applied learning': 0, 'special needs': 11, 'history': 4, 'civics': 2, 'warmth': 14, 'care': 1, 'hunger': 5}\n",
            "15\n",
            "{'literacy': 22, 'performing arts': 29, 'team sports': 32, 'applied sciences': 0, 'literature': 23, 'writing': 36, 'health': 18, 'wellness': 35, 'character education': 3, 'early development': 7, 'mathematics': 24, 'special needs': 31, 'esl': 10, 'life science': 21, 'college': 5, 'career prep': 2, 'environmental science': 9, 'other': 27, 'social sciences': 30, 'music': 25, 'visual arts': 33, 'history': 19, 'geography': 15, 'parent involvement': 28, 'extracurricular': 11, 'gym': 17, 'fitness': 13, 'warmth': 34, 'care': 1, 'hunger': 20, 'foreign languages': 14, 'nutrition education': 26, 'community service': 6, 'financial literacy': 12, 'civics': 4, 'government': 16, 'economics': 8}\n",
            "37\n",
            "[ 0  1  2  3  4  5  6  7  8  9 10 11 12 13 14 15 16 17 18 19 20 21 22 23\n",
            " 24 25 26 27 28 29 30 31 32 33 34 35 36 37 38 39 40 41 42 43 44 45 46 47\n",
            " 48 49 50 51]\n",
            "{'literacy': 37, 'performing arts': 44, 'team sports': 47, 'applied sciences': 15, 'literature': 38, 'writing': 51, 'health': 33, 'wellness': 50, 'character education': 18, 'early development': 22, 'mathematics': 39, 'special needs': 46, 'esl': 25, 'life science': 36, 'college': 20, 'career prep': 17, 'environmental science': 24, 'other': 42, 'social sciences': 45, 'music': 40, 'visual arts': 48, 'history': 34, 'geography': 30, 'parent involvement': 43, 'extracurricular': 26, 'gym': 32, 'fitness': 28, 'warmth': 49, 'care': 16, 'hunger': 35, 'foreign languages': 29, 'nutrition education': 41, 'community service': 21, 'financial literacy': 27, 'civics': 19, 'government': 31, 'economics': 23}\n",
            "['applied learning', 'care', 'civics', 'health', 'history', 'hunger', 'language', 'literacy', 'math', 'music', 'science', 'special needs', 'sports', 'the arts', 'warmth', 'applied sciences', 'care', 'career prep', 'character education', 'civics', 'college', 'community service', 'early development', 'economics', 'environmental science', 'esl', 'extracurricular', 'financial literacy', 'fitness', 'foreign languages', 'geography', 'government', 'gym', 'health', 'history', 'hunger', 'life science', 'literacy', 'literature', 'mathematics', 'music', 'nutrition education', 'other', 'parent involvement', 'performing arts', 'social sciences', 'special needs', 'team sports', 'visual arts', 'warmth', 'wellness', 'writing']\n"
          ],
          "name": "stdout"
        }
      ]
    },
    {
      "metadata": {
        "id": "WGTUHUmZZkv1",
        "colab_type": "code",
        "outputId": "7ea04112-b5a0-4bdf-c7af-d885b6f17ab4",
        "colab": {
          "base_uri": "https://localhost:8080/",
          "height": 253
        }
      },
      "cell_type": "code",
      "source": [
        "# Create Dataframe with the sparse dataframe and the name of columns\n",
        "cat_df.columns = col_list\n",
        "cat_df.head()"
      ],
      "execution_count": 128,
      "outputs": [
        {
          "output_type": "execute_result",
          "data": {
            "text/html": [
              "<div>\n",
              "<style scoped>\n",
              "    .dataframe tbody tr th:only-of-type {\n",
              "        vertical-align: middle;\n",
              "    }\n",
              "\n",
              "    .dataframe tbody tr th {\n",
              "        vertical-align: top;\n",
              "    }\n",
              "\n",
              "    .dataframe thead th {\n",
              "        text-align: right;\n",
              "    }\n",
              "</style>\n",
              "<table border=\"1\" class=\"dataframe\">\n",
              "  <thead>\n",
              "    <tr style=\"text-align: right;\">\n",
              "      <th></th>\n",
              "      <th>applied learning</th>\n",
              "      <th>care</th>\n",
              "      <th>civics</th>\n",
              "      <th>health</th>\n",
              "      <th>history</th>\n",
              "      <th>hunger</th>\n",
              "      <th>language</th>\n",
              "      <th>literacy</th>\n",
              "      <th>math</th>\n",
              "      <th>music</th>\n",
              "      <th>...</th>\n",
              "      <th>other</th>\n",
              "      <th>parent involvement</th>\n",
              "      <th>performing arts</th>\n",
              "      <th>social sciences</th>\n",
              "      <th>special needs</th>\n",
              "      <th>team sports</th>\n",
              "      <th>visual arts</th>\n",
              "      <th>warmth</th>\n",
              "      <th>wellness</th>\n",
              "      <th>writing</th>\n",
              "    </tr>\n",
              "  </thead>\n",
              "  <tbody>\n",
              "    <tr>\n",
              "      <th>0</th>\n",
              "      <td>0</td>\n",
              "      <td>0</td>\n",
              "      <td>0</td>\n",
              "      <td>0</td>\n",
              "      <td>0</td>\n",
              "      <td>0</td>\n",
              "      <td>1</td>\n",
              "      <td>1</td>\n",
              "      <td>0</td>\n",
              "      <td>0</td>\n",
              "      <td>...</td>\n",
              "      <td>0</td>\n",
              "      <td>0</td>\n",
              "      <td>0</td>\n",
              "      <td>0</td>\n",
              "      <td>0</td>\n",
              "      <td>0</td>\n",
              "      <td>0</td>\n",
              "      <td>0</td>\n",
              "      <td>0</td>\n",
              "      <td>0</td>\n",
              "    </tr>\n",
              "    <tr>\n",
              "      <th>1</th>\n",
              "      <td>0</td>\n",
              "      <td>0</td>\n",
              "      <td>0</td>\n",
              "      <td>1</td>\n",
              "      <td>0</td>\n",
              "      <td>0</td>\n",
              "      <td>0</td>\n",
              "      <td>0</td>\n",
              "      <td>0</td>\n",
              "      <td>1</td>\n",
              "      <td>...</td>\n",
              "      <td>0</td>\n",
              "      <td>0</td>\n",
              "      <td>1</td>\n",
              "      <td>0</td>\n",
              "      <td>0</td>\n",
              "      <td>1</td>\n",
              "      <td>0</td>\n",
              "      <td>0</td>\n",
              "      <td>0</td>\n",
              "      <td>0</td>\n",
              "    </tr>\n",
              "    <tr>\n",
              "      <th>2</th>\n",
              "      <td>0</td>\n",
              "      <td>0</td>\n",
              "      <td>0</td>\n",
              "      <td>0</td>\n",
              "      <td>0</td>\n",
              "      <td>0</td>\n",
              "      <td>1</td>\n",
              "      <td>1</td>\n",
              "      <td>1</td>\n",
              "      <td>0</td>\n",
              "      <td>...</td>\n",
              "      <td>0</td>\n",
              "      <td>0</td>\n",
              "      <td>0</td>\n",
              "      <td>0</td>\n",
              "      <td>0</td>\n",
              "      <td>0</td>\n",
              "      <td>0</td>\n",
              "      <td>0</td>\n",
              "      <td>0</td>\n",
              "      <td>1</td>\n",
              "    </tr>\n",
              "    <tr>\n",
              "      <th>3</th>\n",
              "      <td>0</td>\n",
              "      <td>0</td>\n",
              "      <td>0</td>\n",
              "      <td>1</td>\n",
              "      <td>0</td>\n",
              "      <td>0</td>\n",
              "      <td>0</td>\n",
              "      <td>0</td>\n",
              "      <td>0</td>\n",
              "      <td>0</td>\n",
              "      <td>...</td>\n",
              "      <td>0</td>\n",
              "      <td>0</td>\n",
              "      <td>0</td>\n",
              "      <td>0</td>\n",
              "      <td>0</td>\n",
              "      <td>0</td>\n",
              "      <td>0</td>\n",
              "      <td>0</td>\n",
              "      <td>1</td>\n",
              "      <td>0</td>\n",
              "    </tr>\n",
              "    <tr>\n",
              "      <th>4</th>\n",
              "      <td>0</td>\n",
              "      <td>0</td>\n",
              "      <td>0</td>\n",
              "      <td>1</td>\n",
              "      <td>0</td>\n",
              "      <td>0</td>\n",
              "      <td>0</td>\n",
              "      <td>0</td>\n",
              "      <td>0</td>\n",
              "      <td>0</td>\n",
              "      <td>...</td>\n",
              "      <td>0</td>\n",
              "      <td>0</td>\n",
              "      <td>0</td>\n",
              "      <td>0</td>\n",
              "      <td>0</td>\n",
              "      <td>0</td>\n",
              "      <td>0</td>\n",
              "      <td>0</td>\n",
              "      <td>1</td>\n",
              "      <td>0</td>\n",
              "    </tr>\n",
              "  </tbody>\n",
              "</table>\n",
              "<p>5 rows × 52 columns</p>\n",
              "</div>"
            ],
            "text/plain": [
              "   applied learning  care  civics  health  history  hunger  language  \\\n",
              "0                 0     0       0       0        0       0         1   \n",
              "1                 0     0       0       1        0       0         0   \n",
              "2                 0     0       0       0        0       0         1   \n",
              "3                 0     0       0       1        0       0         0   \n",
              "4                 0     0       0       1        0       0         0   \n",
              "\n",
              "   literacy  math  music   ...     other  parent involvement  performing arts  \\\n",
              "0         1     0      0   ...         0                   0                0   \n",
              "1         0     0      1   ...         0                   0                1   \n",
              "2         1     1      0   ...         0                   0                0   \n",
              "3         0     0      0   ...         0                   0                0   \n",
              "4         0     0      0   ...         0                   0                0   \n",
              "\n",
              "   social sciences  special needs  team sports  visual arts  warmth  wellness  \\\n",
              "0                0              0            0            0       0         0   \n",
              "1                0              0            1            0       0         0   \n",
              "2                0              0            0            0       0         0   \n",
              "3                0              0            0            0       0         1   \n",
              "4                0              0            0            0       0         1   \n",
              "\n",
              "   writing  \n",
              "0        0  \n",
              "1        0  \n",
              "2        1  \n",
              "3        0  \n",
              "4        0  \n",
              "\n",
              "[5 rows x 52 columns]"
            ]
          },
          "metadata": {
            "tags": []
          },
          "execution_count": 128
        }
      ]
    },
    {
      "metadata": {
        "id": "7MgyrjqvZkv4",
        "colab_type": "code",
        "outputId": "5ba0d39c-6d6d-4369-b92f-7253c37659b5",
        "colab": {
          "base_uri": "https://localhost:8080/",
          "height": 589
        }
      },
      "cell_type": "code",
      "source": [
        "# Now we merge this df with our data\n",
        "\n",
        "print(len(cat_df))\n",
        "print(len(data))\n",
        "#In [11]: result = pd.concat([df1, df4], axis=1, join_axes=[df1.index])\n",
        "\n",
        "data= pd.concat([data,cat_df],axis=1,join_axes=[data.index])\n",
        "\n",
        "# Drop project categories and subcategories\n",
        "data.drop(columns=\"project_subject_categories\",inplace=True,axis='columns')\n",
        "data.drop(columns=\"project_subject_subcategories\",inplace=True,axis='columns')\n",
        "\n",
        "print(len(data))\n",
        "data.head()"
      ],
      "execution_count": 129,
      "outputs": [
        {
          "output_type": "stream",
          "text": [
            "182076\n",
            "182076\n",
            "182076\n"
          ],
          "name": "stdout"
        },
        {
          "output_type": "execute_result",
          "data": {
            "text/html": [
              "<div>\n",
              "<style scoped>\n",
              "    .dataframe tbody tr th:only-of-type {\n",
              "        vertical-align: middle;\n",
              "    }\n",
              "\n",
              "    .dataframe tbody tr th {\n",
              "        vertical-align: top;\n",
              "    }\n",
              "\n",
              "    .dataframe thead th {\n",
              "        text-align: right;\n",
              "    }\n",
              "</style>\n",
              "<table border=\"1\" class=\"dataframe\">\n",
              "  <thead>\n",
              "    <tr style=\"text-align: right;\">\n",
              "      <th></th>\n",
              "      <th>project_submitted_datetime</th>\n",
              "      <th>project_title</th>\n",
              "      <th>project_essay_1</th>\n",
              "      <th>project_essay_2</th>\n",
              "      <th>project_resource_summary</th>\n",
              "      <th>teacher_number_of_previously_posted_projects</th>\n",
              "      <th>project_is_approved</th>\n",
              "      <th>nbProject_teacher</th>\n",
              "      <th>teacher_prefix_Dr.</th>\n",
              "      <th>teacher_prefix_Mr.</th>\n",
              "      <th>...</th>\n",
              "      <th>other</th>\n",
              "      <th>parent involvement</th>\n",
              "      <th>performing arts</th>\n",
              "      <th>social sciences</th>\n",
              "      <th>special needs</th>\n",
              "      <th>team sports</th>\n",
              "      <th>visual arts</th>\n",
              "      <th>warmth</th>\n",
              "      <th>wellness</th>\n",
              "      <th>writing</th>\n",
              "    </tr>\n",
              "  </thead>\n",
              "  <tbody>\n",
              "    <tr>\n",
              "      <th>0</th>\n",
              "      <td>2016-11-18</td>\n",
              "      <td>Super Sight Word Centers</td>\n",
              "      <td>Most of my kindergarten students come from low...</td>\n",
              "      <td>I currently have a differentiated sight word c...</td>\n",
              "      <td>My students need 6 Ipod Nano's to create and d...</td>\n",
              "      <td>26.0</td>\n",
              "      <td>1.0</td>\n",
              "      <td>10</td>\n",
              "      <td>0</td>\n",
              "      <td>0</td>\n",
              "      <td>...</td>\n",
              "      <td>0.0</td>\n",
              "      <td>0.0</td>\n",
              "      <td>0.0</td>\n",
              "      <td>0.0</td>\n",
              "      <td>0.0</td>\n",
              "      <td>0.0</td>\n",
              "      <td>0.0</td>\n",
              "      <td>0.0</td>\n",
              "      <td>0.0</td>\n",
              "      <td>0.0</td>\n",
              "    </tr>\n",
              "    <tr>\n",
              "      <th>1</th>\n",
              "      <td>2017-04-26</td>\n",
              "      <td>Keep Calm and Dance On</td>\n",
              "      <td>Our elementary school is a culturally rich sch...</td>\n",
              "      <td>We strive to provide our diverse population of...</td>\n",
              "      <td>My students need matching shirts to wear for d...</td>\n",
              "      <td>1.0</td>\n",
              "      <td>0.0</td>\n",
              "      <td>1</td>\n",
              "      <td>0</td>\n",
              "      <td>0</td>\n",
              "      <td>...</td>\n",
              "      <td>0.0</td>\n",
              "      <td>0.0</td>\n",
              "      <td>1.0</td>\n",
              "      <td>0.0</td>\n",
              "      <td>0.0</td>\n",
              "      <td>1.0</td>\n",
              "      <td>0.0</td>\n",
              "      <td>0.0</td>\n",
              "      <td>0.0</td>\n",
              "      <td>0.0</td>\n",
              "    </tr>\n",
              "    <tr>\n",
              "      <th>2</th>\n",
              "      <td>2017-01-01</td>\n",
              "      <td>Lets 3Doodle to Learn</td>\n",
              "      <td>Hello;\\r\\nMy name is Mrs. Brotherton. I teach ...</td>\n",
              "      <td>We are looking to add some 3Doodler to our cla...</td>\n",
              "      <td>My students need the 3doodler. We are an SEM s...</td>\n",
              "      <td>5.0</td>\n",
              "      <td>1.0</td>\n",
              "      <td>4</td>\n",
              "      <td>0</td>\n",
              "      <td>0</td>\n",
              "      <td>...</td>\n",
              "      <td>0.0</td>\n",
              "      <td>0.0</td>\n",
              "      <td>0.0</td>\n",
              "      <td>0.0</td>\n",
              "      <td>0.0</td>\n",
              "      <td>0.0</td>\n",
              "      <td>0.0</td>\n",
              "      <td>0.0</td>\n",
              "      <td>0.0</td>\n",
              "      <td>1.0</td>\n",
              "    </tr>\n",
              "    <tr>\n",
              "      <th>3</th>\n",
              "      <td>2016-08-12</td>\n",
              "      <td>\\\"Kid Inspired\\\" Equipment to Increase Activit...</td>\n",
              "      <td>My students are the greatest students but are ...</td>\n",
              "      <td>The student's project which is totally \\\"kid-i...</td>\n",
              "      <td>My students need balls and other activity equi...</td>\n",
              "      <td>16.0</td>\n",
              "      <td>0.0</td>\n",
              "      <td>16</td>\n",
              "      <td>0</td>\n",
              "      <td>1</td>\n",
              "      <td>...</td>\n",
              "      <td>0.0</td>\n",
              "      <td>0.0</td>\n",
              "      <td>0.0</td>\n",
              "      <td>0.0</td>\n",
              "      <td>0.0</td>\n",
              "      <td>0.0</td>\n",
              "      <td>0.0</td>\n",
              "      <td>0.0</td>\n",
              "      <td>1.0</td>\n",
              "      <td>0.0</td>\n",
              "    </tr>\n",
              "    <tr>\n",
              "      <th>4</th>\n",
              "      <td>2016-08-06</td>\n",
              "      <td>We need clean water for our culinary arts class!</td>\n",
              "      <td>My students are athletes and students who are ...</td>\n",
              "      <td>For some reason in our kitchen the water comes...</td>\n",
              "      <td>My students need a water filtration system for...</td>\n",
              "      <td>42.0</td>\n",
              "      <td>1.0</td>\n",
              "      <td>10</td>\n",
              "      <td>0</td>\n",
              "      <td>1</td>\n",
              "      <td>...</td>\n",
              "      <td>0.0</td>\n",
              "      <td>0.0</td>\n",
              "      <td>0.0</td>\n",
              "      <td>0.0</td>\n",
              "      <td>0.0</td>\n",
              "      <td>0.0</td>\n",
              "      <td>0.0</td>\n",
              "      <td>0.0</td>\n",
              "      <td>1.0</td>\n",
              "      <td>0.0</td>\n",
              "    </tr>\n",
              "  </tbody>\n",
              "</table>\n",
              "<p>5 rows × 120 columns</p>\n",
              "</div>"
            ],
            "text/plain": [
              "  project_submitted_datetime  \\\n",
              "0                 2016-11-18   \n",
              "1                 2017-04-26   \n",
              "2                 2017-01-01   \n",
              "3                 2016-08-12   \n",
              "4                 2016-08-06   \n",
              "\n",
              "                                       project_title  \\\n",
              "0                           Super Sight Word Centers   \n",
              "1                             Keep Calm and Dance On   \n",
              "2                              Lets 3Doodle to Learn   \n",
              "3  \\\"Kid Inspired\\\" Equipment to Increase Activit...   \n",
              "4   We need clean water for our culinary arts class!   \n",
              "\n",
              "                                     project_essay_1  \\\n",
              "0  Most of my kindergarten students come from low...   \n",
              "1  Our elementary school is a culturally rich sch...   \n",
              "2  Hello;\\r\\nMy name is Mrs. Brotherton. I teach ...   \n",
              "3  My students are the greatest students but are ...   \n",
              "4  My students are athletes and students who are ...   \n",
              "\n",
              "                                     project_essay_2  \\\n",
              "0  I currently have a differentiated sight word c...   \n",
              "1  We strive to provide our diverse population of...   \n",
              "2  We are looking to add some 3Doodler to our cla...   \n",
              "3  The student's project which is totally \\\"kid-i...   \n",
              "4  For some reason in our kitchen the water comes...   \n",
              "\n",
              "                            project_resource_summary  \\\n",
              "0  My students need 6 Ipod Nano's to create and d...   \n",
              "1  My students need matching shirts to wear for d...   \n",
              "2  My students need the 3doodler. We are an SEM s...   \n",
              "3  My students need balls and other activity equi...   \n",
              "4  My students need a water filtration system for...   \n",
              "\n",
              "   teacher_number_of_previously_posted_projects  project_is_approved  \\\n",
              "0                                          26.0                  1.0   \n",
              "1                                           1.0                  0.0   \n",
              "2                                           5.0                  1.0   \n",
              "3                                          16.0                  0.0   \n",
              "4                                          42.0                  1.0   \n",
              "\n",
              "   nbProject_teacher  teacher_prefix_Dr.  teacher_prefix_Mr.   ...     other  \\\n",
              "0                 10                   0                   0   ...       0.0   \n",
              "1                  1                   0                   0   ...       0.0   \n",
              "2                  4                   0                   0   ...       0.0   \n",
              "3                 16                   0                   1   ...       0.0   \n",
              "4                 10                   0                   1   ...       0.0   \n",
              "\n",
              "   parent involvement  performing arts  social sciences  special needs  \\\n",
              "0                 0.0              0.0              0.0            0.0   \n",
              "1                 0.0              1.0              0.0            0.0   \n",
              "2                 0.0              0.0              0.0            0.0   \n",
              "3                 0.0              0.0              0.0            0.0   \n",
              "4                 0.0              0.0              0.0            0.0   \n",
              "\n",
              "   team sports  visual arts  warmth  wellness  writing  \n",
              "0          0.0          0.0     0.0       0.0      0.0  \n",
              "1          1.0          0.0     0.0       0.0      0.0  \n",
              "2          0.0          0.0     0.0       0.0      1.0  \n",
              "3          0.0          0.0     0.0       1.0      0.0  \n",
              "4          0.0          0.0     0.0       1.0      0.0  \n",
              "\n",
              "[5 rows x 120 columns]"
            ]
          },
          "metadata": {
            "tags": []
          },
          "execution_count": 129
        }
      ]
    },
    {
      "metadata": {
        "id": "90jmSG5bZkv-",
        "colab_type": "text"
      },
      "cell_type": "markdown",
      "source": [
        "**Q 4:** What could be a sensible strategy to encode project_submitted_datetime feature? Why simply separate it into different numeric features for year/month/day/hour can be problematic?"
      ]
    },
    {
      "metadata": {
        "id": "Ar6Un0qlZkv_",
        "colab_type": "text"
      },
      "cell_type": "markdown",
      "source": [
        "Hint: Consider circular temporal features such as month, day of month, day of week, hour and dicuss about their appropriate encoding."
      ]
    },
    {
      "metadata": {
        "id": "iGy1_eK5ZkwA",
        "colab_type": "code",
        "colab": {
          "base_uri": "https://localhost:8080/",
          "height": 206
        },
        "outputId": "35171879-1b4a-49a4-9df2-e52f06b815f0"
      },
      "cell_type": "code",
      "source": [
        "\"\"\"The use of the library datetime might be a a good strategy to encode project_submitted_datetime\n",
        "If we separate it into different numeric featuress our model might interpret some date as a sum of 2 dates \n",
        "which might leads to a disaster. We already convert the column in the part 1 as follow:\n",
        "\n",
        "from datetime import datetime\n",
        "# First we convert the column dateTime to a object called datetime.date much more useful for futur use\n",
        "print(type(data.project_submitted_datetime[0]))\n",
        "data.project_submitted_datetime = app_data.project_submitted_datetime.apply(lambda x: datetime.strptime(x, '%Y-%m-%d %H:%M:%S') )\n",
        "print(type(data.project_submitted_datetime[0]))\n",
        "data.project_submitted_datetime = app_data.project_submitted_datetime.apply(lambda x: x.date() )\n",
        "print(type(data.project_submitted_datetime[0]))\n",
        "\n",
        "Since the date are not ordinal but categorical we will use one hot encoded to treat them.\n",
        "We will separete the months the years and the days.\n",
        "We will drop the Time(Hours) since it seems that it does not matter a lot and there are multiple Timezone in the US.\n",
        "We will also add the Day of the Week (the day of the week as an integer, where Monday is 0 and Sunday is 6.)\n",
        "\"\"\"\n",
        "#Extract column date from the dataframe\n",
        "date = pd.DataFrame(data.project_submitted_datetime)\n",
        "\n",
        "# We create 4 new columns \n",
        "date['Year'] = \"\"\n",
        "date['Month'] = \"\"\n",
        "date['Day'] = \"\"\n",
        "date['DayOfWeek'] = \"\"\n",
        "# We update the values of the columns\n",
        "for index,row in date.iterrows():\n",
        "    date['Year'][index] = row.project_submitted_datetime.year\n",
        "    date['Month'][index] = row.project_submitted_datetime.month\n",
        "    date['Day'][index] = row.project_submitted_datetime.day\n",
        "    date['DayOfWeek'][index] = row.project_submitted_datetime.weekday()\n",
        "    \n",
        "\n",
        "\"\"\"# We create 4 new columns \n",
        "date['Year'] = date.apply(lambda x: x.year)\n",
        "date['Month'] = date.apply(lambda x: x.month)\n",
        "date['Day'] = date.apply(lambda x: x.day)\n",
        "date['DayOfWeek'] = date.apply(lambda x: x.weekday())\"\"\"\n",
        "\n",
        "date.head()"
      ],
      "execution_count": 108,
      "outputs": [
        {
          "output_type": "execute_result",
          "data": {
            "text/html": [
              "<div>\n",
              "<style scoped>\n",
              "    .dataframe tbody tr th:only-of-type {\n",
              "        vertical-align: middle;\n",
              "    }\n",
              "\n",
              "    .dataframe tbody tr th {\n",
              "        vertical-align: top;\n",
              "    }\n",
              "\n",
              "    .dataframe thead th {\n",
              "        text-align: right;\n",
              "    }\n",
              "</style>\n",
              "<table border=\"1\" class=\"dataframe\">\n",
              "  <thead>\n",
              "    <tr style=\"text-align: right;\">\n",
              "      <th></th>\n",
              "      <th>project_submitted_datetime</th>\n",
              "      <th>Year</th>\n",
              "      <th>Month</th>\n",
              "      <th>Day</th>\n",
              "      <th>DayOfWeek</th>\n",
              "    </tr>\n",
              "  </thead>\n",
              "  <tbody>\n",
              "    <tr>\n",
              "      <th>0</th>\n",
              "      <td>2016-11-18</td>\n",
              "      <td>2016</td>\n",
              "      <td>11</td>\n",
              "      <td>18</td>\n",
              "      <td>4</td>\n",
              "    </tr>\n",
              "    <tr>\n",
              "      <th>1</th>\n",
              "      <td>2017-04-26</td>\n",
              "      <td>2017</td>\n",
              "      <td>4</td>\n",
              "      <td>26</td>\n",
              "      <td>2</td>\n",
              "    </tr>\n",
              "    <tr>\n",
              "      <th>2</th>\n",
              "      <td>2017-01-01</td>\n",
              "      <td>2017</td>\n",
              "      <td>1</td>\n",
              "      <td>1</td>\n",
              "      <td>6</td>\n",
              "    </tr>\n",
              "    <tr>\n",
              "      <th>3</th>\n",
              "      <td>2016-08-12</td>\n",
              "      <td>2016</td>\n",
              "      <td>8</td>\n",
              "      <td>12</td>\n",
              "      <td>4</td>\n",
              "    </tr>\n",
              "    <tr>\n",
              "      <th>4</th>\n",
              "      <td>2016-08-06</td>\n",
              "      <td>2016</td>\n",
              "      <td>8</td>\n",
              "      <td>6</td>\n",
              "      <td>5</td>\n",
              "    </tr>\n",
              "  </tbody>\n",
              "</table>\n",
              "</div>"
            ],
            "text/plain": [
              "  project_submitted_datetime  Year Month Day DayOfWeek\n",
              "0                 2016-11-18  2016    11  18         4\n",
              "1                 2017-04-26  2017     4  26         2\n",
              "2                 2017-01-01  2017     1   1         6\n",
              "3                 2016-08-12  2016     8  12         4\n",
              "4                 2016-08-06  2016     8   6         5"
            ]
          },
          "metadata": {
            "tags": []
          },
          "execution_count": 108
        }
      ]
    },
    {
      "metadata": {
        "id": "hJTCOZTOZkwC",
        "colab_type": "code",
        "colab": {
          "base_uri": "https://localhost:8080/",
          "height": 589
        },
        "outputId": "22f09f90-048f-4ab9-fec3-28a698b58e46"
      },
      "cell_type": "code",
      "source": [
        "print(len(date))\n",
        "print(len(data))\n",
        "date.drop(columns=\"project_submitted_datetime\",inplace=True,axis='columns')\n",
        "\n",
        "data = pd.concat([data,date],axis=1,join_axes=[data.index])\n",
        "data.drop(columns=\"project_submitted_datetime\",inplace=True,axis='columns')\n",
        "\n",
        "print(len(data))\n",
        "data.head()"
      ],
      "execution_count": 130,
      "outputs": [
        {
          "output_type": "stream",
          "text": [
            "182076\n",
            "182076\n",
            "182076\n"
          ],
          "name": "stdout"
        },
        {
          "output_type": "execute_result",
          "data": {
            "text/html": [
              "<div>\n",
              "<style scoped>\n",
              "    .dataframe tbody tr th:only-of-type {\n",
              "        vertical-align: middle;\n",
              "    }\n",
              "\n",
              "    .dataframe tbody tr th {\n",
              "        vertical-align: top;\n",
              "    }\n",
              "\n",
              "    .dataframe thead th {\n",
              "        text-align: right;\n",
              "    }\n",
              "</style>\n",
              "<table border=\"1\" class=\"dataframe\">\n",
              "  <thead>\n",
              "    <tr style=\"text-align: right;\">\n",
              "      <th></th>\n",
              "      <th>project_title</th>\n",
              "      <th>project_essay_1</th>\n",
              "      <th>project_essay_2</th>\n",
              "      <th>project_resource_summary</th>\n",
              "      <th>teacher_number_of_previously_posted_projects</th>\n",
              "      <th>project_is_approved</th>\n",
              "      <th>nbProject_teacher</th>\n",
              "      <th>teacher_prefix_Dr.</th>\n",
              "      <th>teacher_prefix_Mr.</th>\n",
              "      <th>teacher_prefix_Mrs.</th>\n",
              "      <th>...</th>\n",
              "      <th>special needs</th>\n",
              "      <th>team sports</th>\n",
              "      <th>visual arts</th>\n",
              "      <th>warmth</th>\n",
              "      <th>wellness</th>\n",
              "      <th>writing</th>\n",
              "      <th>Year</th>\n",
              "      <th>Month</th>\n",
              "      <th>Day</th>\n",
              "      <th>DayOfWeek</th>\n",
              "    </tr>\n",
              "  </thead>\n",
              "  <tbody>\n",
              "    <tr>\n",
              "      <th>0</th>\n",
              "      <td>Super Sight Word Centers</td>\n",
              "      <td>Most of my kindergarten students come from low...</td>\n",
              "      <td>I currently have a differentiated sight word c...</td>\n",
              "      <td>My students need 6 Ipod Nano's to create and d...</td>\n",
              "      <td>26.0</td>\n",
              "      <td>1.0</td>\n",
              "      <td>10</td>\n",
              "      <td>0</td>\n",
              "      <td>0</td>\n",
              "      <td>0</td>\n",
              "      <td>...</td>\n",
              "      <td>0.0</td>\n",
              "      <td>0.0</td>\n",
              "      <td>0.0</td>\n",
              "      <td>0.0</td>\n",
              "      <td>0.0</td>\n",
              "      <td>0.0</td>\n",
              "      <td>2016</td>\n",
              "      <td>11</td>\n",
              "      <td>18</td>\n",
              "      <td>4</td>\n",
              "    </tr>\n",
              "    <tr>\n",
              "      <th>1</th>\n",
              "      <td>Keep Calm and Dance On</td>\n",
              "      <td>Our elementary school is a culturally rich sch...</td>\n",
              "      <td>We strive to provide our diverse population of...</td>\n",
              "      <td>My students need matching shirts to wear for d...</td>\n",
              "      <td>1.0</td>\n",
              "      <td>0.0</td>\n",
              "      <td>1</td>\n",
              "      <td>0</td>\n",
              "      <td>0</td>\n",
              "      <td>1</td>\n",
              "      <td>...</td>\n",
              "      <td>0.0</td>\n",
              "      <td>1.0</td>\n",
              "      <td>0.0</td>\n",
              "      <td>0.0</td>\n",
              "      <td>0.0</td>\n",
              "      <td>0.0</td>\n",
              "      <td>2017</td>\n",
              "      <td>4</td>\n",
              "      <td>26</td>\n",
              "      <td>2</td>\n",
              "    </tr>\n",
              "    <tr>\n",
              "      <th>2</th>\n",
              "      <td>Lets 3Doodle to Learn</td>\n",
              "      <td>Hello;\\r\\nMy name is Mrs. Brotherton. I teach ...</td>\n",
              "      <td>We are looking to add some 3Doodler to our cla...</td>\n",
              "      <td>My students need the 3doodler. We are an SEM s...</td>\n",
              "      <td>5.0</td>\n",
              "      <td>1.0</td>\n",
              "      <td>4</td>\n",
              "      <td>0</td>\n",
              "      <td>0</td>\n",
              "      <td>0</td>\n",
              "      <td>...</td>\n",
              "      <td>0.0</td>\n",
              "      <td>0.0</td>\n",
              "      <td>0.0</td>\n",
              "      <td>0.0</td>\n",
              "      <td>0.0</td>\n",
              "      <td>1.0</td>\n",
              "      <td>2017</td>\n",
              "      <td>1</td>\n",
              "      <td>1</td>\n",
              "      <td>6</td>\n",
              "    </tr>\n",
              "    <tr>\n",
              "      <th>3</th>\n",
              "      <td>\\\"Kid Inspired\\\" Equipment to Increase Activit...</td>\n",
              "      <td>My students are the greatest students but are ...</td>\n",
              "      <td>The student's project which is totally \\\"kid-i...</td>\n",
              "      <td>My students need balls and other activity equi...</td>\n",
              "      <td>16.0</td>\n",
              "      <td>0.0</td>\n",
              "      <td>16</td>\n",
              "      <td>0</td>\n",
              "      <td>1</td>\n",
              "      <td>0</td>\n",
              "      <td>...</td>\n",
              "      <td>0.0</td>\n",
              "      <td>0.0</td>\n",
              "      <td>0.0</td>\n",
              "      <td>0.0</td>\n",
              "      <td>1.0</td>\n",
              "      <td>0.0</td>\n",
              "      <td>2016</td>\n",
              "      <td>8</td>\n",
              "      <td>12</td>\n",
              "      <td>4</td>\n",
              "    </tr>\n",
              "    <tr>\n",
              "      <th>4</th>\n",
              "      <td>We need clean water for our culinary arts class!</td>\n",
              "      <td>My students are athletes and students who are ...</td>\n",
              "      <td>For some reason in our kitchen the water comes...</td>\n",
              "      <td>My students need a water filtration system for...</td>\n",
              "      <td>42.0</td>\n",
              "      <td>1.0</td>\n",
              "      <td>10</td>\n",
              "      <td>0</td>\n",
              "      <td>1</td>\n",
              "      <td>0</td>\n",
              "      <td>...</td>\n",
              "      <td>0.0</td>\n",
              "      <td>0.0</td>\n",
              "      <td>0.0</td>\n",
              "      <td>0.0</td>\n",
              "      <td>1.0</td>\n",
              "      <td>0.0</td>\n",
              "      <td>2016</td>\n",
              "      <td>8</td>\n",
              "      <td>6</td>\n",
              "      <td>5</td>\n",
              "    </tr>\n",
              "  </tbody>\n",
              "</table>\n",
              "<p>5 rows × 123 columns</p>\n",
              "</div>"
            ],
            "text/plain": [
              "                                       project_title  \\\n",
              "0                           Super Sight Word Centers   \n",
              "1                             Keep Calm and Dance On   \n",
              "2                              Lets 3Doodle to Learn   \n",
              "3  \\\"Kid Inspired\\\" Equipment to Increase Activit...   \n",
              "4   We need clean water for our culinary arts class!   \n",
              "\n",
              "                                     project_essay_1  \\\n",
              "0  Most of my kindergarten students come from low...   \n",
              "1  Our elementary school is a culturally rich sch...   \n",
              "2  Hello;\\r\\nMy name is Mrs. Brotherton. I teach ...   \n",
              "3  My students are the greatest students but are ...   \n",
              "4  My students are athletes and students who are ...   \n",
              "\n",
              "                                     project_essay_2  \\\n",
              "0  I currently have a differentiated sight word c...   \n",
              "1  We strive to provide our diverse population of...   \n",
              "2  We are looking to add some 3Doodler to our cla...   \n",
              "3  The student's project which is totally \\\"kid-i...   \n",
              "4  For some reason in our kitchen the water comes...   \n",
              "\n",
              "                            project_resource_summary  \\\n",
              "0  My students need 6 Ipod Nano's to create and d...   \n",
              "1  My students need matching shirts to wear for d...   \n",
              "2  My students need the 3doodler. We are an SEM s...   \n",
              "3  My students need balls and other activity equi...   \n",
              "4  My students need a water filtration system for...   \n",
              "\n",
              "   teacher_number_of_previously_posted_projects  project_is_approved  \\\n",
              "0                                          26.0                  1.0   \n",
              "1                                           1.0                  0.0   \n",
              "2                                           5.0                  1.0   \n",
              "3                                          16.0                  0.0   \n",
              "4                                          42.0                  1.0   \n",
              "\n",
              "   nbProject_teacher  teacher_prefix_Dr.  teacher_prefix_Mr.  \\\n",
              "0                 10                   0                   0   \n",
              "1                  1                   0                   0   \n",
              "2                  4                   0                   0   \n",
              "3                 16                   0                   1   \n",
              "4                 10                   0                   1   \n",
              "\n",
              "   teacher_prefix_Mrs.    ...      special needs  team sports  visual arts  \\\n",
              "0                    0    ...                0.0          0.0          0.0   \n",
              "1                    1    ...                0.0          1.0          0.0   \n",
              "2                    0    ...                0.0          0.0          0.0   \n",
              "3                    0    ...                0.0          0.0          0.0   \n",
              "4                    0    ...                0.0          0.0          0.0   \n",
              "\n",
              "   warmth  wellness  writing  Year  Month  Day  DayOfWeek  \n",
              "0     0.0       0.0      0.0  2016     11   18          4  \n",
              "1     0.0       0.0      0.0  2017      4   26          2  \n",
              "2     0.0       0.0      1.0  2017      1    1          6  \n",
              "3     0.0       1.0      0.0  2016      8   12          4  \n",
              "4     0.0       1.0      0.0  2016      8    6          5  \n",
              "\n",
              "[5 rows x 123 columns]"
            ]
          },
          "metadata": {
            "tags": []
          },
          "execution_count": 130
        }
      ]
    },
    {
      "metadata": {
        "id": "Wa5tMJ8ZZkwF",
        "colab_type": "text"
      },
      "cell_type": "markdown",
      "source": [
        "## Part 3: Encoding Textual Features"
      ]
    },
    {
      "metadata": {
        "id": "ZizjwgCmZkwG",
        "colab_type": "text"
      },
      "cell_type": "markdown",
      "source": [
        "**Q 1:** Concat all textual fields into a single field and preprocess them using the steps we used in sentiment analysis demo (lower case, stop word removal, remove terms with digits, stemming). "
      ]
    },
    {
      "metadata": {
        "id": "38942-WkZkwJ",
        "colab_type": "code",
        "colab": {
          "base_uri": "https://localhost:8080/",
          "height": 166
        },
        "outputId": "33d3564f-4e25-49e8-b52b-6f6daf4372a1"
      },
      "cell_type": "code",
      "source": [
        "# Find the name of all the textual features\n",
        "col = np.array(data.columns)\n",
        "#print(col)\n",
        "\n",
        "textual_features = ['project_title','project_resource_summary','project_essay_1','project_essay_2']\n",
        "\n",
        "tmp = data[textual_features].apply(lambda x : x[0]+\"\"+x[1]+\"\"+x[2]+\"\"+x[3],axis=1)\n",
        "\n",
        "data['text']=tmp\n",
        "#print(tmp)\n",
        "print(data.text[0])\n",
        "print('puteeeeeeeeeeeeeeeee')\n",
        "print(data.project_title[0])\n",
        "print('puteeeeeeeeeeeeeeeee')\n",
        "print(data.project_essay_1[0])\n",
        "print('puteeeeeeeeeeeeeeeee')\n",
        "print(data.project_essay_2[0])\n",
        "\n",
        "data.drop(columns=textual_features,inplace=True,axis='columns')"
      ],
      "execution_count": 131,
      "outputs": [
        {
          "output_type": "stream",
          "text": [
            "Super Sight Word CentersMy students need 6 Ipod Nano's to create and differentiated and engaging way to practice sight words during a literacy station.Most of my kindergarten students come from low-income households and are considered \\\"at-risk\\\". These kids walk to school alongside their parents and most have never been further than walking distance from their house. For 80% of my students, English is not their first language or the language spoken at home. \\r\\n\\r\\nWhile my kindergarten kids have many obstacles in front of them, they come to school each day excited and ready to learn. Most students started the year out never being in a school setting. At the start of the year many had never been exposed to letters. Each day they soak up more knowledge and try their hardest to succeed. They are highly motivated to learn new things every day. We are halfway through the year and they are starting to take off. They know know all letters, some sight words, numbers to 20, and a majority of their letter sounds because of their hard work and determination. I am excited to see the places we will go from here!I currently have a differentiated sight word center that we do daily during our literacy stations. The students have activities that relate to whatever sight word list they are on. This is one of their favorite station activities. I want to continue to provide the students with engaging ways to practice their sight words. \\r\\n\\r\\nI dream of having the students use QR readers to scan the sight words that they are struggling with and the Ipods reading the sight words with them. This would help so many of my students by giving them multiple exposures to the words. My students need someone who can go over these sight words daily and I can't always get around to everyone to practice their flashcards with them. With the Ipods they would still have a way to practice their sight words on a daily basis.\n",
            "puteeeeeeeeeeeeeeeee\n",
            "Super Sight Word Centers\n",
            "puteeeeeeeeeeeeeeeee\n",
            "Most of my kindergarten students come from low-income households and are considered \\\"at-risk\\\". These kids walk to school alongside their parents and most have never been further than walking distance from their house. For 80% of my students, English is not their first language or the language spoken at home. \\r\\n\\r\\nWhile my kindergarten kids have many obstacles in front of them, they come to school each day excited and ready to learn. Most students started the year out never being in a school setting. At the start of the year many had never been exposed to letters. Each day they soak up more knowledge and try their hardest to succeed. They are highly motivated to learn new things every day. We are halfway through the year and they are starting to take off. They know know all letters, some sight words, numbers to 20, and a majority of their letter sounds because of their hard work and determination. I am excited to see the places we will go from here!\n",
            "puteeeeeeeeeeeeeeeee\n",
            "I currently have a differentiated sight word center that we do daily during our literacy stations. The students have activities that relate to whatever sight word list they are on. This is one of their favorite station activities. I want to continue to provide the students with engaging ways to practice their sight words. \\r\\n\\r\\nI dream of having the students use QR readers to scan the sight words that they are struggling with and the Ipods reading the sight words with them. This would help so many of my students by giving them multiple exposures to the words. My students need someone who can go over these sight words daily and I can't always get around to everyone to practice their flashcards with them. With the Ipods they would still have a way to practice their sight words on a daily basis.\n"
          ],
          "name": "stdout"
        }
      ]
    },
    {
      "metadata": {
        "id": "PX2D9IF7ZkwP",
        "colab_type": "code",
        "colab": {
          "base_uri": "https://localhost:8080/",
          "height": 55
        },
        "outputId": "9fea7e67-b40e-43ee-c307-87de3ead1045"
      },
      "cell_type": "code",
      "source": [
        "#remove terms with digits-----------------------------------------------------------------------\n",
        "import re\n",
        "\n",
        "data['text'] = data['text'].apply(lambda x: re.sub('[^a-zA-Z]', ' ', x))  \n",
        "print(data['text'][0])"
      ],
      "execution_count": 132,
      "outputs": [
        {
          "output_type": "stream",
          "text": [
            "Super Sight Word CentersMy students need   Ipod Nano s to create and differentiated and engaging way to practice sight words during a literacy station Most of my kindergarten students come from low income households and are considered   at risk    These kids walk to school alongside their parents and most have never been further than walking distance from their house  For     of my students  English is not their first language or the language spoken at home   r n r nWhile my kindergarten kids have many obstacles in front of them  they come to school each day excited and ready to learn  Most students started the year out never being in a school setting  At the start of the year many had never been exposed to letters  Each day they soak up more knowledge and try their hardest to succeed  They are highly motivated to learn new things every day  We are halfway through the year and they are starting to take off  They know know all letters  some sight words  numbers to     and a majority of their letter sounds because of their hard work and determination  I am excited to see the places we will go from here I currently have a differentiated sight word center that we do daily during our literacy stations  The students have activities that relate to whatever sight word list they are on  This is one of their favorite station activities  I want to continue to provide the students with engaging ways to practice their sight words   r n r nI dream of having the students use QR readers to scan the sight words that they are struggling with and the Ipods reading the sight words with them  This would help so many of my students by giving them multiple exposures to the words  My students need someone who can go over these sight words daily and I can t always get around to everyone to practice their flashcards with them  With the Ipods they would still have a way to practice their sight words on a daily basis \n"
          ],
          "name": "stdout"
        }
      ]
    },
    {
      "metadata": {
        "id": "BBv9o_yfZkwQ",
        "colab_type": "code",
        "colab": {
          "base_uri": "https://localhost:8080/",
          "height": 55
        },
        "outputId": "49df58d9-dcda-4959-e6e1-ad4ddde16bb3"
      },
      "cell_type": "code",
      "source": [
        "print(data['text'][0])"
      ],
      "execution_count": 133,
      "outputs": [
        {
          "output_type": "stream",
          "text": [
            "Super Sight Word CentersMy students need   Ipod Nano s to create and differentiated and engaging way to practice sight words during a literacy station Most of my kindergarten students come from low income households and are considered   at risk    These kids walk to school alongside their parents and most have never been further than walking distance from their house  For     of my students  English is not their first language or the language spoken at home   r n r nWhile my kindergarten kids have many obstacles in front of them  they come to school each day excited and ready to learn  Most students started the year out never being in a school setting  At the start of the year many had never been exposed to letters  Each day they soak up more knowledge and try their hardest to succeed  They are highly motivated to learn new things every day  We are halfway through the year and they are starting to take off  They know know all letters  some sight words  numbers to     and a majority of their letter sounds because of their hard work and determination  I am excited to see the places we will go from here I currently have a differentiated sight word center that we do daily during our literacy stations  The students have activities that relate to whatever sight word list they are on  This is one of their favorite station activities  I want to continue to provide the students with engaging ways to practice their sight words   r n r nI dream of having the students use QR readers to scan the sight words that they are struggling with and the Ipods reading the sight words with them  This would help so many of my students by giving them multiple exposures to the words  My students need someone who can go over these sight words daily and I can t always get around to everyone to practice their flashcards with them  With the Ipods they would still have a way to practice their sight words on a daily basis \n"
          ],
          "name": "stdout"
        }
      ]
    },
    {
      "metadata": {
        "id": "aiMiFIBmZkwU",
        "colab_type": "code",
        "colab": {
          "base_uri": "https://localhost:8080/",
          "height": 55
        },
        "outputId": "6c87b992-24bd-4118-b4f7-779fd29c4acf"
      },
      "cell_type": "code",
      "source": [
        "#lower case-----------------------------------------------------------------------------\n",
        "# Lower case and separate into tokens\n",
        "features=0\n",
        "\n",
        "data['text'] = data['text'].apply(lambda x: x.lower().split())  \n",
        "\n",
        "print(data['text'][0])"
      ],
      "execution_count": 134,
      "outputs": [
        {
          "output_type": "stream",
          "text": [
            "['super', 'sight', 'word', 'centersmy', 'students', 'need', 'ipod', 'nano', 's', 'to', 'create', 'and', 'differentiated', 'and', 'engaging', 'way', 'to', 'practice', 'sight', 'words', 'during', 'a', 'literacy', 'station', 'most', 'of', 'my', 'kindergarten', 'students', 'come', 'from', 'low', 'income', 'households', 'and', 'are', 'considered', 'at', 'risk', 'these', 'kids', 'walk', 'to', 'school', 'alongside', 'their', 'parents', 'and', 'most', 'have', 'never', 'been', 'further', 'than', 'walking', 'distance', 'from', 'their', 'house', 'for', 'of', 'my', 'students', 'english', 'is', 'not', 'their', 'first', 'language', 'or', 'the', 'language', 'spoken', 'at', 'home', 'r', 'n', 'r', 'nwhile', 'my', 'kindergarten', 'kids', 'have', 'many', 'obstacles', 'in', 'front', 'of', 'them', 'they', 'come', 'to', 'school', 'each', 'day', 'excited', 'and', 'ready', 'to', 'learn', 'most', 'students', 'started', 'the', 'year', 'out', 'never', 'being', 'in', 'a', 'school', 'setting', 'at', 'the', 'start', 'of', 'the', 'year', 'many', 'had', 'never', 'been', 'exposed', 'to', 'letters', 'each', 'day', 'they', 'soak', 'up', 'more', 'knowledge', 'and', 'try', 'their', 'hardest', 'to', 'succeed', 'they', 'are', 'highly', 'motivated', 'to', 'learn', 'new', 'things', 'every', 'day', 'we', 'are', 'halfway', 'through', 'the', 'year', 'and', 'they', 'are', 'starting', 'to', 'take', 'off', 'they', 'know', 'know', 'all', 'letters', 'some', 'sight', 'words', 'numbers', 'to', 'and', 'a', 'majority', 'of', 'their', 'letter', 'sounds', 'because', 'of', 'their', 'hard', 'work', 'and', 'determination', 'i', 'am', 'excited', 'to', 'see', 'the', 'places', 'we', 'will', 'go', 'from', 'here', 'i', 'currently', 'have', 'a', 'differentiated', 'sight', 'word', 'center', 'that', 'we', 'do', 'daily', 'during', 'our', 'literacy', 'stations', 'the', 'students', 'have', 'activities', 'that', 'relate', 'to', 'whatever', 'sight', 'word', 'list', 'they', 'are', 'on', 'this', 'is', 'one', 'of', 'their', 'favorite', 'station', 'activities', 'i', 'want', 'to', 'continue', 'to', 'provide', 'the', 'students', 'with', 'engaging', 'ways', 'to', 'practice', 'their', 'sight', 'words', 'r', 'n', 'r', 'ni', 'dream', 'of', 'having', 'the', 'students', 'use', 'qr', 'readers', 'to', 'scan', 'the', 'sight', 'words', 'that', 'they', 'are', 'struggling', 'with', 'and', 'the', 'ipods', 'reading', 'the', 'sight', 'words', 'with', 'them', 'this', 'would', 'help', 'so', 'many', 'of', 'my', 'students', 'by', 'giving', 'them', 'multiple', 'exposures', 'to', 'the', 'words', 'my', 'students', 'need', 'someone', 'who', 'can', 'go', 'over', 'these', 'sight', 'words', 'daily', 'and', 'i', 'can', 't', 'always', 'get', 'around', 'to', 'everyone', 'to', 'practice', 'their', 'flashcards', 'with', 'them', 'with', 'the', 'ipods', 'they', 'would', 'still', 'have', 'a', 'way', 'to', 'practice', 'their', 'sight', 'words', 'on', 'a', 'daily', 'basis']\n"
          ],
          "name": "stdout"
        }
      ]
    },
    {
      "metadata": {
        "id": "L4lhMd6WZkwW",
        "colab_type": "code",
        "colab": {
          "base_uri": "https://localhost:8080/",
          "height": 110
        },
        "outputId": "b8f16a40-04ba-40b2-de0a-42347ebc659c"
      },
      "cell_type": "code",
      "source": [
        "#stop word removal--------------------------------------------------------------------------\n",
        "\n",
        "# Download stop words dataset of NLTK library\n",
        "import nltk\n",
        "nltk.download('stopwords')\n",
        "# Remove stop words\n",
        "from nltk.corpus import stopwords \n",
        "print (stopwords.words('english'))\n",
        "stop_words = stopwords.words('english')\n",
        "\n",
        "\n",
        "data['text'] =data['text'].apply(lambda x: [w for w in x if w not in stop_words])\n",
        "\n",
        "\n",
        "print(data['text'][0])"
      ],
      "execution_count": 135,
      "outputs": [
        {
          "output_type": "stream",
          "text": [
            "[nltk_data] Downloading package stopwords to /root/nltk_data...\n",
            "[nltk_data]   Package stopwords is already up-to-date!\n",
            "['i', 'me', 'my', 'myself', 'we', 'our', 'ours', 'ourselves', 'you', \"you're\", \"you've\", \"you'll\", \"you'd\", 'your', 'yours', 'yourself', 'yourselves', 'he', 'him', 'his', 'himself', 'she', \"she's\", 'her', 'hers', 'herself', 'it', \"it's\", 'its', 'itself', 'they', 'them', 'their', 'theirs', 'themselves', 'what', 'which', 'who', 'whom', 'this', 'that', \"that'll\", 'these', 'those', 'am', 'is', 'are', 'was', 'were', 'be', 'been', 'being', 'have', 'has', 'had', 'having', 'do', 'does', 'did', 'doing', 'a', 'an', 'the', 'and', 'but', 'if', 'or', 'because', 'as', 'until', 'while', 'of', 'at', 'by', 'for', 'with', 'about', 'against', 'between', 'into', 'through', 'during', 'before', 'after', 'above', 'below', 'to', 'from', 'up', 'down', 'in', 'out', 'on', 'off', 'over', 'under', 'again', 'further', 'then', 'once', 'here', 'there', 'when', 'where', 'why', 'how', 'all', 'any', 'both', 'each', 'few', 'more', 'most', 'other', 'some', 'such', 'no', 'nor', 'not', 'only', 'own', 'same', 'so', 'than', 'too', 'very', 's', 't', 'can', 'will', 'just', 'don', \"don't\", 'should', \"should've\", 'now', 'd', 'll', 'm', 'o', 're', 've', 'y', 'ain', 'aren', \"aren't\", 'couldn', \"couldn't\", 'didn', \"didn't\", 'doesn', \"doesn't\", 'hadn', \"hadn't\", 'hasn', \"hasn't\", 'haven', \"haven't\", 'isn', \"isn't\", 'ma', 'mightn', \"mightn't\", 'mustn', \"mustn't\", 'needn', \"needn't\", 'shan', \"shan't\", 'shouldn', \"shouldn't\", 'wasn', \"wasn't\", 'weren', \"weren't\", 'won', \"won't\", 'wouldn', \"wouldn't\"]\n",
            "['super', 'sight', 'word', 'centersmy', 'students', 'need', 'ipod', 'nano', 'create', 'differentiated', 'engaging', 'way', 'practice', 'sight', 'words', 'literacy', 'station', 'kindergarten', 'students', 'come', 'low', 'income', 'households', 'considered', 'risk', 'kids', 'walk', 'school', 'alongside', 'parents', 'never', 'walking', 'distance', 'house', 'students', 'english', 'first', 'language', 'language', 'spoken', 'home', 'r', 'n', 'r', 'nwhile', 'kindergarten', 'kids', 'many', 'obstacles', 'front', 'come', 'school', 'day', 'excited', 'ready', 'learn', 'students', 'started', 'year', 'never', 'school', 'setting', 'start', 'year', 'many', 'never', 'exposed', 'letters', 'day', 'soak', 'knowledge', 'try', 'hardest', 'succeed', 'highly', 'motivated', 'learn', 'new', 'things', 'every', 'day', 'halfway', 'year', 'starting', 'take', 'know', 'know', 'letters', 'sight', 'words', 'numbers', 'majority', 'letter', 'sounds', 'hard', 'work', 'determination', 'excited', 'see', 'places', 'go', 'currently', 'differentiated', 'sight', 'word', 'center', 'daily', 'literacy', 'stations', 'students', 'activities', 'relate', 'whatever', 'sight', 'word', 'list', 'one', 'favorite', 'station', 'activities', 'want', 'continue', 'provide', 'students', 'engaging', 'ways', 'practice', 'sight', 'words', 'r', 'n', 'r', 'ni', 'dream', 'students', 'use', 'qr', 'readers', 'scan', 'sight', 'words', 'struggling', 'ipods', 'reading', 'sight', 'words', 'would', 'help', 'many', 'students', 'giving', 'multiple', 'exposures', 'words', 'students', 'need', 'someone', 'go', 'sight', 'words', 'daily', 'always', 'get', 'around', 'everyone', 'practice', 'flashcards', 'ipods', 'would', 'still', 'way', 'practice', 'sight', 'words', 'daily', 'basis']\n"
          ],
          "name": "stdout"
        }
      ]
    },
    {
      "metadata": {
        "id": "Xb6p6GnDZkwZ",
        "colab_type": "code",
        "colab": {
          "base_uri": "https://localhost:8080/",
          "height": 110
        },
        "outputId": "8a1d22de-43e1-412b-c856-c417a1f9d0f8"
      },
      "cell_type": "code",
      "source": [
        "#stemming-------------------------------------------------------------------------------------------\n",
        "\n",
        "# Stem words\n",
        "\n",
        "from nltk.stem import SnowballStemmer\n",
        "\n",
        "stemmer = SnowballStemmer('english')\n",
        "\n",
        "print(stemmer.stem('grows'))\n",
        "print(stemmer.stem('leaves'))\n",
        "print(stemmer.stem('fairly'))\n",
        "\n",
        "def stemmed(words):\n",
        "  words_stemmed = [stemmer.stem(w) for w in words]\n",
        "  return words_stemmed\n",
        "\n",
        "data['text'] = data['text'].apply(lambda x: [stemmer.stem(w) for w in x])\n",
        "\n",
        "print (data['text'][0])"
      ],
      "execution_count": 136,
      "outputs": [
        {
          "output_type": "stream",
          "text": [
            "grow\n",
            "leav\n",
            "fair\n",
            "['super', 'sight', 'word', 'centersmi', 'student', 'need', 'ipod', 'nano', 'creat', 'differenti', 'engag', 'way', 'practic', 'sight', 'word', 'literaci', 'station', 'kindergarten', 'student', 'come', 'low', 'incom', 'household', 'consid', 'risk', 'kid', 'walk', 'school', 'alongsid', 'parent', 'never', 'walk', 'distanc', 'hous', 'student', 'english', 'first', 'languag', 'languag', 'spoken', 'home', 'r', 'n', 'r', 'nwhile', 'kindergarten', 'kid', 'mani', 'obstacl', 'front', 'come', 'school', 'day', 'excit', 'readi', 'learn', 'student', 'start', 'year', 'never', 'school', 'set', 'start', 'year', 'mani', 'never', 'expos', 'letter', 'day', 'soak', 'knowledg', 'tri', 'hardest', 'succeed', 'high', 'motiv', 'learn', 'new', 'thing', 'everi', 'day', 'halfway', 'year', 'start', 'take', 'know', 'know', 'letter', 'sight', 'word', 'number', 'major', 'letter', 'sound', 'hard', 'work', 'determin', 'excit', 'see', 'place', 'go', 'current', 'differenti', 'sight', 'word', 'center', 'daili', 'literaci', 'station', 'student', 'activ', 'relat', 'whatev', 'sight', 'word', 'list', 'one', 'favorit', 'station', 'activ', 'want', 'continu', 'provid', 'student', 'engag', 'way', 'practic', 'sight', 'word', 'r', 'n', 'r', 'ni', 'dream', 'student', 'use', 'qr', 'reader', 'scan', 'sight', 'word', 'struggl', 'ipod', 'read', 'sight', 'word', 'would', 'help', 'mani', 'student', 'give', 'multipl', 'exposur', 'word', 'student', 'need', 'someon', 'go', 'sight', 'word', 'daili', 'alway', 'get', 'around', 'everyon', 'practic', 'flashcard', 'ipod', 'would', 'still', 'way', 'practic', 'sight', 'word', 'daili', 'basi']\n"
          ],
          "name": "stdout"
        }
      ]
    },
    {
      "metadata": {
        "id": "HDaa9mCkZkwa",
        "colab_type": "text"
      },
      "cell_type": "markdown",
      "source": [
        "**Q 2:** Convert your preprocessed text into tfidf vectors and considr only the top 500 features ordered by term frequency. "
      ]
    },
    {
      "metadata": {
        "id": "anaz6bQ2Zkwb",
        "colab_type": "text"
      },
      "cell_type": "markdown",
      "source": [
        "Hint: Use the *TfidfVectorizer* class from *sklearn.feature_extraction.text* package and convert its sparse matrix output to a dataframe."
      ]
    },
    {
      "metadata": {
        "id": "xJLjIXLb_cGb",
        "colab_type": "code",
        "colab": {}
      },
      "cell_type": "code",
      "source": [
        "# WE regroup every row of text to one string\n",
        "\n",
        "data['text'] = data['text'].apply(lambda x: ' '.join(x))"
      ],
      "execution_count": 0,
      "outputs": []
    },
    {
      "metadata": {
        "id": "kzTWxmkWZkwc",
        "colab_type": "code",
        "colab": {
          "base_uri": "https://localhost:8080/",
          "height": 164
        },
        "outputId": "1318c01a-5447-458f-9aea-bf60a3e797d2"
      },
      "cell_type": "code",
      "source": [
        "\"\"\"\n",
        "Make a vocabulary by concatenate all the texts. Then get the TOP 500 and keep only those words in each row\n",
        "\"\"\"\n",
        "from sklearn.feature_extraction.text import CountVectorizer,TfidfVectorizer\n",
        "\n",
        "vectorizer = TfidfVectorizer(max_features = 500)\n",
        "features = vectorizer.fit_transform(data['text'])\n",
        "features = features.toarray()\n",
        "print(features.shape)\n",
        "print(features)"
      ],
      "execution_count": 138,
      "outputs": [
        {
          "output_type": "stream",
          "text": [
            "(182076, 500)\n",
            "[[0.         0.         0.         ... 0.10111955 0.         0.        ]\n",
            " [0.         0.         0.         ... 0.         0.         0.        ]\n",
            " [0.         0.04694891 0.         ... 0.04710273 0.         0.        ]\n",
            " ...\n",
            " [0.         0.06298499 0.         ... 0.         0.         0.        ]\n",
            " [0.         0.04330731 0.         ... 0.         0.         0.07887938]\n",
            " [0.         0.07811888 0.         ... 0.11756224 0.         0.        ]]\n"
          ],
          "name": "stdout"
        }
      ]
    },
    {
      "metadata": {
        "id": "5XK49Wp4Zkwe",
        "colab_type": "code",
        "colab": {}
      },
      "cell_type": "code",
      "source": [
        "# We convert hsparse to csr\n",
        "#SM = features.tocsr()\n",
        "# Convert our matrix to a dataframe\n",
        "#tfidf_df = pd.DataFrame([ pd.SparseSeries(SM[i].toarray().ravel()) for i in np.arange(SM.shape[0]) ])\n",
        "tfidf_df = pd.DataFrame(features)"
      ],
      "execution_count": 0,
      "outputs": []
    },
    {
      "metadata": {
        "id": "Mn4NYl-NCYza",
        "colab_type": "code",
        "colab": {
          "base_uri": "https://localhost:8080/",
          "height": 254
        },
        "outputId": "6ee66ba9-dc1a-41f3-bf05-cd6921762147"
      },
      "cell_type": "code",
      "source": [
        "print((tfidf_df.shape))\n",
        "tfidf_df.head()"
      ],
      "execution_count": 140,
      "outputs": [
        {
          "output_type": "stream",
          "text": [
            "(182076, 500)\n"
          ],
          "name": "stdout"
        },
        {
          "output_type": "execute_result",
          "data": {
            "text/html": [
              "<div>\n",
              "<style scoped>\n",
              "    .dataframe tbody tr th:only-of-type {\n",
              "        vertical-align: middle;\n",
              "    }\n",
              "\n",
              "    .dataframe tbody tr th {\n",
              "        vertical-align: top;\n",
              "    }\n",
              "\n",
              "    .dataframe thead th {\n",
              "        text-align: right;\n",
              "    }\n",
              "</style>\n",
              "<table border=\"1\" class=\"dataframe\">\n",
              "  <thead>\n",
              "    <tr style=\"text-align: right;\">\n",
              "      <th></th>\n",
              "      <th>0</th>\n",
              "      <th>1</th>\n",
              "      <th>2</th>\n",
              "      <th>3</th>\n",
              "      <th>4</th>\n",
              "      <th>5</th>\n",
              "      <th>6</th>\n",
              "      <th>7</th>\n",
              "      <th>8</th>\n",
              "      <th>9</th>\n",
              "      <th>...</th>\n",
              "      <th>490</th>\n",
              "      <th>491</th>\n",
              "      <th>492</th>\n",
              "      <th>493</th>\n",
              "      <th>494</th>\n",
              "      <th>495</th>\n",
              "      <th>496</th>\n",
              "      <th>497</th>\n",
              "      <th>498</th>\n",
              "      <th>499</th>\n",
              "    </tr>\n",
              "  </thead>\n",
              "  <tbody>\n",
              "    <tr>\n",
              "      <th>0</th>\n",
              "      <td>0.0</td>\n",
              "      <td>0.000000</td>\n",
              "      <td>0.0</td>\n",
              "      <td>0.0</td>\n",
              "      <td>0.000000</td>\n",
              "      <td>0.076749</td>\n",
              "      <td>0.000000</td>\n",
              "      <td>0.000000</td>\n",
              "      <td>0.0</td>\n",
              "      <td>0.000000</td>\n",
              "      <td>...</td>\n",
              "      <td>0.0</td>\n",
              "      <td>0.000000</td>\n",
              "      <td>0.673535</td>\n",
              "      <td>0.02786</td>\n",
              "      <td>0.0</td>\n",
              "      <td>0.076219</td>\n",
              "      <td>0.0</td>\n",
              "      <td>0.101120</td>\n",
              "      <td>0.0</td>\n",
              "      <td>0.0</td>\n",
              "    </tr>\n",
              "    <tr>\n",
              "      <th>1</th>\n",
              "      <td>0.0</td>\n",
              "      <td>0.000000</td>\n",
              "      <td>0.0</td>\n",
              "      <td>0.0</td>\n",
              "      <td>0.000000</td>\n",
              "      <td>0.069486</td>\n",
              "      <td>0.000000</td>\n",
              "      <td>0.099428</td>\n",
              "      <td>0.0</td>\n",
              "      <td>0.000000</td>\n",
              "      <td>...</td>\n",
              "      <td>0.0</td>\n",
              "      <td>0.000000</td>\n",
              "      <td>0.000000</td>\n",
              "      <td>0.00000</td>\n",
              "      <td>0.0</td>\n",
              "      <td>0.000000</td>\n",
              "      <td>0.0</td>\n",
              "      <td>0.000000</td>\n",
              "      <td>0.0</td>\n",
              "      <td>0.0</td>\n",
              "    </tr>\n",
              "    <tr>\n",
              "      <th>2</th>\n",
              "      <td>0.0</td>\n",
              "      <td>0.046949</td>\n",
              "      <td>0.0</td>\n",
              "      <td>0.0</td>\n",
              "      <td>0.080985</td>\n",
              "      <td>0.000000</td>\n",
              "      <td>0.099571</td>\n",
              "      <td>0.000000</td>\n",
              "      <td>0.0</td>\n",
              "      <td>0.050228</td>\n",
              "      <td>...</td>\n",
              "      <td>0.0</td>\n",
              "      <td>0.319075</td>\n",
              "      <td>0.000000</td>\n",
              "      <td>0.00000</td>\n",
              "      <td>0.0</td>\n",
              "      <td>0.106511</td>\n",
              "      <td>0.0</td>\n",
              "      <td>0.047103</td>\n",
              "      <td>0.0</td>\n",
              "      <td>0.0</td>\n",
              "    </tr>\n",
              "    <tr>\n",
              "      <th>3</th>\n",
              "      <td>0.0</td>\n",
              "      <td>0.000000</td>\n",
              "      <td>0.0</td>\n",
              "      <td>0.0</td>\n",
              "      <td>0.000000</td>\n",
              "      <td>0.432590</td>\n",
              "      <td>0.000000</td>\n",
              "      <td>0.000000</td>\n",
              "      <td>0.0</td>\n",
              "      <td>0.000000</td>\n",
              "      <td>...</td>\n",
              "      <td>0.0</td>\n",
              "      <td>0.000000</td>\n",
              "      <td>0.000000</td>\n",
              "      <td>0.00000</td>\n",
              "      <td>0.0</td>\n",
              "      <td>0.000000</td>\n",
              "      <td>0.0</td>\n",
              "      <td>0.021109</td>\n",
              "      <td>0.0</td>\n",
              "      <td>0.0</td>\n",
              "    </tr>\n",
              "    <tr>\n",
              "      <th>4</th>\n",
              "      <td>0.0</td>\n",
              "      <td>0.000000</td>\n",
              "      <td>0.0</td>\n",
              "      <td>0.0</td>\n",
              "      <td>0.000000</td>\n",
              "      <td>0.101154</td>\n",
              "      <td>0.000000</td>\n",
              "      <td>0.000000</td>\n",
              "      <td>0.0</td>\n",
              "      <td>0.000000</td>\n",
              "      <td>...</td>\n",
              "      <td>0.0</td>\n",
              "      <td>0.000000</td>\n",
              "      <td>0.000000</td>\n",
              "      <td>0.00000</td>\n",
              "      <td>0.0</td>\n",
              "      <td>0.200911</td>\n",
              "      <td>0.0</td>\n",
              "      <td>0.000000</td>\n",
              "      <td>0.0</td>\n",
              "      <td>0.0</td>\n",
              "    </tr>\n",
              "  </tbody>\n",
              "</table>\n",
              "<p>5 rows × 500 columns</p>\n",
              "</div>"
            ],
            "text/plain": [
              "   0         1    2    3         4         5         6         7    8    \\\n",
              "0  0.0  0.000000  0.0  0.0  0.000000  0.076749  0.000000  0.000000  0.0   \n",
              "1  0.0  0.000000  0.0  0.0  0.000000  0.069486  0.000000  0.099428  0.0   \n",
              "2  0.0  0.046949  0.0  0.0  0.080985  0.000000  0.099571  0.000000  0.0   \n",
              "3  0.0  0.000000  0.0  0.0  0.000000  0.432590  0.000000  0.000000  0.0   \n",
              "4  0.0  0.000000  0.0  0.0  0.000000  0.101154  0.000000  0.000000  0.0   \n",
              "\n",
              "        9   ...   490       491       492      493  494       495  496  \\\n",
              "0  0.000000 ...   0.0  0.000000  0.673535  0.02786  0.0  0.076219  0.0   \n",
              "1  0.000000 ...   0.0  0.000000  0.000000  0.00000  0.0  0.000000  0.0   \n",
              "2  0.050228 ...   0.0  0.319075  0.000000  0.00000  0.0  0.106511  0.0   \n",
              "3  0.000000 ...   0.0  0.000000  0.000000  0.00000  0.0  0.000000  0.0   \n",
              "4  0.000000 ...   0.0  0.000000  0.000000  0.00000  0.0  0.200911  0.0   \n",
              "\n",
              "        497  498  499  \n",
              "0  0.101120  0.0  0.0  \n",
              "1  0.000000  0.0  0.0  \n",
              "2  0.047103  0.0  0.0  \n",
              "3  0.021109  0.0  0.0  \n",
              "4  0.000000  0.0  0.0  \n",
              "\n",
              "[5 rows x 500 columns]"
            ]
          },
          "metadata": {
            "tags": []
          },
          "execution_count": 140
        }
      ]
    },
    {
      "metadata": {
        "id": "V1TP56FDZkwf",
        "colab_type": "text"
      },
      "cell_type": "markdown",
      "source": [
        "**Q 3:** Project your 500 dimensional tfidf vectors into 50 dimensions using PCA. "
      ]
    },
    {
      "metadata": {
        "id": "fQ4MgEtXZkwf",
        "colab_type": "text"
      },
      "cell_type": "markdown",
      "source": [
        "Hint: Use *PCA* class from *sklearn.decomposition* package."
      ]
    },
    {
      "metadata": {
        "id": "LDL5XNaRZkwg",
        "colab_type": "code",
        "colab": {}
      },
      "cell_type": "code",
      "source": [
        "#from sklearn.preprocessing import StandardScaler\n",
        "\"\"\"\n",
        "PCA is effected by scale so you need to scale the features in your data before applying PCA. \n",
        "We Use StandardScaler to help standardize the dataset’s features onto unit scale (mean = 0 and variance = 1)\n",
        "which is a requirement for the optimal performance of many machine learning algorithms.\n",
        "\"\"\"\n",
        "# Standardizing the features\n",
        "\n",
        "#x = StandardScaler().fit_transform()\n",
        "\n",
        "from sklearn.decomposition import PCA\n",
        "\n",
        "pca = PCA(n_components=50)\n",
        "\n",
        "principalComponents = pca.fit_transform(tfidf_df)\n",
        "principalComponents = pd.DataFrame(principalComponents)"
      ],
      "execution_count": 0,
      "outputs": []
    },
    {
      "metadata": {
        "id": "nlBfDoSdDOGs",
        "colab_type": "code",
        "colab": {
          "base_uri": "https://localhost:8080/",
          "height": 236
        },
        "outputId": "dcce532e-5dc3-4275-d3a6-8baef4f5984f"
      },
      "cell_type": "code",
      "source": [
        "principalComponents.head()"
      ],
      "execution_count": 142,
      "outputs": [
        {
          "output_type": "execute_result",
          "data": {
            "text/html": [
              "<div>\n",
              "<style scoped>\n",
              "    .dataframe tbody tr th:only-of-type {\n",
              "        vertical-align: middle;\n",
              "    }\n",
              "\n",
              "    .dataframe tbody tr th {\n",
              "        vertical-align: top;\n",
              "    }\n",
              "\n",
              "    .dataframe thead th {\n",
              "        text-align: right;\n",
              "    }\n",
              "</style>\n",
              "<table border=\"1\" class=\"dataframe\">\n",
              "  <thead>\n",
              "    <tr style=\"text-align: right;\">\n",
              "      <th></th>\n",
              "      <th>0</th>\n",
              "      <th>1</th>\n",
              "      <th>2</th>\n",
              "      <th>3</th>\n",
              "      <th>4</th>\n",
              "      <th>5</th>\n",
              "      <th>6</th>\n",
              "      <th>7</th>\n",
              "      <th>8</th>\n",
              "      <th>9</th>\n",
              "      <th>...</th>\n",
              "      <th>40</th>\n",
              "      <th>41</th>\n",
              "      <th>42</th>\n",
              "      <th>43</th>\n",
              "      <th>44</th>\n",
              "      <th>45</th>\n",
              "      <th>46</th>\n",
              "      <th>47</th>\n",
              "      <th>48</th>\n",
              "      <th>49</th>\n",
              "    </tr>\n",
              "  </thead>\n",
              "  <tbody>\n",
              "    <tr>\n",
              "      <th>0</th>\n",
              "      <td>0.020979</td>\n",
              "      <td>-0.016655</td>\n",
              "      <td>-0.066741</td>\n",
              "      <td>-0.049199</td>\n",
              "      <td>0.143616</td>\n",
              "      <td>-0.111260</td>\n",
              "      <td>0.023944</td>\n",
              "      <td>-0.035720</td>\n",
              "      <td>0.106389</td>\n",
              "      <td>-0.017876</td>\n",
              "      <td>...</td>\n",
              "      <td>-0.140440</td>\n",
              "      <td>0.081838</td>\n",
              "      <td>0.036711</td>\n",
              "      <td>0.121694</td>\n",
              "      <td>0.052740</td>\n",
              "      <td>0.068357</td>\n",
              "      <td>0.118473</td>\n",
              "      <td>-0.158906</td>\n",
              "      <td>0.168410</td>\n",
              "      <td>0.025554</td>\n",
              "    </tr>\n",
              "    <tr>\n",
              "      <th>1</th>\n",
              "      <td>-0.047777</td>\n",
              "      <td>-0.023848</td>\n",
              "      <td>-0.123048</td>\n",
              "      <td>0.024078</td>\n",
              "      <td>-0.039049</td>\n",
              "      <td>-0.001993</td>\n",
              "      <td>-0.026957</td>\n",
              "      <td>0.016105</td>\n",
              "      <td>-0.053667</td>\n",
              "      <td>0.093371</td>\n",
              "      <td>...</td>\n",
              "      <td>0.024569</td>\n",
              "      <td>-0.025338</td>\n",
              "      <td>-0.131917</td>\n",
              "      <td>0.100099</td>\n",
              "      <td>0.023576</td>\n",
              "      <td>0.002379</td>\n",
              "      <td>-0.019170</td>\n",
              "      <td>-0.076361</td>\n",
              "      <td>-0.014433</td>\n",
              "      <td>0.003086</td>\n",
              "    </tr>\n",
              "    <tr>\n",
              "      <th>2</th>\n",
              "      <td>-0.053872</td>\n",
              "      <td>-0.030785</td>\n",
              "      <td>0.005644</td>\n",
              "      <td>0.007115</td>\n",
              "      <td>-0.049063</td>\n",
              "      <td>-0.068105</td>\n",
              "      <td>-0.049670</td>\n",
              "      <td>0.024843</td>\n",
              "      <td>-0.090326</td>\n",
              "      <td>-0.029923</td>\n",
              "      <td>...</td>\n",
              "      <td>0.041741</td>\n",
              "      <td>-0.022249</td>\n",
              "      <td>-0.010245</td>\n",
              "      <td>0.065857</td>\n",
              "      <td>0.004749</td>\n",
              "      <td>-0.030355</td>\n",
              "      <td>-0.171487</td>\n",
              "      <td>0.107897</td>\n",
              "      <td>0.112429</td>\n",
              "      <td>-0.002496</td>\n",
              "    </tr>\n",
              "    <tr>\n",
              "      <th>3</th>\n",
              "      <td>-0.110927</td>\n",
              "      <td>0.046759</td>\n",
              "      <td>-0.160846</td>\n",
              "      <td>0.075086</td>\n",
              "      <td>0.129258</td>\n",
              "      <td>-0.020442</td>\n",
              "      <td>-0.238008</td>\n",
              "      <td>0.170241</td>\n",
              "      <td>0.123750</td>\n",
              "      <td>0.194049</td>\n",
              "      <td>...</td>\n",
              "      <td>-0.012654</td>\n",
              "      <td>-0.061644</td>\n",
              "      <td>-0.044415</td>\n",
              "      <td>0.040220</td>\n",
              "      <td>-0.010111</td>\n",
              "      <td>0.019792</td>\n",
              "      <td>-0.009024</td>\n",
              "      <td>-0.078765</td>\n",
              "      <td>0.085206</td>\n",
              "      <td>0.092479</td>\n",
              "    </tr>\n",
              "    <tr>\n",
              "      <th>4</th>\n",
              "      <td>-0.073310</td>\n",
              "      <td>-0.052780</td>\n",
              "      <td>-0.123086</td>\n",
              "      <td>0.043701</td>\n",
              "      <td>-0.128870</td>\n",
              "      <td>-0.000364</td>\n",
              "      <td>0.068748</td>\n",
              "      <td>0.066355</td>\n",
              "      <td>0.075620</td>\n",
              "      <td>0.110333</td>\n",
              "      <td>...</td>\n",
              "      <td>-0.062887</td>\n",
              "      <td>-0.058010</td>\n",
              "      <td>0.088175</td>\n",
              "      <td>0.055571</td>\n",
              "      <td>0.021271</td>\n",
              "      <td>0.018541</td>\n",
              "      <td>-0.002265</td>\n",
              "      <td>0.050411</td>\n",
              "      <td>0.038597</td>\n",
              "      <td>-0.011942</td>\n",
              "    </tr>\n",
              "  </tbody>\n",
              "</table>\n",
              "<p>5 rows × 50 columns</p>\n",
              "</div>"
            ],
            "text/plain": [
              "         0         1         2         3         4         5         6   \\\n",
              "0  0.020979 -0.016655 -0.066741 -0.049199  0.143616 -0.111260  0.023944   \n",
              "1 -0.047777 -0.023848 -0.123048  0.024078 -0.039049 -0.001993 -0.026957   \n",
              "2 -0.053872 -0.030785  0.005644  0.007115 -0.049063 -0.068105 -0.049670   \n",
              "3 -0.110927  0.046759 -0.160846  0.075086  0.129258 -0.020442 -0.238008   \n",
              "4 -0.073310 -0.052780 -0.123086  0.043701 -0.128870 -0.000364  0.068748   \n",
              "\n",
              "         7         8         9     ...           40        41        42  \\\n",
              "0 -0.035720  0.106389 -0.017876    ...    -0.140440  0.081838  0.036711   \n",
              "1  0.016105 -0.053667  0.093371    ...     0.024569 -0.025338 -0.131917   \n",
              "2  0.024843 -0.090326 -0.029923    ...     0.041741 -0.022249 -0.010245   \n",
              "3  0.170241  0.123750  0.194049    ...    -0.012654 -0.061644 -0.044415   \n",
              "4  0.066355  0.075620  0.110333    ...    -0.062887 -0.058010  0.088175   \n",
              "\n",
              "         43        44        45        46        47        48        49  \n",
              "0  0.121694  0.052740  0.068357  0.118473 -0.158906  0.168410  0.025554  \n",
              "1  0.100099  0.023576  0.002379 -0.019170 -0.076361 -0.014433  0.003086  \n",
              "2  0.065857  0.004749 -0.030355 -0.171487  0.107897  0.112429 -0.002496  \n",
              "3  0.040220 -0.010111  0.019792 -0.009024 -0.078765  0.085206  0.092479  \n",
              "4  0.055571  0.021271  0.018541 -0.002265  0.050411  0.038597 -0.011942  \n",
              "\n",
              "[5 rows x 50 columns]"
            ]
          },
          "metadata": {
            "tags": []
          },
          "execution_count": 142
        }
      ]
    },
    {
      "metadata": {
        "id": "hH4v-M-SEIKy",
        "colab_type": "code",
        "colab": {
          "base_uri": "https://localhost:8080/",
          "height": 236
        },
        "outputId": "ae8fa600-bc47-41d1-c7f4-ff773bd2877c"
      },
      "cell_type": "code",
      "source": [
        "#Update the name of the columns\n",
        "\n",
        "# get length of df's columns\n",
        "num_cols = 50\n",
        "# generate range of ints for suffixes\n",
        "rng = range(0,num_cols)\n",
        "\n",
        "new_cols = [ 'PCA_'+str(i) for i in rng]\n",
        "\n",
        "# ensure the length of the new columns list is equal to the length of df's columns\n",
        "principalComponents.columns = new_cols[:num_cols]\n",
        "\n",
        "principalComponents.head()"
      ],
      "execution_count": 143,
      "outputs": [
        {
          "output_type": "execute_result",
          "data": {
            "text/html": [
              "<div>\n",
              "<style scoped>\n",
              "    .dataframe tbody tr th:only-of-type {\n",
              "        vertical-align: middle;\n",
              "    }\n",
              "\n",
              "    .dataframe tbody tr th {\n",
              "        vertical-align: top;\n",
              "    }\n",
              "\n",
              "    .dataframe thead th {\n",
              "        text-align: right;\n",
              "    }\n",
              "</style>\n",
              "<table border=\"1\" class=\"dataframe\">\n",
              "  <thead>\n",
              "    <tr style=\"text-align: right;\">\n",
              "      <th></th>\n",
              "      <th>PCA_0</th>\n",
              "      <th>PCA_1</th>\n",
              "      <th>PCA_2</th>\n",
              "      <th>PCA_3</th>\n",
              "      <th>PCA_4</th>\n",
              "      <th>PCA_5</th>\n",
              "      <th>PCA_6</th>\n",
              "      <th>PCA_7</th>\n",
              "      <th>PCA_8</th>\n",
              "      <th>PCA_9</th>\n",
              "      <th>...</th>\n",
              "      <th>PCA_40</th>\n",
              "      <th>PCA_41</th>\n",
              "      <th>PCA_42</th>\n",
              "      <th>PCA_43</th>\n",
              "      <th>PCA_44</th>\n",
              "      <th>PCA_45</th>\n",
              "      <th>PCA_46</th>\n",
              "      <th>PCA_47</th>\n",
              "      <th>PCA_48</th>\n",
              "      <th>PCA_49</th>\n",
              "    </tr>\n",
              "  </thead>\n",
              "  <tbody>\n",
              "    <tr>\n",
              "      <th>0</th>\n",
              "      <td>0.020979</td>\n",
              "      <td>-0.016655</td>\n",
              "      <td>-0.066741</td>\n",
              "      <td>-0.049199</td>\n",
              "      <td>0.143616</td>\n",
              "      <td>-0.111260</td>\n",
              "      <td>0.023944</td>\n",
              "      <td>-0.035720</td>\n",
              "      <td>0.106389</td>\n",
              "      <td>-0.017876</td>\n",
              "      <td>...</td>\n",
              "      <td>-0.140440</td>\n",
              "      <td>0.081838</td>\n",
              "      <td>0.036711</td>\n",
              "      <td>0.121694</td>\n",
              "      <td>0.052740</td>\n",
              "      <td>0.068357</td>\n",
              "      <td>0.118473</td>\n",
              "      <td>-0.158906</td>\n",
              "      <td>0.168410</td>\n",
              "      <td>0.025554</td>\n",
              "    </tr>\n",
              "    <tr>\n",
              "      <th>1</th>\n",
              "      <td>-0.047777</td>\n",
              "      <td>-0.023848</td>\n",
              "      <td>-0.123048</td>\n",
              "      <td>0.024078</td>\n",
              "      <td>-0.039049</td>\n",
              "      <td>-0.001993</td>\n",
              "      <td>-0.026957</td>\n",
              "      <td>0.016105</td>\n",
              "      <td>-0.053667</td>\n",
              "      <td>0.093371</td>\n",
              "      <td>...</td>\n",
              "      <td>0.024569</td>\n",
              "      <td>-0.025338</td>\n",
              "      <td>-0.131917</td>\n",
              "      <td>0.100099</td>\n",
              "      <td>0.023576</td>\n",
              "      <td>0.002379</td>\n",
              "      <td>-0.019170</td>\n",
              "      <td>-0.076361</td>\n",
              "      <td>-0.014433</td>\n",
              "      <td>0.003086</td>\n",
              "    </tr>\n",
              "    <tr>\n",
              "      <th>2</th>\n",
              "      <td>-0.053872</td>\n",
              "      <td>-0.030785</td>\n",
              "      <td>0.005644</td>\n",
              "      <td>0.007115</td>\n",
              "      <td>-0.049063</td>\n",
              "      <td>-0.068105</td>\n",
              "      <td>-0.049670</td>\n",
              "      <td>0.024843</td>\n",
              "      <td>-0.090326</td>\n",
              "      <td>-0.029923</td>\n",
              "      <td>...</td>\n",
              "      <td>0.041741</td>\n",
              "      <td>-0.022249</td>\n",
              "      <td>-0.010245</td>\n",
              "      <td>0.065857</td>\n",
              "      <td>0.004749</td>\n",
              "      <td>-0.030355</td>\n",
              "      <td>-0.171487</td>\n",
              "      <td>0.107897</td>\n",
              "      <td>0.112429</td>\n",
              "      <td>-0.002496</td>\n",
              "    </tr>\n",
              "    <tr>\n",
              "      <th>3</th>\n",
              "      <td>-0.110927</td>\n",
              "      <td>0.046759</td>\n",
              "      <td>-0.160846</td>\n",
              "      <td>0.075086</td>\n",
              "      <td>0.129258</td>\n",
              "      <td>-0.020442</td>\n",
              "      <td>-0.238008</td>\n",
              "      <td>0.170241</td>\n",
              "      <td>0.123750</td>\n",
              "      <td>0.194049</td>\n",
              "      <td>...</td>\n",
              "      <td>-0.012654</td>\n",
              "      <td>-0.061644</td>\n",
              "      <td>-0.044415</td>\n",
              "      <td>0.040220</td>\n",
              "      <td>-0.010111</td>\n",
              "      <td>0.019792</td>\n",
              "      <td>-0.009024</td>\n",
              "      <td>-0.078765</td>\n",
              "      <td>0.085206</td>\n",
              "      <td>0.092479</td>\n",
              "    </tr>\n",
              "    <tr>\n",
              "      <th>4</th>\n",
              "      <td>-0.073310</td>\n",
              "      <td>-0.052780</td>\n",
              "      <td>-0.123086</td>\n",
              "      <td>0.043701</td>\n",
              "      <td>-0.128870</td>\n",
              "      <td>-0.000364</td>\n",
              "      <td>0.068748</td>\n",
              "      <td>0.066355</td>\n",
              "      <td>0.075620</td>\n",
              "      <td>0.110333</td>\n",
              "      <td>...</td>\n",
              "      <td>-0.062887</td>\n",
              "      <td>-0.058010</td>\n",
              "      <td>0.088175</td>\n",
              "      <td>0.055571</td>\n",
              "      <td>0.021271</td>\n",
              "      <td>0.018541</td>\n",
              "      <td>-0.002265</td>\n",
              "      <td>0.050411</td>\n",
              "      <td>0.038597</td>\n",
              "      <td>-0.011942</td>\n",
              "    </tr>\n",
              "  </tbody>\n",
              "</table>\n",
              "<p>5 rows × 50 columns</p>\n",
              "</div>"
            ],
            "text/plain": [
              "      PCA_0     PCA_1     PCA_2     PCA_3     PCA_4     PCA_5     PCA_6  \\\n",
              "0  0.020979 -0.016655 -0.066741 -0.049199  0.143616 -0.111260  0.023944   \n",
              "1 -0.047777 -0.023848 -0.123048  0.024078 -0.039049 -0.001993 -0.026957   \n",
              "2 -0.053872 -0.030785  0.005644  0.007115 -0.049063 -0.068105 -0.049670   \n",
              "3 -0.110927  0.046759 -0.160846  0.075086  0.129258 -0.020442 -0.238008   \n",
              "4 -0.073310 -0.052780 -0.123086  0.043701 -0.128870 -0.000364  0.068748   \n",
              "\n",
              "      PCA_7     PCA_8     PCA_9    ...       PCA_40    PCA_41    PCA_42  \\\n",
              "0 -0.035720  0.106389 -0.017876    ...    -0.140440  0.081838  0.036711   \n",
              "1  0.016105 -0.053667  0.093371    ...     0.024569 -0.025338 -0.131917   \n",
              "2  0.024843 -0.090326 -0.029923    ...     0.041741 -0.022249 -0.010245   \n",
              "3  0.170241  0.123750  0.194049    ...    -0.012654 -0.061644 -0.044415   \n",
              "4  0.066355  0.075620  0.110333    ...    -0.062887 -0.058010  0.088175   \n",
              "\n",
              "     PCA_43    PCA_44    PCA_45    PCA_46    PCA_47    PCA_48    PCA_49  \n",
              "0  0.121694  0.052740  0.068357  0.118473 -0.158906  0.168410  0.025554  \n",
              "1  0.100099  0.023576  0.002379 -0.019170 -0.076361 -0.014433  0.003086  \n",
              "2  0.065857  0.004749 -0.030355 -0.171487  0.107897  0.112429 -0.002496  \n",
              "3  0.040220 -0.010111  0.019792 -0.009024 -0.078765  0.085206  0.092479  \n",
              "4  0.055571  0.021271  0.018541 -0.002265  0.050411  0.038597 -0.011942  \n",
              "\n",
              "[5 rows x 50 columns]"
            ]
          },
          "metadata": {
            "tags": []
          },
          "execution_count": 143
        }
      ]
    },
    {
      "metadata": {
        "id": "HKsCrkDYFfnk",
        "colab_type": "code",
        "colab": {
          "base_uri": "https://localhost:8080/",
          "height": 274
        },
        "outputId": "ae63dadb-d3bf-4152-d6bf-f11063dd0a63"
      },
      "cell_type": "code",
      "source": [
        "# We merge the this new dataframe wih our data\n",
        "\n",
        "# We regroup all our data together\n",
        "all_features = pd.concat([data,principalComponents],axis=1,join_axes=[data.index])\n",
        "#Drop text\n",
        "data.drop(columns=\"text\",inplace=True,axis='columns')\n",
        "\n",
        "print(data.shape)\n",
        "data.head()"
      ],
      "execution_count": 144,
      "outputs": [
        {
          "output_type": "stream",
          "text": [
            "(182076, 169)\n"
          ],
          "name": "stdout"
        },
        {
          "output_type": "execute_result",
          "data": {
            "text/html": [
              "<div>\n",
              "<style scoped>\n",
              "    .dataframe tbody tr th:only-of-type {\n",
              "        vertical-align: middle;\n",
              "    }\n",
              "\n",
              "    .dataframe tbody tr th {\n",
              "        vertical-align: top;\n",
              "    }\n",
              "\n",
              "    .dataframe thead th {\n",
              "        text-align: right;\n",
              "    }\n",
              "</style>\n",
              "<table border=\"1\" class=\"dataframe\">\n",
              "  <thead>\n",
              "    <tr style=\"text-align: right;\">\n",
              "      <th></th>\n",
              "      <th>teacher_number_of_previously_posted_projects</th>\n",
              "      <th>project_is_approved</th>\n",
              "      <th>nbProject_teacher</th>\n",
              "      <th>teacher_prefix_Dr.</th>\n",
              "      <th>teacher_prefix_Mr.</th>\n",
              "      <th>teacher_prefix_Mrs.</th>\n",
              "      <th>teacher_prefix_Ms.</th>\n",
              "      <th>teacher_prefix_Teacher</th>\n",
              "      <th>school_state_AK</th>\n",
              "      <th>school_state_AL</th>\n",
              "      <th>...</th>\n",
              "      <th>PCA_40</th>\n",
              "      <th>PCA_41</th>\n",
              "      <th>PCA_42</th>\n",
              "      <th>PCA_43</th>\n",
              "      <th>PCA_44</th>\n",
              "      <th>PCA_45</th>\n",
              "      <th>PCA_46</th>\n",
              "      <th>PCA_47</th>\n",
              "      <th>PCA_48</th>\n",
              "      <th>PCA_49</th>\n",
              "    </tr>\n",
              "  </thead>\n",
              "  <tbody>\n",
              "    <tr>\n",
              "      <th>0</th>\n",
              "      <td>26.0</td>\n",
              "      <td>1.0</td>\n",
              "      <td>10</td>\n",
              "      <td>0</td>\n",
              "      <td>0</td>\n",
              "      <td>0</td>\n",
              "      <td>1</td>\n",
              "      <td>0</td>\n",
              "      <td>0</td>\n",
              "      <td>0</td>\n",
              "      <td>...</td>\n",
              "      <td>-0.140440</td>\n",
              "      <td>0.081838</td>\n",
              "      <td>0.036711</td>\n",
              "      <td>0.121694</td>\n",
              "      <td>0.052740</td>\n",
              "      <td>0.068357</td>\n",
              "      <td>0.118473</td>\n",
              "      <td>-0.158906</td>\n",
              "      <td>0.168410</td>\n",
              "      <td>0.025554</td>\n",
              "    </tr>\n",
              "    <tr>\n",
              "      <th>1</th>\n",
              "      <td>1.0</td>\n",
              "      <td>0.0</td>\n",
              "      <td>1</td>\n",
              "      <td>0</td>\n",
              "      <td>0</td>\n",
              "      <td>1</td>\n",
              "      <td>0</td>\n",
              "      <td>0</td>\n",
              "      <td>0</td>\n",
              "      <td>0</td>\n",
              "      <td>...</td>\n",
              "      <td>0.024569</td>\n",
              "      <td>-0.025338</td>\n",
              "      <td>-0.131917</td>\n",
              "      <td>0.100099</td>\n",
              "      <td>0.023576</td>\n",
              "      <td>0.002379</td>\n",
              "      <td>-0.019170</td>\n",
              "      <td>-0.076361</td>\n",
              "      <td>-0.014433</td>\n",
              "      <td>0.003086</td>\n",
              "    </tr>\n",
              "    <tr>\n",
              "      <th>2</th>\n",
              "      <td>5.0</td>\n",
              "      <td>1.0</td>\n",
              "      <td>4</td>\n",
              "      <td>0</td>\n",
              "      <td>0</td>\n",
              "      <td>0</td>\n",
              "      <td>1</td>\n",
              "      <td>0</td>\n",
              "      <td>0</td>\n",
              "      <td>0</td>\n",
              "      <td>...</td>\n",
              "      <td>0.041741</td>\n",
              "      <td>-0.022249</td>\n",
              "      <td>-0.010245</td>\n",
              "      <td>0.065857</td>\n",
              "      <td>0.004749</td>\n",
              "      <td>-0.030355</td>\n",
              "      <td>-0.171487</td>\n",
              "      <td>0.107897</td>\n",
              "      <td>0.112429</td>\n",
              "      <td>-0.002496</td>\n",
              "    </tr>\n",
              "    <tr>\n",
              "      <th>3</th>\n",
              "      <td>16.0</td>\n",
              "      <td>0.0</td>\n",
              "      <td>16</td>\n",
              "      <td>0</td>\n",
              "      <td>1</td>\n",
              "      <td>0</td>\n",
              "      <td>0</td>\n",
              "      <td>0</td>\n",
              "      <td>0</td>\n",
              "      <td>0</td>\n",
              "      <td>...</td>\n",
              "      <td>-0.012654</td>\n",
              "      <td>-0.061644</td>\n",
              "      <td>-0.044415</td>\n",
              "      <td>0.040220</td>\n",
              "      <td>-0.010111</td>\n",
              "      <td>0.019792</td>\n",
              "      <td>-0.009024</td>\n",
              "      <td>-0.078765</td>\n",
              "      <td>0.085206</td>\n",
              "      <td>0.092479</td>\n",
              "    </tr>\n",
              "    <tr>\n",
              "      <th>4</th>\n",
              "      <td>42.0</td>\n",
              "      <td>1.0</td>\n",
              "      <td>10</td>\n",
              "      <td>0</td>\n",
              "      <td>1</td>\n",
              "      <td>0</td>\n",
              "      <td>0</td>\n",
              "      <td>0</td>\n",
              "      <td>0</td>\n",
              "      <td>0</td>\n",
              "      <td>...</td>\n",
              "      <td>-0.062887</td>\n",
              "      <td>-0.058010</td>\n",
              "      <td>0.088175</td>\n",
              "      <td>0.055571</td>\n",
              "      <td>0.021271</td>\n",
              "      <td>0.018541</td>\n",
              "      <td>-0.002265</td>\n",
              "      <td>0.050411</td>\n",
              "      <td>0.038597</td>\n",
              "      <td>-0.011942</td>\n",
              "    </tr>\n",
              "  </tbody>\n",
              "</table>\n",
              "<p>5 rows × 169 columns</p>\n",
              "</div>"
            ],
            "text/plain": [
              "   teacher_number_of_previously_posted_projects  project_is_approved  \\\n",
              "0                                          26.0                  1.0   \n",
              "1                                           1.0                  0.0   \n",
              "2                                           5.0                  1.0   \n",
              "3                                          16.0                  0.0   \n",
              "4                                          42.0                  1.0   \n",
              "\n",
              "   nbProject_teacher  teacher_prefix_Dr.  teacher_prefix_Mr.  \\\n",
              "0                 10                   0                   0   \n",
              "1                  1                   0                   0   \n",
              "2                  4                   0                   0   \n",
              "3                 16                   0                   1   \n",
              "4                 10                   0                   1   \n",
              "\n",
              "   teacher_prefix_Mrs.  teacher_prefix_Ms.  teacher_prefix_Teacher  \\\n",
              "0                    0                   1                       0   \n",
              "1                    1                   0                       0   \n",
              "2                    0                   1                       0   \n",
              "3                    0                   0                       0   \n",
              "4                    0                   0                       0   \n",
              "\n",
              "   school_state_AK  school_state_AL    ...       PCA_40    PCA_41    PCA_42  \\\n",
              "0                0                0    ...    -0.140440  0.081838  0.036711   \n",
              "1                0                0    ...     0.024569 -0.025338 -0.131917   \n",
              "2                0                0    ...     0.041741 -0.022249 -0.010245   \n",
              "3                0                0    ...    -0.012654 -0.061644 -0.044415   \n",
              "4                0                0    ...    -0.062887 -0.058010  0.088175   \n",
              "\n",
              "     PCA_43    PCA_44    PCA_45    PCA_46    PCA_47    PCA_48    PCA_49  \n",
              "0  0.121694  0.052740  0.068357  0.118473 -0.158906  0.168410  0.025554  \n",
              "1  0.100099  0.023576  0.002379 -0.019170 -0.076361 -0.014433  0.003086  \n",
              "2  0.065857  0.004749 -0.030355 -0.171487  0.107897  0.112429 -0.002496  \n",
              "3  0.040220 -0.010111  0.019792 -0.009024 -0.078765  0.085206  0.092479  \n",
              "4  0.055571  0.021271  0.018541 -0.002265  0.050411  0.038597 -0.011942  \n",
              "\n",
              "[5 rows x 169 columns]"
            ]
          },
          "metadata": {
            "tags": []
          },
          "execution_count": 144
        }
      ]
    },
    {
      "metadata": {
        "id": "R4BhLBtTZkwj",
        "colab_type": "text"
      },
      "cell_type": "markdown",
      "source": [
        "**Q 4:** You can think of generating some new features out of text which are beneficial for the target application in mind. In particular try to generate the following features:\n",
        "\n",
        "* Number of words in application text\n",
        "* Number of spelling errors in application text\n"
      ]
    },
    {
      "metadata": {
        "id": "uQeVD8cLZkwj",
        "colab_type": "text"
      },
      "cell_type": "markdown",
      "source": [
        "Hint: To count number of spelling mistakes we can use *enchant* library. Use the following function to do so:\n",
        "\n",
        "    import enchant\n",
        "\n",
        "    eng_dic = enchant.Dict('en_US')\n",
        "    def num_spelling_errors(str):\n",
        "        i = 0\n",
        "        for word in str.split():\n",
        "            if eng_dic.check(word) == False:\n",
        "                i = i + 1\n",
        "        return i\n"
      ]
    },
    {
      "metadata": {
        "id": "0wU-2R9bZkwk",
        "colab_type": "code",
        "colab": {}
      },
      "cell_type": "code",
      "source": [
        "#Given code\n",
        "import enchant\n",
        "\n",
        "eng_dic = enchant.Dict('en_US')\n",
        "def num_spelling_errors(str):\n",
        "    i = 0\n",
        "    for word in str.split():\n",
        "        if eng_dic.check(word) == False:\n",
        "            i = i + 1\n",
        "    return i"
      ],
      "execution_count": 0,
      "outputs": []
    },
    {
      "metadata": {
        "id": "HGdIbvTnzmwk",
        "colab_type": "code",
        "colab": {}
      },
      "cell_type": "code",
      "source": [
        "# TODOOOOOOO"
      ],
      "execution_count": 0,
      "outputs": []
    },
    {
      "metadata": {
        "id": "vuCpaqNQZkwu",
        "colab_type": "text"
      },
      "cell_type": "markdown",
      "source": [
        "## Part 4: Prepare Features and Baseline"
      ]
    },
    {
      "metadata": {
        "id": "4_PFK7mBZkwu",
        "colab_type": "text"
      },
      "cell_type": "markdown",
      "source": [
        "**Q 1:** Organize your features into three dataframes of textual_features (projected in 50 dimensions), non_textual_features and all_features. Check data type of all features."
      ]
    },
    {
      "metadata": {
        "id": "kY9CxqkhZkwv",
        "colab_type": "code",
        "colab": {
          "base_uri": "https://localhost:8080/",
          "height": 164
        },
        "outputId": "ac08a0c8-d875-478f-839d-44d6ec240dc3"
      },
      "cell_type": "code",
      "source": [
        "textual_features = principalComponents\n",
        "non_textual_features = data.drop(labels=[textual_features.columns)],axis ='columns')\n",
        "#non_textual_features = data\n",
        "all_features = data"
      ],
      "execution_count": 164,
      "outputs": [
        {
          "output_type": "stream",
          "text": [
            "Index(['PCA_0', 'PCA_1', 'PCA_2', 'PCA_3', 'PCA_4', 'PCA_5', 'PCA_6', 'PCA_7',\n",
            "       'PCA_8', 'PCA_9', 'PCA_10', 'PCA_11', 'PCA_12', 'PCA_13', 'PCA_14',\n",
            "       'PCA_15', 'PCA_16', 'PCA_17', 'PCA_18', 'PCA_19', 'PCA_20', 'PCA_21',\n",
            "       'PCA_22', 'PCA_23', 'PCA_24', 'PCA_25', 'PCA_26', 'PCA_27', 'PCA_28',\n",
            "       'PCA_29', 'PCA_30', 'PCA_31', 'PCA_32', 'PCA_33', 'PCA_34', 'PCA_35',\n",
            "       'PCA_36', 'PCA_37', 'PCA_38', 'PCA_39', 'PCA_40', 'PCA_41', 'PCA_42',\n",
            "       'PCA_43', 'PCA_44', 'PCA_45', 'PCA_46', 'PCA_47', 'PCA_48', 'PCA_49'],\n",
            "      dtype='object')\n"
          ],
          "name": "stdout"
        }
      ]
    },
    {
      "metadata": {
        "id": "g_VDxkXPZkww",
        "colab_type": "text"
      },
      "cell_type": "markdown",
      "source": [
        "**Q 2:** Come up with a proper baseline to compare with your models."
      ]
    },
    {
      "metadata": {
        "id": "Is4uvDgzZkwz",
        "colab_type": "code",
        "colab": {}
      },
      "cell_type": "code",
      "source": [
        "from sklearn.dummy import DummyClassifier\n",
        "from sklearn.model_selection import train_test_split\n",
        "import numpy as np\n",
        "\n",
        "# Separates target and features\n",
        "seed = 1\n",
        "\n",
        "# Separate target and features into test and training sets\n",
        "X_train, X_test, y_train, y_test = train_test_split(textual_features, target, test_size = 0.2, random_state = seed)\n",
        "\n",
        "# Define baseline classifier\n",
        "baseline_clf = DummyClassifier(strategy='stratified', random_state = seed)\n",
        "\n",
        "# Fit the dummy classifier \n",
        "baseline_clf.fit(X_train,y_train)\n",
        "\n",
        "# Predict target probabilities of belonging to positive class\n",
        "y_pred = baseline_clf.predict_proba(X_test)\n",
        "\n",
        "# Compute area under the curve score\n",
        "roc_auc_score(y_test, y_pred[:,1])"
      ],
      "execution_count": 0,
      "outputs": []
    },
    {
      "metadata": {
        "id": "J8rBgYcFJqKK",
        "colab_type": "code",
        "colab": {}
      },
      "cell_type": "code",
      "source": [
        "# Separate target and features into test and training sets\n",
        "X_train, X_test, y_train, y_test = train_test_split(non_textual_features, target, test_size = 0.2, random_state = seed)\n",
        "\n",
        "# Define baseline classifier\n",
        "baseline_clf = DummyClassifier(strategy='stratified', random_state = seed)\n",
        "\n",
        "# Fit the dummy classifier \n",
        "baseline_clf.fit(X_train,y_train)\n",
        "\n",
        "# Predict target probabilities of belonging to positive class\n",
        "y_pred = baseline_clf.predict_proba(X_test)\n",
        "\n",
        "# Compute area under the curve score\n",
        "roc_auc_score(y_test, y_pred[:,1])"
      ],
      "execution_count": 0,
      "outputs": []
    },
    {
      "metadata": {
        "id": "O2wO0edLJp44",
        "colab_type": "code",
        "colab": {}
      },
      "cell_type": "code",
      "source": [
        "# Separate target and features into test and training sets\n",
        "X_train, X_test, y_train, y_test = train_test_split(all_features, target, test_size = 0.2, random_state = seed)\n",
        "\n",
        "# Define baseline classifier\n",
        "baseline_clf = DummyClassifier(strategy='stratified', random_state = seed)\n",
        "\n",
        "# Fit the dummy classifier \n",
        "baseline_clf.fit(X_train,y_train)\n",
        "\n",
        "# Predict target probabilities of belonging to positive class\n",
        "y_pred = baseline_clf.predict_proba(X_test)\n",
        "\n",
        "# Compute area under the curve score\n",
        "roc_auc_score(y_test, y_pred[:,1])"
      ],
      "execution_count": 0,
      "outputs": []
    },
    {
      "metadata": {
        "id": "D5MMzxqNZkw5",
        "colab_type": "text"
      },
      "cell_type": "markdown",
      "source": [
        "## Part 5: Gradient Boosted Trees"
      ]
    },
    {
      "metadata": {
        "id": "175uE_b5Zkw6",
        "colab_type": "text"
      },
      "cell_type": "markdown",
      "source": [
        "**Q 1:** Fit a gradient boosted trees model from *XGBoost* library to your data and tune the value of n_estimators parameter. Use nested cross validation function given in sentiment analysis demo with 3 splits in inner and outer folds. Assess the performance of your model by tuning *n_estimators* feature using the following sets of features:\n",
        "\n",
        "* Non-textual features\n",
        "* Textual features\n",
        "* All features"
      ]
    },
    {
      "metadata": {
        "id": "ygm464EAZkw7",
        "colab_type": "text"
      },
      "cell_type": "markdown",
      "source": [
        "Hint: Use the following function for nested cross-validation (Try to understand it before using it):\n",
        "\n",
        "from sklearn.model_selection import StratifiedKFold, GridSearchCV, cross_val_score\n",
        "\n",
        "    def nested_cv(X, y, est_pipe, p_grid, p_score, n_splits_inner = 3, n_splits_outer = 3, n_cores = 1, seed = 0):\n",
        "\n",
        "        # cross-validation schema for inner and outer loops\n",
        "        inner_cv = StratifiedKFold(n_splits = n_splits_inner, shuffle = True, random_state = seed)\n",
        "        outer_cv = StratifiedKFold(n_splits = n_splits_outer, shuffle = True, random_state = seed)\n",
        "\n",
        "        # grid search to tune hyper parameters\n",
        "        est = GridSearchCV(estimator = est_pipe, param_grid = p_grid, cv = inner_cv, scoring = p_score, n_jobs = n_cores)\n",
        "\n",
        "        # nested CV with parameter optimization\n",
        "        nested_scores = cross_val_score(estimator = est, X = X, y = y, cv = outer_cv, scoring = p_score, n_jobs = n_cores)\n",
        "\n",
        "        print('Average score: %0.4f (+/- %0.4f)' % (nested_scores.mean(), nested_scores.std() * 1.96))\n",
        "        \n",
        "Moreover use the *XGBClassifier* class from *xgboost* package, which has a similar interface to other sklearn classifiers. *XGboost* library includes high perfromance implementations of gradient boosted trees. "
      ]
    },
    {
      "metadata": {
        "id": "1ghgrWUAZkw8",
        "colab_type": "code",
        "colab": {}
      },
      "cell_type": "code",
      "source": [
        "#Given Code\n",
        "def nested_cv(X, y, est_pipe, p_grid, p_score, n_splits_inner = 3, n_splits_outer = 3, n_cores = 1, seed = 0):\n",
        "\n",
        "        # cross-validation schema for inner and outer loops\n",
        "        inner_cv = StratifiedKFold(n_splits = n_splits_inner, shuffle = True, random_state = seed)\n",
        "        outer_cv = StratifiedKFold(n_splits = n_splits_outer, shuffle = True, random_state = seed)\n",
        "\n",
        "        # grid search to tune hyper parameters\n",
        "        est = GridSearchCV(estimator = est_pipe, param_grid = p_grid, cv = inner_cv, scoring = p_score, n_jobs = n_cores)\n",
        "\n",
        "        # nested CV with parameter optimization\n",
        "        nested_scores = cross_val_score(estimator = est, X = X, y = y, cv = outer_cv, scoring = p_score, n_jobs = n_cores)\n",
        "\n",
        "        print('Average score: %0.4f (+/- %0.4f)' % (nested_scores.mean(), nested_scores.std() * 1.96))"
      ],
      "execution_count": 0,
      "outputs": []
    },
    {
      "metadata": {
        "id": "dJVwjoJGNlxq",
        "colab_type": "code",
        "colab": {}
      },
      "cell_type": "code",
      "source": [
        "from xgboost import XGBClassifier\n",
        "#estimators \n",
        "estimators = []\n",
        "estimators.append(('xgb_clf', XGBClassifier()))\n",
        "\n",
        "#pipeline\n",
        "pipeline = Pipeline(estimators)\n",
        "pipeline.set_params(xgb_clf__n_estimators=='seed')\n",
        "\n",
        "# test value of the parameter\n",
        "p_grid = {\"xgb_clf__n_estimators\": [int(i) for i in np.linspace(10.0, 50.0, 5)]}\n",
        "\n",
        "features = [['textual features',textual_features],['non textual',non_textual_features],['all',all_features]]\n",
        "\n",
        "n = 0\n",
        "for feature in features:\n",
        "    print(\"Testing for \"+feature[0])\n",
        "    #Cross validation for each dataframe\n",
        "    estimator = nested_cv(X = feature[1], y = target, est_pipe = xgb_pipe, p_grid = p_grid, p_score = 'roc_auc', n_cores = -1)\n",
        "    n = n+1"
      ],
      "execution_count": 0,
      "outputs": []
    },
    {
      "metadata": {
        "id": "A4GQPRDWZkw-",
        "colab_type": "text"
      },
      "cell_type": "markdown",
      "source": [
        "**Q 2:** Print list of 10 most important features considering all features as pedictors. "
      ]
    },
    {
      "metadata": {
        "id": "7aM986CGZkw-",
        "colab_type": "code",
        "colab": {}
      },
      "cell_type": "code",
      "source": [
        "# Print importance of features\n",
        "gb_clf = xgb_pipe.named_steps['xgb_clf']\n",
        "print('importance of features:')\n",
        "for index in reversed(np.argsort(gb_clf.feature_importances_)):\n",
        "    print(all_features.columns[index] , ':', gb_clf.feature_importances_[index])"
      ],
      "execution_count": 0,
      "outputs": []
    },
    {
      "metadata": {
        "id": "jBRyjPVXZkxB",
        "colab_type": "text"
      },
      "cell_type": "markdown",
      "source": [
        "## Part 6: Feed Forward Neural Network"
      ]
    },
    {
      "metadata": {
        "id": "-iHUizHyZkxC",
        "colab_type": "text"
      },
      "cell_type": "markdown",
      "source": [
        "**Q 1:** Train a feed forward neural network on all features. Consider a three layer dense neural network with 32 and 16 and 1 outputs respectively. Change number of epochs to 1 and 5 and see how it affects your final results. Note that the required computation of this part can be time consuming.  "
      ]
    },
    {
      "metadata": {
        "id": "0i4SgzexZkxC",
        "colab_type": "text"
      },
      "cell_type": "markdown",
      "source": [
        "Hint: Use the following model creation function:\n",
        "\n",
        "    # build neural network model\n",
        "    def create_model():\n",
        "        # create model\n",
        "        model = Sequential()\n",
        "        model.add(Dense(32, input_dim=all_features.shape[1], activation='relu'))\n",
        "        model.add(Dense(16, activation='relu'))\n",
        "        model.add(Dense(1, activation='sigmoid'))\n",
        "        # Compile model\n",
        "        model.compile(loss='binary_crossentropy', optimizer='adam', metrics=['accuracy'])\n",
        "        return model\n",
        "\n",
        "    model = create_model()\n",
        "\n",
        "To integrate *keras* classifiers into *sklearn*, use *KerasClassifier* wrapper from *keras.wrappers.scikit_learn* package. You can intgrate a keras clasifier into your sklearn pipeline as follows:\n",
        "\n",
        "    estimators.append(('nn_clf', KerasClassifier(build_fn=create_model)))\n",
        "\n",
        "Set the following parameters for your neural network model:\n",
        "\n",
        "    nn_pipe.set_params(nn_clf__epochs = 1)\n",
        "    nn_pipe.set_params(nn_clf__batch_size = 20)\n",
        "    nn_pipe.set_params(nn_clf__verbose = 2)"
      ]
    },
    {
      "metadata": {
        "id": "vNSUIGO7gRNl",
        "colab_type": "code",
        "colab": {}
      },
      "cell_type": "code",
      "source": [
        "#split the data\n",
        "\n",
        "X_train, X_test, y_train, y_test = train_test_split(all_features, target, test_size = 0.2, random_state = seed)"
      ],
      "execution_count": 0,
      "outputs": []
    },
    {
      "metadata": {
        "id": "iZa9kSJvZkxG",
        "colab_type": "code",
        "colab": {}
      },
      "cell_type": "code",
      "source": [
        "# build neural network model\n",
        "def create_model():\n",
        "    # create model\n",
        "    model = Sequential()\n",
        "    model.add(Dense(32, input_dim=all_features.shape[1], activation='relu'))\n",
        "    model.add(Dense(16, activation='relu'))\n",
        "    model.add(Dense(1, activation='sigmoid'))\n",
        "    # Compile model\n",
        "    model.compile(loss='binary_crossentropy', optimizer='adam', metrics=['accuracy'])\n",
        "    return model\n",
        "\n",
        " #create model\n",
        "model = create_model()\n",
        "\n",
        "\n",
        "# Define pipeline\n",
        "estimators = []\n",
        "estimators.append(('sd', StandardScaler()))\n",
        "estimators.append(('nn_clf', KerasClassifier(build_fn=create_model)))\n",
        "nn_pipe = Pipeline(estimators)\n",
        "\n",
        "#Set parameters\n",
        "nn_pipe.set_params(nn_clf__epochs = 1)\n",
        "nn_pipe.set_params(nn_clf__batch_size = 20)\n",
        "nn_pipe.set_params(nn_clf__verbose = 2)\n",
        "\n",
        "nn_pipe.fit(X_train, y_train )\n",
        "\n",
        "# Prediction\n",
        "nn1_predict = nn_pipe.predict_proba(X_test)\n",
        "nn1_score = roc_auc_score(y_test, nn1_predict[:,1])\n",
        "\n",
        "# Score\n",
        "print('Auc score for Neural Network with 1 epoch: %2.4f ' % nn1_score )"
      ],
      "execution_count": 0,
      "outputs": []
    },
    {
      "metadata": {
        "id": "Bu_86_6xZkxM",
        "colab_type": "text"
      },
      "cell_type": "markdown",
      "source": [
        "**Q 2:** Discuss possible strategies can make your neural network to have a better prediction."
      ]
    },
    {
      "metadata": {
        "id": "fUeG1moVZkxN",
        "colab_type": "code",
        "colab": {}
      },
      "cell_type": "code",
      "source": [
        "\"\"\"\n",
        "A First Possible strategy to improve our prediction is to increase the number of epoch\n",
        "\"\"\"\n",
        "\n",
        "#set different number of epoch\n",
        "nn_pipe.set_params(nn_clf__epochs = 5)\n",
        "\n",
        "#fit function\n",
        "nn_pipe.fit(X_train, y_train )\n",
        "\n",
        "# Prediction\n",
        "nn5_predict = nn_pipe.predict_proba(X_test)\n",
        "#score\n",
        "nn5_score = roc_auc_score(y_test, nn5_predict[:,1])\n",
        "\n",
        "# display Results\n",
        "print('Auc score for Neural Network with 5 epoch: %2.4f ' % nn5_score )\n",
        "\n",
        "\n",
        "\"\"\"\n",
        " A second strategy for our model is that :\n",
        "We could use a LSTM layer inside the Neural Network to improve our model\n",
        "\"\"\""
      ],
      "execution_count": 0,
      "outputs": []
    },
    {
      "metadata": {
        "id": "6bSS-ua2ZkxO",
        "colab_type": "text"
      },
      "cell_type": "markdown",
      "source": [
        "## Bonus: Food for Thought"
      ]
    },
    {
      "metadata": {
        "id": "RD2QnsJ2ZkxP",
        "colab_type": "text"
      },
      "cell_type": "markdown",
      "source": [
        "To read: https://www.cs.toronto.edu/~hinton/absps/NatureDeepReview.pdf"
      ]
    },
    {
      "metadata": {
        "id": "ussilL4vZkxP",
        "colab_type": "text"
      },
      "cell_type": "markdown",
      "source": [
        "To watch: https://www.youtube.com/watch?v=uawLjkSI7Mo"
      ]
    }
  ]
}