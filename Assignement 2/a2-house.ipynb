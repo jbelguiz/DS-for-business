{
 "cells": [
  {
   "cell_type": "markdown",
   "metadata": {},
   "source": [
    "# DSFB Assignment 2 - Housing Prices"
   ]
  },
  {
   "cell_type": "markdown",
   "metadata": {},
   "source": [
    "By [Omid Shahmirzadi](https://ch.linkedin.com/in/omidshahmirzadi) - Email  [omid.shahmirzadi@epfl.ch](mailto:omid.shahmirzadi@epfl.ch)"
   ]
  },
  {
   "cell_type": "markdown",
   "metadata": {},
   "source": [
    "In this problem, you will try to predict the sale price of houses located in Ames, Iowa based on sevaral features. "
   ]
  },
  {
   "cell_type": "markdown",
   "metadata": {},
   "source": [
    "![](https://www.andrewgranger.co.uk/wp-content/uploads/2016/05/rsz_bigstock-terraced-roof-tops-46822489.jpg)\n",
    "\n",
    "Image source: https://www.andrewgranger.co.uk/wp-content/uploads/2016/05/rsz_bigstock-terraced-roof-tops-46822489.jpg"
   ]
  },
  {
   "cell_type": "markdown",
   "metadata": {},
   "source": [
    "Dataset source: https://ww2.amstat.org/publications/jse/v19n3/decock/DataDocumentation.txt"
   ]
  },
  {
   "cell_type": "markdown",
   "metadata": {},
   "source": [
    "The dataset consists of information of 1460 houses with 80 features, described in *data_description.txt* file. The target is given in a separate field called 'SalesPrice' in US dollar. As you will see, this dataset includes numerous features of different kinds which can introduce a nice playground for feature engineering techniques. Moreover you can practice bulding predictive models where number of observations to number of features ratio is not huge.  "
   ]
  },
  {
   "cell_type": "markdown",
   "metadata": {},
   "source": [
    "You can create a group of up to three to discuss the problem, however every body is encouraged to implement the solution on his own machine. Remember to name your group mates in your submission. "
   ]
  },
  {
   "cell_type": "markdown",
   "metadata": {},
   "source": [
    "To assess the quality of your predictions, consider the root mean square error between the logarithm of the predicted value and the logarithm of the observed sales price."
   ]
  },
  {
   "cell_type": "markdown",
   "metadata": {},
   "source": [
    "## Part 1: Data Cleaning and EDA"
   ]
  },
  {
   "cell_type": "markdown",
   "metadata": {},
   "source": [
    "**Q 1:** Investigate observations with null feature values. Do you see any structure in the missing values ? "
   ]
  },
  {
   "cell_type": "markdown",
   "metadata": {},
   "source": [
    "Hint: For every feature, calculate how many observations have missing values. Also calculate the percentage of observations where each feature is missing. You can also create a heatmap using *seaborn.heatmap()* function and feed it with *dataframe.isnull()* This approach returns an object of the same size with boolean values to indicate if values are missing. "
   ]
  },
  {
   "cell_type": "code",
   "execution_count": 1,
   "metadata": {},
   "outputs": [
    {
     "name": "stdout",
     "output_type": "stream",
     "text": [
      "This is a preview of the raw data\n"
     ]
    },
    {
     "data": {
      "text/html": [
       "<div>\n",
       "<style scoped>\n",
       "    .dataframe tbody tr th:only-of-type {\n",
       "        vertical-align: middle;\n",
       "    }\n",
       "\n",
       "    .dataframe tbody tr th {\n",
       "        vertical-align: top;\n",
       "    }\n",
       "\n",
       "    .dataframe thead th {\n",
       "        text-align: right;\n",
       "    }\n",
       "</style>\n",
       "<table border=\"1\" class=\"dataframe\">\n",
       "  <thead>\n",
       "    <tr style=\"text-align: right;\">\n",
       "      <th></th>\n",
       "      <th>Id</th>\n",
       "      <th>MSSubClass</th>\n",
       "      <th>MSZoning</th>\n",
       "      <th>LotFrontage</th>\n",
       "      <th>LotArea</th>\n",
       "      <th>Street</th>\n",
       "      <th>Alley</th>\n",
       "      <th>LotShape</th>\n",
       "      <th>LandContour</th>\n",
       "      <th>Utilities</th>\n",
       "      <th>...</th>\n",
       "      <th>PoolArea</th>\n",
       "      <th>PoolQC</th>\n",
       "      <th>Fence</th>\n",
       "      <th>MiscFeature</th>\n",
       "      <th>MiscVal</th>\n",
       "      <th>MoSold</th>\n",
       "      <th>YrSold</th>\n",
       "      <th>SaleType</th>\n",
       "      <th>SaleCondition</th>\n",
       "      <th>SalePrice</th>\n",
       "    </tr>\n",
       "  </thead>\n",
       "  <tbody>\n",
       "    <tr>\n",
       "      <th>0</th>\n",
       "      <td>1</td>\n",
       "      <td>60</td>\n",
       "      <td>RL</td>\n",
       "      <td>65.0</td>\n",
       "      <td>8450</td>\n",
       "      <td>Pave</td>\n",
       "      <td>NaN</td>\n",
       "      <td>Reg</td>\n",
       "      <td>Lvl</td>\n",
       "      <td>AllPub</td>\n",
       "      <td>...</td>\n",
       "      <td>0</td>\n",
       "      <td>NaN</td>\n",
       "      <td>NaN</td>\n",
       "      <td>NaN</td>\n",
       "      <td>0</td>\n",
       "      <td>2</td>\n",
       "      <td>2008</td>\n",
       "      <td>WD</td>\n",
       "      <td>Normal</td>\n",
       "      <td>208500</td>\n",
       "    </tr>\n",
       "    <tr>\n",
       "      <th>1</th>\n",
       "      <td>2</td>\n",
       "      <td>20</td>\n",
       "      <td>RL</td>\n",
       "      <td>80.0</td>\n",
       "      <td>9600</td>\n",
       "      <td>Pave</td>\n",
       "      <td>NaN</td>\n",
       "      <td>Reg</td>\n",
       "      <td>Lvl</td>\n",
       "      <td>AllPub</td>\n",
       "      <td>...</td>\n",
       "      <td>0</td>\n",
       "      <td>NaN</td>\n",
       "      <td>NaN</td>\n",
       "      <td>NaN</td>\n",
       "      <td>0</td>\n",
       "      <td>5</td>\n",
       "      <td>2007</td>\n",
       "      <td>WD</td>\n",
       "      <td>Normal</td>\n",
       "      <td>181500</td>\n",
       "    </tr>\n",
       "    <tr>\n",
       "      <th>2</th>\n",
       "      <td>3</td>\n",
       "      <td>60</td>\n",
       "      <td>RL</td>\n",
       "      <td>68.0</td>\n",
       "      <td>11250</td>\n",
       "      <td>Pave</td>\n",
       "      <td>NaN</td>\n",
       "      <td>IR1</td>\n",
       "      <td>Lvl</td>\n",
       "      <td>AllPub</td>\n",
       "      <td>...</td>\n",
       "      <td>0</td>\n",
       "      <td>NaN</td>\n",
       "      <td>NaN</td>\n",
       "      <td>NaN</td>\n",
       "      <td>0</td>\n",
       "      <td>9</td>\n",
       "      <td>2008</td>\n",
       "      <td>WD</td>\n",
       "      <td>Normal</td>\n",
       "      <td>223500</td>\n",
       "    </tr>\n",
       "    <tr>\n",
       "      <th>3</th>\n",
       "      <td>4</td>\n",
       "      <td>70</td>\n",
       "      <td>RL</td>\n",
       "      <td>60.0</td>\n",
       "      <td>9550</td>\n",
       "      <td>Pave</td>\n",
       "      <td>NaN</td>\n",
       "      <td>IR1</td>\n",
       "      <td>Lvl</td>\n",
       "      <td>AllPub</td>\n",
       "      <td>...</td>\n",
       "      <td>0</td>\n",
       "      <td>NaN</td>\n",
       "      <td>NaN</td>\n",
       "      <td>NaN</td>\n",
       "      <td>0</td>\n",
       "      <td>2</td>\n",
       "      <td>2006</td>\n",
       "      <td>WD</td>\n",
       "      <td>Abnorml</td>\n",
       "      <td>140000</td>\n",
       "    </tr>\n",
       "    <tr>\n",
       "      <th>4</th>\n",
       "      <td>5</td>\n",
       "      <td>60</td>\n",
       "      <td>RL</td>\n",
       "      <td>84.0</td>\n",
       "      <td>14260</td>\n",
       "      <td>Pave</td>\n",
       "      <td>NaN</td>\n",
       "      <td>IR1</td>\n",
       "      <td>Lvl</td>\n",
       "      <td>AllPub</td>\n",
       "      <td>...</td>\n",
       "      <td>0</td>\n",
       "      <td>NaN</td>\n",
       "      <td>NaN</td>\n",
       "      <td>NaN</td>\n",
       "      <td>0</td>\n",
       "      <td>12</td>\n",
       "      <td>2008</td>\n",
       "      <td>WD</td>\n",
       "      <td>Normal</td>\n",
       "      <td>250000</td>\n",
       "    </tr>\n",
       "  </tbody>\n",
       "</table>\n",
       "<p>5 rows × 81 columns</p>\n",
       "</div>"
      ],
      "text/plain": [
       "   Id  MSSubClass MSZoning  LotFrontage  LotArea Street Alley LotShape  \\\n",
       "0   1          60       RL         65.0     8450   Pave   NaN      Reg   \n",
       "1   2          20       RL         80.0     9600   Pave   NaN      Reg   \n",
       "2   3          60       RL         68.0    11250   Pave   NaN      IR1   \n",
       "3   4          70       RL         60.0     9550   Pave   NaN      IR1   \n",
       "4   5          60       RL         84.0    14260   Pave   NaN      IR1   \n",
       "\n",
       "  LandContour Utilities    ...     PoolArea PoolQC Fence MiscFeature MiscVal  \\\n",
       "0         Lvl    AllPub    ...            0    NaN   NaN         NaN       0   \n",
       "1         Lvl    AllPub    ...            0    NaN   NaN         NaN       0   \n",
       "2         Lvl    AllPub    ...            0    NaN   NaN         NaN       0   \n",
       "3         Lvl    AllPub    ...            0    NaN   NaN         NaN       0   \n",
       "4         Lvl    AllPub    ...            0    NaN   NaN         NaN       0   \n",
       "\n",
       "  MoSold YrSold  SaleType  SaleCondition  SalePrice  \n",
       "0      2   2008        WD         Normal     208500  \n",
       "1      5   2007        WD         Normal     181500  \n",
       "2      9   2008        WD         Normal     223500  \n",
       "3      2   2006        WD        Abnorml     140000  \n",
       "4     12   2008        WD         Normal     250000  \n",
       "\n",
       "[5 rows x 81 columns]"
      ]
     },
     "execution_count": 1,
     "metadata": {},
     "output_type": "execute_result"
    }
   ],
   "source": [
    "# Load data\n",
    "import pandas as pd\n",
    "\n",
    "data = pd.read_csv('house_data.csv')\n",
    "print('This is a preview of the raw data')\n",
    "data.head()"
   ]
  },
  {
   "cell_type": "code",
   "execution_count": 2,
   "metadata": {},
   "outputs": [
    {
     "name": "stdout",
     "output_type": "stream",
     "text": [
      "The white holes in the graph are missing values in the raw data\n"
     ]
    },
    {
     "data": {
      "text/plain": [
       "<matplotlib.axes._subplots.AxesSubplot at 0x7fa1db455198>"
      ]
     },
     "execution_count": 2,
     "metadata": {},
     "output_type": "execute_result"
    }
   ],
   "source": [
    "import seaborn as sns\n",
    "import warnings\n",
    "warnings.filterwarnings('ignore')\n",
    "data_nan = data.isna()\n",
    "print('The white holes in the graph are missing values in the raw data')\n",
    "sns.heatmap(data_nan)"
   ]
  },
  {
   "cell_type": "code",
   "execution_count": 3,
   "metadata": {},
   "outputs": [
    {
     "data": {
      "text/html": [
       "<div>\n",
       "<style scoped>\n",
       "    .dataframe tbody tr th:only-of-type {\n",
       "        vertical-align: middle;\n",
       "    }\n",
       "\n",
       "    .dataframe tbody tr th {\n",
       "        vertical-align: top;\n",
       "    }\n",
       "\n",
       "    .dataframe thead th {\n",
       "        text-align: right;\n",
       "    }\n",
       "</style>\n",
       "<table border=\"1\" class=\"dataframe\">\n",
       "  <thead>\n",
       "    <tr style=\"text-align: right;\">\n",
       "      <th></th>\n",
       "      <th>nb NaN</th>\n",
       "      <th>Percentage</th>\n",
       "    </tr>\n",
       "  </thead>\n",
       "  <tbody>\n",
       "    <tr>\n",
       "      <th>PoolQC</th>\n",
       "      <td>1453</td>\n",
       "      <td>0.995205</td>\n",
       "    </tr>\n",
       "    <tr>\n",
       "      <th>MiscFeature</th>\n",
       "      <td>1406</td>\n",
       "      <td>0.963014</td>\n",
       "    </tr>\n",
       "    <tr>\n",
       "      <th>Alley</th>\n",
       "      <td>1369</td>\n",
       "      <td>0.937671</td>\n",
       "    </tr>\n",
       "    <tr>\n",
       "      <th>Fence</th>\n",
       "      <td>1179</td>\n",
       "      <td>0.807534</td>\n",
       "    </tr>\n",
       "    <tr>\n",
       "      <th>FireplaceQu</th>\n",
       "      <td>690</td>\n",
       "      <td>0.472603</td>\n",
       "    </tr>\n",
       "  </tbody>\n",
       "</table>\n",
       "</div>"
      ],
      "text/plain": [
       "             nb NaN  Percentage\n",
       "PoolQC         1453    0.995205\n",
       "MiscFeature    1406    0.963014\n",
       "Alley          1369    0.937671\n",
       "Fence          1179    0.807534\n",
       "FireplaceQu     690    0.472603"
      ]
     },
     "execution_count": 3,
     "metadata": {},
     "output_type": "execute_result"
    }
   ],
   "source": [
    "# create a dataframe that descirbe the number of nan and its percentage for each feature\n",
    "miss = pd.DataFrame(data_nan.sum())\n",
    "# Rename column\n",
    "miss.columns=['nb NaN']\n",
    "# add the percentage of missing value for each feature\n",
    "miss['Percentage']= miss['nb NaN']/len(data)\n",
    "# sort the df\n",
    "miss = miss.sort_values('nb NaN', ascending = False)\n",
    "\n",
    "miss.head()"
   ]
  },
  {
   "cell_type": "code",
   "execution_count": 4,
   "metadata": {},
   "outputs": [
    {
     "data": {
      "text/plain": [
       "19"
      ]
     },
     "execution_count": 4,
     "metadata": {},
     "output_type": "execute_result"
    }
   ],
   "source": [
    "nb_features_with_Nan = sum(miss['nb NaN']>0)\n",
    "nb_features_with_Nan"
   ]
  },
  {
   "cell_type": "markdown",
   "metadata": {},
   "source": [
    "**Q 2:** What is your strategy to deal with null values ? Apply your strategy and save a version of the dataset with no missing values in a new dataframe. "
   ]
  },
  {
   "cell_type": "markdown",
   "metadata": {},
   "source": [
    "Hint: For the features with many missing values, drop it using *dataframe.drop()*. For others try to impute them using the following transformer class (try to understand what it does before using it):"
   ]
  },
  {
   "cell_type": "code",
   "execution_count": 5,
   "metadata": {},
   "outputs": [],
   "source": [
    "# GIVEN CLASS --------------------------------------\n",
    "from sklearn.base import TransformerMixin\n",
    "import numpy as np\n",
    "class DataFrameImputer(TransformerMixin):\n",
    "\n",
    "    def fit(self, X, y=None):\n",
    "        self.fill = pd.Series([X[c].value_counts().index[0]\n",
    "            if X[c].dtype == np.dtype('O') else X[c].mean() for c in X], index=X.columns)\n",
    "        return self\n",
    "\n",
    "    def transform(self, X, y=None):\n",
    "        return X.fillna(self.fill)\n",
    "# GIVEN CLASS ----------------------------------------"
   ]
  },
  {
   "cell_type": "markdown",
   "metadata": {},
   "source": [
    "First we decide to drop the features with 5% or more of Missing values. Therefore we drop 11 of the 19 features with missing values"
   ]
  },
  {
   "cell_type": "code",
   "execution_count": 6,
   "metadata": {},
   "outputs": [
    {
     "name": "stdout",
     "output_type": "stream",
     "text": [
      "Features to drop :\n",
      "['PoolQC' 'MiscFeature' 'Alley' 'Fence' 'FireplaceQu' 'LotFrontage'\n",
      " 'GarageYrBlt' 'GarageCond' 'GarageType' 'GarageFinish' 'GarageQual']\n",
      "We also drop the column ID\n"
     ]
    },
    {
     "data": {
      "text/html": [
       "<div>\n",
       "<style scoped>\n",
       "    .dataframe tbody tr th:only-of-type {\n",
       "        vertical-align: middle;\n",
       "    }\n",
       "\n",
       "    .dataframe tbody tr th {\n",
       "        vertical-align: top;\n",
       "    }\n",
       "\n",
       "    .dataframe thead th {\n",
       "        text-align: right;\n",
       "    }\n",
       "</style>\n",
       "<table border=\"1\" class=\"dataframe\">\n",
       "  <thead>\n",
       "    <tr style=\"text-align: right;\">\n",
       "      <th></th>\n",
       "      <th>MSSubClass</th>\n",
       "      <th>MSZoning</th>\n",
       "      <th>LotArea</th>\n",
       "      <th>Street</th>\n",
       "      <th>LotShape</th>\n",
       "      <th>LandContour</th>\n",
       "      <th>Utilities</th>\n",
       "      <th>LotConfig</th>\n",
       "      <th>LandSlope</th>\n",
       "      <th>Neighborhood</th>\n",
       "      <th>...</th>\n",
       "      <th>EnclosedPorch</th>\n",
       "      <th>3SsnPorch</th>\n",
       "      <th>ScreenPorch</th>\n",
       "      <th>PoolArea</th>\n",
       "      <th>MiscVal</th>\n",
       "      <th>MoSold</th>\n",
       "      <th>YrSold</th>\n",
       "      <th>SaleType</th>\n",
       "      <th>SaleCondition</th>\n",
       "      <th>SalePrice</th>\n",
       "    </tr>\n",
       "  </thead>\n",
       "  <tbody>\n",
       "    <tr>\n",
       "      <th>0</th>\n",
       "      <td>60</td>\n",
       "      <td>RL</td>\n",
       "      <td>8450</td>\n",
       "      <td>Pave</td>\n",
       "      <td>Reg</td>\n",
       "      <td>Lvl</td>\n",
       "      <td>AllPub</td>\n",
       "      <td>Inside</td>\n",
       "      <td>Gtl</td>\n",
       "      <td>CollgCr</td>\n",
       "      <td>...</td>\n",
       "      <td>0</td>\n",
       "      <td>0</td>\n",
       "      <td>0</td>\n",
       "      <td>0</td>\n",
       "      <td>0</td>\n",
       "      <td>2</td>\n",
       "      <td>2008</td>\n",
       "      <td>WD</td>\n",
       "      <td>Normal</td>\n",
       "      <td>208500</td>\n",
       "    </tr>\n",
       "    <tr>\n",
       "      <th>1</th>\n",
       "      <td>20</td>\n",
       "      <td>RL</td>\n",
       "      <td>9600</td>\n",
       "      <td>Pave</td>\n",
       "      <td>Reg</td>\n",
       "      <td>Lvl</td>\n",
       "      <td>AllPub</td>\n",
       "      <td>FR2</td>\n",
       "      <td>Gtl</td>\n",
       "      <td>Veenker</td>\n",
       "      <td>...</td>\n",
       "      <td>0</td>\n",
       "      <td>0</td>\n",
       "      <td>0</td>\n",
       "      <td>0</td>\n",
       "      <td>0</td>\n",
       "      <td>5</td>\n",
       "      <td>2007</td>\n",
       "      <td>WD</td>\n",
       "      <td>Normal</td>\n",
       "      <td>181500</td>\n",
       "    </tr>\n",
       "    <tr>\n",
       "      <th>2</th>\n",
       "      <td>60</td>\n",
       "      <td>RL</td>\n",
       "      <td>11250</td>\n",
       "      <td>Pave</td>\n",
       "      <td>IR1</td>\n",
       "      <td>Lvl</td>\n",
       "      <td>AllPub</td>\n",
       "      <td>Inside</td>\n",
       "      <td>Gtl</td>\n",
       "      <td>CollgCr</td>\n",
       "      <td>...</td>\n",
       "      <td>0</td>\n",
       "      <td>0</td>\n",
       "      <td>0</td>\n",
       "      <td>0</td>\n",
       "      <td>0</td>\n",
       "      <td>9</td>\n",
       "      <td>2008</td>\n",
       "      <td>WD</td>\n",
       "      <td>Normal</td>\n",
       "      <td>223500</td>\n",
       "    </tr>\n",
       "    <tr>\n",
       "      <th>3</th>\n",
       "      <td>70</td>\n",
       "      <td>RL</td>\n",
       "      <td>9550</td>\n",
       "      <td>Pave</td>\n",
       "      <td>IR1</td>\n",
       "      <td>Lvl</td>\n",
       "      <td>AllPub</td>\n",
       "      <td>Corner</td>\n",
       "      <td>Gtl</td>\n",
       "      <td>Crawfor</td>\n",
       "      <td>...</td>\n",
       "      <td>272</td>\n",
       "      <td>0</td>\n",
       "      <td>0</td>\n",
       "      <td>0</td>\n",
       "      <td>0</td>\n",
       "      <td>2</td>\n",
       "      <td>2006</td>\n",
       "      <td>WD</td>\n",
       "      <td>Abnorml</td>\n",
       "      <td>140000</td>\n",
       "    </tr>\n",
       "    <tr>\n",
       "      <th>4</th>\n",
       "      <td>60</td>\n",
       "      <td>RL</td>\n",
       "      <td>14260</td>\n",
       "      <td>Pave</td>\n",
       "      <td>IR1</td>\n",
       "      <td>Lvl</td>\n",
       "      <td>AllPub</td>\n",
       "      <td>FR2</td>\n",
       "      <td>Gtl</td>\n",
       "      <td>NoRidge</td>\n",
       "      <td>...</td>\n",
       "      <td>0</td>\n",
       "      <td>0</td>\n",
       "      <td>0</td>\n",
       "      <td>0</td>\n",
       "      <td>0</td>\n",
       "      <td>12</td>\n",
       "      <td>2008</td>\n",
       "      <td>WD</td>\n",
       "      <td>Normal</td>\n",
       "      <td>250000</td>\n",
       "    </tr>\n",
       "  </tbody>\n",
       "</table>\n",
       "<p>5 rows × 69 columns</p>\n",
       "</div>"
      ],
      "text/plain": [
       "   MSSubClass MSZoning  LotArea Street LotShape LandContour Utilities  \\\n",
       "0          60       RL     8450   Pave      Reg         Lvl    AllPub   \n",
       "1          20       RL     9600   Pave      Reg         Lvl    AllPub   \n",
       "2          60       RL    11250   Pave      IR1         Lvl    AllPub   \n",
       "3          70       RL     9550   Pave      IR1         Lvl    AllPub   \n",
       "4          60       RL    14260   Pave      IR1         Lvl    AllPub   \n",
       "\n",
       "  LotConfig LandSlope Neighborhood    ...    EnclosedPorch 3SsnPorch  \\\n",
       "0    Inside       Gtl      CollgCr    ...                0         0   \n",
       "1       FR2       Gtl      Veenker    ...                0         0   \n",
       "2    Inside       Gtl      CollgCr    ...                0         0   \n",
       "3    Corner       Gtl      Crawfor    ...              272         0   \n",
       "4       FR2       Gtl      NoRidge    ...                0         0   \n",
       "\n",
       "  ScreenPorch PoolArea  MiscVal  MoSold  YrSold  SaleType SaleCondition  \\\n",
       "0           0        0        0       2    2008        WD        Normal   \n",
       "1           0        0        0       5    2007        WD        Normal   \n",
       "2           0        0        0       9    2008        WD        Normal   \n",
       "3           0        0        0       2    2006        WD       Abnorml   \n",
       "4           0        0        0      12    2008        WD        Normal   \n",
       "\n",
       "  SalePrice  \n",
       "0    208500  \n",
       "1    181500  \n",
       "2    223500  \n",
       "3    140000  \n",
       "4    250000  \n",
       "\n",
       "[5 rows x 69 columns]"
      ]
     },
     "execution_count": 6,
     "metadata": {},
     "output_type": "execute_result"
    }
   ],
   "source": [
    "# get the features with percentage of nan greater than 5%\n",
    "features_to_drop = miss[miss['Percentage']>0.05].index.values\n",
    "\n",
    "#updated dataframe\n",
    "miss_2 = data.drop(columns=features_to_drop)\n",
    "miss_2 = miss_2.drop(columns=\"Id\")\n",
    "#print results\n",
    "print('Features to drop :')\n",
    "print(features_to_drop)\n",
    "print('We also drop the column ID')\n",
    "miss_2.head()"
   ]
  },
  {
   "cell_type": "markdown",
   "metadata": {},
   "source": [
    "Now we must fill the Remaining Nan by using the transformer"
   ]
  },
  {
   "cell_type": "code",
   "execution_count": 7,
   "metadata": {},
   "outputs": [
    {
     "data": {
      "text/html": [
       "<div>\n",
       "<style scoped>\n",
       "    .dataframe tbody tr th:only-of-type {\n",
       "        vertical-align: middle;\n",
       "    }\n",
       "\n",
       "    .dataframe tbody tr th {\n",
       "        vertical-align: top;\n",
       "    }\n",
       "\n",
       "    .dataframe thead th {\n",
       "        text-align: right;\n",
       "    }\n",
       "</style>\n",
       "<table border=\"1\" class=\"dataframe\">\n",
       "  <thead>\n",
       "    <tr style=\"text-align: right;\">\n",
       "      <th></th>\n",
       "      <th>MSSubClass</th>\n",
       "      <th>MSZoning</th>\n",
       "      <th>LotArea</th>\n",
       "      <th>Street</th>\n",
       "      <th>LotShape</th>\n",
       "      <th>LandContour</th>\n",
       "      <th>Utilities</th>\n",
       "      <th>LotConfig</th>\n",
       "      <th>LandSlope</th>\n",
       "      <th>Neighborhood</th>\n",
       "      <th>...</th>\n",
       "      <th>EnclosedPorch</th>\n",
       "      <th>3SsnPorch</th>\n",
       "      <th>ScreenPorch</th>\n",
       "      <th>PoolArea</th>\n",
       "      <th>MiscVal</th>\n",
       "      <th>MoSold</th>\n",
       "      <th>YrSold</th>\n",
       "      <th>SaleType</th>\n",
       "      <th>SaleCondition</th>\n",
       "      <th>SalePrice</th>\n",
       "    </tr>\n",
       "  </thead>\n",
       "  <tbody>\n",
       "    <tr>\n",
       "      <th>0</th>\n",
       "      <td>60</td>\n",
       "      <td>RL</td>\n",
       "      <td>8450</td>\n",
       "      <td>Pave</td>\n",
       "      <td>Reg</td>\n",
       "      <td>Lvl</td>\n",
       "      <td>AllPub</td>\n",
       "      <td>Inside</td>\n",
       "      <td>Gtl</td>\n",
       "      <td>CollgCr</td>\n",
       "      <td>...</td>\n",
       "      <td>0</td>\n",
       "      <td>0</td>\n",
       "      <td>0</td>\n",
       "      <td>0</td>\n",
       "      <td>0</td>\n",
       "      <td>2</td>\n",
       "      <td>2008</td>\n",
       "      <td>WD</td>\n",
       "      <td>Normal</td>\n",
       "      <td>208500</td>\n",
       "    </tr>\n",
       "    <tr>\n",
       "      <th>1</th>\n",
       "      <td>20</td>\n",
       "      <td>RL</td>\n",
       "      <td>9600</td>\n",
       "      <td>Pave</td>\n",
       "      <td>Reg</td>\n",
       "      <td>Lvl</td>\n",
       "      <td>AllPub</td>\n",
       "      <td>FR2</td>\n",
       "      <td>Gtl</td>\n",
       "      <td>Veenker</td>\n",
       "      <td>...</td>\n",
       "      <td>0</td>\n",
       "      <td>0</td>\n",
       "      <td>0</td>\n",
       "      <td>0</td>\n",
       "      <td>0</td>\n",
       "      <td>5</td>\n",
       "      <td>2007</td>\n",
       "      <td>WD</td>\n",
       "      <td>Normal</td>\n",
       "      <td>181500</td>\n",
       "    </tr>\n",
       "    <tr>\n",
       "      <th>2</th>\n",
       "      <td>60</td>\n",
       "      <td>RL</td>\n",
       "      <td>11250</td>\n",
       "      <td>Pave</td>\n",
       "      <td>IR1</td>\n",
       "      <td>Lvl</td>\n",
       "      <td>AllPub</td>\n",
       "      <td>Inside</td>\n",
       "      <td>Gtl</td>\n",
       "      <td>CollgCr</td>\n",
       "      <td>...</td>\n",
       "      <td>0</td>\n",
       "      <td>0</td>\n",
       "      <td>0</td>\n",
       "      <td>0</td>\n",
       "      <td>0</td>\n",
       "      <td>9</td>\n",
       "      <td>2008</td>\n",
       "      <td>WD</td>\n",
       "      <td>Normal</td>\n",
       "      <td>223500</td>\n",
       "    </tr>\n",
       "    <tr>\n",
       "      <th>3</th>\n",
       "      <td>70</td>\n",
       "      <td>RL</td>\n",
       "      <td>9550</td>\n",
       "      <td>Pave</td>\n",
       "      <td>IR1</td>\n",
       "      <td>Lvl</td>\n",
       "      <td>AllPub</td>\n",
       "      <td>Corner</td>\n",
       "      <td>Gtl</td>\n",
       "      <td>Crawfor</td>\n",
       "      <td>...</td>\n",
       "      <td>272</td>\n",
       "      <td>0</td>\n",
       "      <td>0</td>\n",
       "      <td>0</td>\n",
       "      <td>0</td>\n",
       "      <td>2</td>\n",
       "      <td>2006</td>\n",
       "      <td>WD</td>\n",
       "      <td>Abnorml</td>\n",
       "      <td>140000</td>\n",
       "    </tr>\n",
       "    <tr>\n",
       "      <th>4</th>\n",
       "      <td>60</td>\n",
       "      <td>RL</td>\n",
       "      <td>14260</td>\n",
       "      <td>Pave</td>\n",
       "      <td>IR1</td>\n",
       "      <td>Lvl</td>\n",
       "      <td>AllPub</td>\n",
       "      <td>FR2</td>\n",
       "      <td>Gtl</td>\n",
       "      <td>NoRidge</td>\n",
       "      <td>...</td>\n",
       "      <td>0</td>\n",
       "      <td>0</td>\n",
       "      <td>0</td>\n",
       "      <td>0</td>\n",
       "      <td>0</td>\n",
       "      <td>12</td>\n",
       "      <td>2008</td>\n",
       "      <td>WD</td>\n",
       "      <td>Normal</td>\n",
       "      <td>250000</td>\n",
       "    </tr>\n",
       "  </tbody>\n",
       "</table>\n",
       "<p>5 rows × 69 columns</p>\n",
       "</div>"
      ],
      "text/plain": [
       "   MSSubClass MSZoning  LotArea Street LotShape LandContour Utilities  \\\n",
       "0          60       RL     8450   Pave      Reg         Lvl    AllPub   \n",
       "1          20       RL     9600   Pave      Reg         Lvl    AllPub   \n",
       "2          60       RL    11250   Pave      IR1         Lvl    AllPub   \n",
       "3          70       RL     9550   Pave      IR1         Lvl    AllPub   \n",
       "4          60       RL    14260   Pave      IR1         Lvl    AllPub   \n",
       "\n",
       "  LotConfig LandSlope Neighborhood    ...    EnclosedPorch 3SsnPorch  \\\n",
       "0    Inside       Gtl      CollgCr    ...                0         0   \n",
       "1       FR2       Gtl      Veenker    ...                0         0   \n",
       "2    Inside       Gtl      CollgCr    ...                0         0   \n",
       "3    Corner       Gtl      Crawfor    ...              272         0   \n",
       "4       FR2       Gtl      NoRidge    ...                0         0   \n",
       "\n",
       "  ScreenPorch PoolArea  MiscVal  MoSold  YrSold  SaleType SaleCondition  \\\n",
       "0           0        0        0       2    2008        WD        Normal   \n",
       "1           0        0        0       5    2007        WD        Normal   \n",
       "2           0        0        0       9    2008        WD        Normal   \n",
       "3           0        0        0       2    2006        WD       Abnorml   \n",
       "4           0        0        0      12    2008        WD        Normal   \n",
       "\n",
       "  SalePrice  \n",
       "0    208500  \n",
       "1    181500  \n",
       "2    223500  \n",
       "3    140000  \n",
       "4    250000  \n",
       "\n",
       "[5 rows x 69 columns]"
      ]
     },
     "execution_count": 7,
     "metadata": {},
     "output_type": "execute_result"
    }
   ],
   "source": [
    "tf = DataFrameImputer()\n",
    "tf.fit(miss_2)\n",
    "data_No_NaN = tf.transform(miss_2)\n",
    "\n",
    "data_No_NaN.head()"
   ]
  },
  {
   "cell_type": "code",
   "execution_count": 8,
   "metadata": {},
   "outputs": [
    {
     "name": "stdout",
     "output_type": "stream",
     "text": [
      "The Dataframe contains a NaN ? : False\n"
     ]
    }
   ],
   "source": [
    "# Print False if the dataframe contains a Nan and print True otherwise\n",
    "print(\"The Dataframe contains a NaN ? : \"+str(data_No_NaN.isnull().values.any()))"
   ]
  },
  {
   "cell_type": "markdown",
   "metadata": {},
   "source": [
    "**Q 3:** After loading data, skim through the description of features. Mark each feature as numeric, categorical or ordinal. "
   ]
  },
  {
   "cell_type": "markdown",
   "metadata": {},
   "source": [
    "Hint: Categorical features have no ordering semantics while ordinal features have ordering semantics."
   ]
  },
  {
   "cell_type": "code",
   "execution_count": 9,
   "metadata": {},
   "outputs": [
    {
     "name": "stdout",
     "output_type": "stream",
     "text": [
      "Dictionary of the features: key = name of feature / value = description(0=num,1=categ,2=ordinal)\n",
      "{'BsmtHalfBath': 0, 'LotShape': 1, 'OverallCond': 2, 'OverallQual': 2, 'MoSold': 0, 'ScreenPorch': 0, 'SaleType': 1, 'Fireplaces': 0, 'WoodDeckSF': 0, 'Exterior2nd': 1, 'SalePrice': 0, 'GrLivArea': 0, 'LandContour': 1, 'LandSlope': 2, 'HeatingQC': 2, 'BsmtUnfSF': 0, 'TotalBsmtSF': 0, 'Neighborhood': 1, 'LowQualFinSF': 0, 'Functional': 2, 'CentralAir': 1, '2ndFlrSF': 0, 'KitchenQual': 2, 'HalfBath': 0, 'FullBath': 0, 'ExterQual': 2, 'BsmtExposure': 2, 'MasVnrArea': 0, '3SsnPorch': 0, 'TotRmsAbvGrd': 0, 'EnclosedPorch': 0, 'RoofMatl': 1, 'PavedDrive': 1, 'BedroomAbvGr': 0, 'PoolArea': 0, 'ExterCond': 2, 'RoofStyle': 1, 'Street': 1, 'GarageCars': 0, 'BldgType': 1, 'YearRemodAdd': 0, 'BsmtQual': 2, 'BsmtFinSF1': 0, 'BsmtFinType1': 2, 'MSZoning': 1, 'LotArea': 0, 'BsmtCond': 2, 'YrSold': 0, 'GarageArea': 0, 'Condition1': 1, 'OpenPorchSF': 0, 'Utilities': 1, 'MiscVal': 0, '1stFlrSF': 0, 'Foundation': 1, 'MSSubClass': 1, 'YearBuilt': 0, 'Heating': 1, 'Electrical': 1, 'SaleCondition': 1, 'Exterior1st': 1, 'BsmtFullBath': 0, 'MasVnrType': 1, 'BsmtFinType2': 2, 'Condition2': 1, 'LotConfig': 1, 'KitchenAbvGr': 0, 'HouseStyle': 1, 'BsmtFinSF2': 0}\n",
      "69 features\n",
      "NUMERICAL FEATURES : \n",
      "['BsmtHalfBath', 'MoSold', 'ScreenPorch', 'Fireplaces', 'WoodDeckSF', 'SalePrice', 'GrLivArea', 'BsmtUnfSF', 'TotalBsmtSF', 'LowQualFinSF', '2ndFlrSF', 'HalfBath', 'FullBath', 'MasVnrArea', '3SsnPorch', 'TotRmsAbvGrd', 'EnclosedPorch', 'BedroomAbvGr', 'PoolArea', 'GarageCars', 'YearRemodAdd', 'BsmtFinSF1', 'LotArea', 'YrSold', 'GarageArea', 'OpenPorchSF', 'MiscVal', '1stFlrSF', 'YearBuilt', 'BsmtFullBath', 'KitchenAbvGr', 'BsmtFinSF2']\n",
      "CATEGORICAL FEATURES : \n",
      "['LotShape', 'SaleType', 'Exterior2nd', 'LandContour', 'Neighborhood', 'CentralAir', 'RoofMatl', 'PavedDrive', 'RoofStyle', 'Street', 'BldgType', 'MSZoning', 'Condition1', 'Utilities', 'Foundation', 'MSSubClass', 'Heating', 'Electrical', 'SaleCondition', 'Exterior1st', 'MasVnrType', 'Condition2', 'LotConfig', 'HouseStyle']\n",
      "ORDINAL FEATURES : \n",
      "['OverallCond', 'OverallQual', 'LandSlope', 'HeatingQC', 'Functional', 'KitchenQual', 'ExterQual', 'BsmtExposure', 'ExterCond', 'BsmtQual', 'BsmtFinType1', 'BsmtCond', 'BsmtFinType2']\n"
     ]
    }
   ],
   "source": [
    "# GET THE NAME OF EACH FEATURES\n",
    "features = np.array(data_No_NaN.columns)\n",
    "# CREATE AN ARRAY WITH THE DESCRIPTION OF EACH FEATURES AS \n",
    "#   0 = NUMERIC\n",
    "#   1 = CATEGORICAL\n",
    "#   2 = ORDINAL\n",
    "# We do it by hand after checking every features in the txt description file\n",
    "desc = dict(zip(features,np.zeros(len(features))))\n",
    "#fill up the dictionary\n",
    "desc['MSSubClass']= 1\n",
    "desc['MSZoning']= 1\n",
    "# We comment all the features that we dropped above\n",
    "#desc['LotFrontage']=\n",
    "desc['LotArea']= 0\n",
    "desc['Street']=1\n",
    "#desc['Alley']=\n",
    "desc['LotShape']=1\n",
    "desc['LandContour']=1\n",
    "desc['Utilities']=1\n",
    "desc['LotConfig']=1\n",
    "desc['LandSlope']=2\n",
    "desc['Neighborhood']=1\n",
    "desc['Condition1']=1\n",
    "desc['Condition2']=1\n",
    "desc['BldgType']=1\n",
    "desc['HouseStyle']=1\n",
    "desc['OverallQual']=2\n",
    "desc['OverallCond']=2\n",
    "desc['YearBuilt']=0\n",
    "desc['YearRemodAdd']=0\n",
    "desc['RoofStyle']=1\n",
    "desc['RoofMatl']=1\n",
    "desc['Exterior1st']=1\n",
    "desc['Exterior2nd']=1\n",
    "desc['MasVnrType']=1\n",
    "desc['MasVnrArea']=0\n",
    "desc['ExterQual']=2\n",
    "desc['ExterCond']=2\n",
    "desc['Foundation']=1\n",
    "desc['BsmtQual']=2\n",
    "desc['BsmtCond']=2\n",
    "desc['BsmtExposure']=2\n",
    "desc['BsmtFinType1']=2\n",
    "desc['BsmtFinSF1']=0\n",
    "desc['BsmtFinType2']=2\n",
    "desc['BsmtFinSF2']=0\n",
    "desc['BsmtUnfSF']=0\n",
    "desc['TotalBsmtSF']=0\n",
    "desc['Heating']=1\n",
    "desc['HeatingQC']=2\n",
    "desc['CentralAir']=1\n",
    "desc['Electrical']=1\n",
    "desc['1stFlrSF']=0\n",
    "desc['2ndFlrSF']=0\n",
    "desc['LowQualFinSF']=0\n",
    "desc['GrLivArea']=0\n",
    "desc['BsmtFullBath']=0\n",
    "desc['BsmtHalfBath']=0\n",
    "desc['FullBath']=0\n",
    "desc['HalfBath']=0\n",
    "desc['BedroomAbvGr']=0\n",
    "desc['KitchenAbvGr']=0\n",
    "desc['KitchenQual']=2\n",
    "desc['TotRmsAbvGrd']=0\n",
    "desc['Functional']=2\n",
    "desc['Fireplaces']=0\n",
    "#desc['FireplaceQu']=\n",
    "#desc['GarageType']=\n",
    "#desc['GarageYrBlt']=\n",
    "#desc['GarageFinish']=\n",
    "desc['GarageCars']=0\n",
    "desc['GarageArea']=0\n",
    "#desc['GarageQual']=\n",
    "#desc['GarageCond']=\n",
    "desc['PavedDrive']=1\n",
    "desc['WoodDeckSF']=0\n",
    "desc['OpenPorchSF']=0\n",
    "desc['EnclosedPorch']=0\n",
    "desc['3SsnPorch']=0\n",
    "desc['ScreenPorch']=0\n",
    "desc['PoolArea']=0\n",
    "#desc['PoolQC']=\n",
    "#desc['Fence']=\n",
    "#desc['MiscFeature']=\n",
    "desc['MiscVal']=0\n",
    "desc['MoSold']=0\n",
    "desc['YrSold']=0\n",
    "desc['SaleType']=1\n",
    "desc['SaleCondition']=1\n",
    "desc['SalePrice']=0\n",
    "\n",
    "print('Dictionary of the features: key = name of feature / value = description(0=num,1=categ,2=ordinal)')\n",
    "print(desc)\n",
    "print(str(len(desc))+\" features\")\n",
    "print('NUMERICAL FEATURES : ')\n",
    "print([key for key,value in desc.items() if value==0])\n",
    "print('CATEGORICAL FEATURES : ')\n",
    "print([key for key,value in desc.items() if value==1])\n",
    "print('ORDINAL FEATURES : ')\n",
    "print([key for key,value in desc.items() if value==2])"
   ]
  },
  {
   "cell_type": "markdown",
   "metadata": {},
   "source": [
    "**Q 4:** How you create a numeric representation for categorical and ordinal features ? Perform the required feature encodings and save your pre-processed data into a new data frame. Check the data type of all features at the end and make sure they are all numeric."
   ]
  },
  {
   "cell_type": "markdown",
   "metadata": {},
   "source": [
    "Hint: Use the *get_dummies()* function of Pandas to transform categorical features. For ordinal features, try to transform them using a dictionary which maps old non-numeric labels into new numeric labels, preserving ordering semantics. Use data description file to build your dictionaries."
   ]
  },
  {
   "cell_type": "code",
   "execution_count": 10,
   "metadata": {},
   "outputs": [
    {
     "data": {
      "text/html": [
       "<div>\n",
       "<style scoped>\n",
       "    .dataframe tbody tr th:only-of-type {\n",
       "        vertical-align: middle;\n",
       "    }\n",
       "\n",
       "    .dataframe tbody tr th {\n",
       "        vertical-align: top;\n",
       "    }\n",
       "\n",
       "    .dataframe thead th {\n",
       "        text-align: right;\n",
       "    }\n",
       "</style>\n",
       "<table border=\"1\" class=\"dataframe\">\n",
       "  <thead>\n",
       "    <tr style=\"text-align: right;\">\n",
       "      <th></th>\n",
       "      <th>LotArea</th>\n",
       "      <th>LandSlope</th>\n",
       "      <th>OverallQual</th>\n",
       "      <th>OverallCond</th>\n",
       "      <th>YearBuilt</th>\n",
       "      <th>YearRemodAdd</th>\n",
       "      <th>MasVnrArea</th>\n",
       "      <th>ExterQual</th>\n",
       "      <th>ExterCond</th>\n",
       "      <th>BsmtQual</th>\n",
       "      <th>...</th>\n",
       "      <th>LotConfig_FR3</th>\n",
       "      <th>LotConfig_Inside</th>\n",
       "      <th>HouseStyle_1.5Fin</th>\n",
       "      <th>HouseStyle_1.5Unf</th>\n",
       "      <th>HouseStyle_1Story</th>\n",
       "      <th>HouseStyle_2.5Fin</th>\n",
       "      <th>HouseStyle_2.5Unf</th>\n",
       "      <th>HouseStyle_2Story</th>\n",
       "      <th>HouseStyle_SFoyer</th>\n",
       "      <th>HouseStyle_SLvl</th>\n",
       "    </tr>\n",
       "  </thead>\n",
       "  <tbody>\n",
       "    <tr>\n",
       "      <th>0</th>\n",
       "      <td>8450</td>\n",
       "      <td>2</td>\n",
       "      <td>7</td>\n",
       "      <td>5</td>\n",
       "      <td>2003</td>\n",
       "      <td>2003</td>\n",
       "      <td>196.0</td>\n",
       "      <td>3</td>\n",
       "      <td>2</td>\n",
       "      <td>4</td>\n",
       "      <td>...</td>\n",
       "      <td>0</td>\n",
       "      <td>1</td>\n",
       "      <td>0</td>\n",
       "      <td>0</td>\n",
       "      <td>0</td>\n",
       "      <td>0</td>\n",
       "      <td>0</td>\n",
       "      <td>1</td>\n",
       "      <td>0</td>\n",
       "      <td>0</td>\n",
       "    </tr>\n",
       "    <tr>\n",
       "      <th>1</th>\n",
       "      <td>9600</td>\n",
       "      <td>2</td>\n",
       "      <td>6</td>\n",
       "      <td>8</td>\n",
       "      <td>1976</td>\n",
       "      <td>1976</td>\n",
       "      <td>0.0</td>\n",
       "      <td>2</td>\n",
       "      <td>2</td>\n",
       "      <td>4</td>\n",
       "      <td>...</td>\n",
       "      <td>0</td>\n",
       "      <td>0</td>\n",
       "      <td>0</td>\n",
       "      <td>0</td>\n",
       "      <td>1</td>\n",
       "      <td>0</td>\n",
       "      <td>0</td>\n",
       "      <td>0</td>\n",
       "      <td>0</td>\n",
       "      <td>0</td>\n",
       "    </tr>\n",
       "    <tr>\n",
       "      <th>2</th>\n",
       "      <td>11250</td>\n",
       "      <td>2</td>\n",
       "      <td>7</td>\n",
       "      <td>5</td>\n",
       "      <td>2001</td>\n",
       "      <td>2002</td>\n",
       "      <td>162.0</td>\n",
       "      <td>3</td>\n",
       "      <td>2</td>\n",
       "      <td>4</td>\n",
       "      <td>...</td>\n",
       "      <td>0</td>\n",
       "      <td>1</td>\n",
       "      <td>0</td>\n",
       "      <td>0</td>\n",
       "      <td>0</td>\n",
       "      <td>0</td>\n",
       "      <td>0</td>\n",
       "      <td>1</td>\n",
       "      <td>0</td>\n",
       "      <td>0</td>\n",
       "    </tr>\n",
       "    <tr>\n",
       "      <th>3</th>\n",
       "      <td>9550</td>\n",
       "      <td>2</td>\n",
       "      <td>7</td>\n",
       "      <td>5</td>\n",
       "      <td>1915</td>\n",
       "      <td>1970</td>\n",
       "      <td>0.0</td>\n",
       "      <td>2</td>\n",
       "      <td>2</td>\n",
       "      <td>3</td>\n",
       "      <td>...</td>\n",
       "      <td>0</td>\n",
       "      <td>0</td>\n",
       "      <td>0</td>\n",
       "      <td>0</td>\n",
       "      <td>0</td>\n",
       "      <td>0</td>\n",
       "      <td>0</td>\n",
       "      <td>1</td>\n",
       "      <td>0</td>\n",
       "      <td>0</td>\n",
       "    </tr>\n",
       "    <tr>\n",
       "      <th>4</th>\n",
       "      <td>14260</td>\n",
       "      <td>2</td>\n",
       "      <td>8</td>\n",
       "      <td>5</td>\n",
       "      <td>2000</td>\n",
       "      <td>2000</td>\n",
       "      <td>350.0</td>\n",
       "      <td>3</td>\n",
       "      <td>2</td>\n",
       "      <td>4</td>\n",
       "      <td>...</td>\n",
       "      <td>0</td>\n",
       "      <td>0</td>\n",
       "      <td>0</td>\n",
       "      <td>0</td>\n",
       "      <td>0</td>\n",
       "      <td>0</td>\n",
       "      <td>0</td>\n",
       "      <td>1</td>\n",
       "      <td>0</td>\n",
       "      <td>0</td>\n",
       "    </tr>\n",
       "  </tbody>\n",
       "</table>\n",
       "<p>5 rows × 223 columns</p>\n",
       "</div>"
      ],
      "text/plain": [
       "   LotArea  LandSlope  OverallQual  OverallCond  YearBuilt  YearRemodAdd  \\\n",
       "0     8450          2            7            5       2003          2003   \n",
       "1     9600          2            6            8       1976          1976   \n",
       "2    11250          2            7            5       2001          2002   \n",
       "3     9550          2            7            5       1915          1970   \n",
       "4    14260          2            8            5       2000          2000   \n",
       "\n",
       "   MasVnrArea  ExterQual  ExterCond  BsmtQual       ...         LotConfig_FR3  \\\n",
       "0       196.0          3          2         4       ...                     0   \n",
       "1         0.0          2          2         4       ...                     0   \n",
       "2       162.0          3          2         4       ...                     0   \n",
       "3         0.0          2          2         3       ...                     0   \n",
       "4       350.0          3          2         4       ...                     0   \n",
       "\n",
       "   LotConfig_Inside  HouseStyle_1.5Fin  HouseStyle_1.5Unf  HouseStyle_1Story  \\\n",
       "0                 1                  0                  0                  0   \n",
       "1                 0                  0                  0                  1   \n",
       "2                 1                  0                  0                  0   \n",
       "3                 0                  0                  0                  0   \n",
       "4                 0                  0                  0                  0   \n",
       "\n",
       "   HouseStyle_2.5Fin  HouseStyle_2.5Unf  HouseStyle_2Story  HouseStyle_SFoyer  \\\n",
       "0                  0                  0                  1                  0   \n",
       "1                  0                  0                  0                  0   \n",
       "2                  0                  0                  1                  0   \n",
       "3                  0                  0                  1                  0   \n",
       "4                  0                  0                  1                  0   \n",
       "\n",
       "   HouseStyle_SLvl  \n",
       "0                0  \n",
       "1                0  \n",
       "2                0  \n",
       "3                0  \n",
       "4                0  \n",
       "\n",
       "[5 rows x 223 columns]"
      ]
     },
     "execution_count": 10,
     "metadata": {},
     "output_type": "execute_result"
    }
   ],
   "source": [
    "# Find the categorical and ordinal features\n",
    "cols_categorical = []\n",
    "cols_ordinal = []\n",
    "for key, value in desc.items():\n",
    "    if value == 1:\n",
    "        cols_categorical.append(key)\n",
    "    if value == 2:\n",
    "        cols_ordinal.append(key)\n",
    "\n",
    "# Update data with ONE HOT ENCODING of all categorical features\n",
    "data_with_dummies = pd.get_dummies(data = data_No_NaN, columns = cols_categorical)\n",
    "\n",
    "# Update data with transformation of ordinal features to numeric labels preserving ordering sementics\n",
    "\n",
    "ExterQual_dict={\"Ex\":4,\"Gd\":3,\"TA\":2,\"Fa\":1,\"Po\":0}\n",
    "ExterCond_dict={\"Ex\":4,\"Gd\":3,\"TA\":2,\"Fa\":1,\"Po\":0}\n",
    "KitchenQual_dict={\"Ex\":4,\"Gd\":3,\"TA\":2,\"Fa\":1,\"Po\":0}\n",
    "Functional_dict={\"Typ\":7,\"Min1\":6,\"Min2\":5,\"Mod\":4,\"Maj1\":3,\"Maj2\":2,\"Sev\":1,\"Sal\":0}\n",
    "LandSlope_dict={\"Gtl\":2,\"Mod\":1,\"Sev\":0}\n",
    "BsmtQual_dict={\"Ex\":5,\"Gd\":4,\"TA\":3,\"Fa\":2,\"Po\":1,\"NA\":0}\n",
    "BsmtCond_dict={\"Ex\":5,\"Gd\":4,\"TA\":3,\"Fa\":2,\"Po\":1,\"NA\":0}\n",
    "BsmtExposure_dict={\"Gd\":4,\"Av\":3,\"Mn\":2,\"No\":1,\"NA\":0}\n",
    "BsmtFinType1_dict={\"GLQ\":6,\"ALQ\":5,\"BLQ\":4,\"Rec\":3,\"LwQ\":2,\"Unf\":1,\"NA\":0}\n",
    "BsmtFinType2_dict={\"GLQ\":6,\"ALQ\":5,\"BLQ\":4,\"Rec\":3,\"LwQ\":2,\"Unf\":1,\"NA\":0}\n",
    "HeatingQC_dict = {\"Ex\":4,\"Gd\":3,\"TA\":2,\"Fa\":1,\"Po\":0}\n",
    "\n",
    "# OverallQual and OverallCond are already a numeric ordinal label\n",
    "\n",
    "# We now transform our column using map function on the dictionaries\n",
    "data_with_dummies.replace({'ExterQual':ExterQual_dict},inplace=True)\n",
    "data_with_dummies.replace({'ExterCond':ExterCond_dict},inplace=True)\n",
    "data_with_dummies.replace({'KitchenQual':KitchenQual_dict},inplace=True)\n",
    "data_with_dummies.replace({'Functional':Functional_dict},inplace=True)\n",
    "data_with_dummies.replace({'LandSlope':LandSlope_dict},inplace=True)\n",
    "data_with_dummies.replace({'BsmtQual':BsmtQual_dict},inplace=True)\n",
    "data_with_dummies.replace({'BsmtCond':BsmtCond_dict},inplace=True)\n",
    "data_with_dummies.replace({'BsmtExposure':BsmtExposure_dict},inplace=True)\n",
    "data_with_dummies.replace({'BsmtFinType1':BsmtFinType1_dict},inplace=True)\n",
    "data_with_dummies.replace({'BsmtFinType2':BsmtFinType2_dict},inplace=True)\n",
    "data_with_dummies.replace({'HeatingQC':HeatingQC_dict},inplace=True)\n",
    "\n",
    "data_with_dummies.head()"
   ]
  },
  {
   "cell_type": "markdown",
   "metadata": {},
   "source": [
    "\n",
    "**Q 5:** Why do you think the root mean square error between log of predicted price and log of observed price is a better metric than a RMSE applied directly on observed and predicted prices ? Visualize the distribution of target feature and log transform of the target feature. Also separate your data into features and target, where your target is the log of sale price."
   ]
  },
  {
   "cell_type": "markdown",
   "metadata": {},
   "source": [
    "Hint: Use *numpy.log1p()* to log transform the target feature. Use *seaborn.distplot()* to visualize distributions."
   ]
  },
  {
   "cell_type": "code",
   "execution_count": 11,
   "metadata": {},
   "outputs": [
    {
     "data": {
      "text/plain": [
       "[<matplotlib.lines.Line2D at 0x7fa1d881b908>]"
      ]
     },
     "execution_count": 11,
     "metadata": {},
     "output_type": "execute_result"
    },
    {
     "data": {
      "image/png": "[encoded data removed]",
      "text/plain": [
       "<Figure size 432x288 with 2 Axes>"
      ]
     },
     "metadata": {},
     "output_type": "display_data"
    }
   ],
   "source": [
    "import matplotlib.pyplot as plt\n",
    "%matplotlib inline\n",
    "\n",
    "#transform the target feature\n",
    "log = np.sort(np.log1p(data_with_dummies['SalePrice']))\n",
    "target_sort = np.sort(data_with_dummies['SalePrice'])\n",
    "#Visualization of both \n",
    "f, axarr = plt.subplots(2, sharex=True)\n",
    "axarr[0].plot(log)\n",
    "axarr[0].set_title('Sharing X axis')\n",
    "axarr[1].plot(np.sort(data_with_dummies['SalePrice']))"
   ]
  },
  {
   "cell_type": "code",
   "execution_count": 12,
   "metadata": {},
   "outputs": [
    {
     "data": {
      "text/plain": [
       "<matplotlib.axes._subplots.AxesSubplot at 0x7fa1d87cb748>"
      ]
     },
     "execution_count": 12,
     "metadata": {},
     "output_type": "execute_result"
    },
    {
     "data": {
      "image/png": "[encoded data removed]",
      "text/plain": [
       "<Figure size 432x288 with 1 Axes>"
      ]
     },
     "metadata": {},
     "output_type": "display_data"
    }
   ],
   "source": [
    "sns.distplot(np.log1p(data_with_dummies['SalePrice']))"
   ]
  },
  {
   "cell_type": "code",
   "execution_count": 13,
   "metadata": {},
   "outputs": [
    {
     "data": {
      "text/plain": [
       "<matplotlib.axes._subplots.AxesSubplot at 0x7fa1d8746780>"
      ]
     },
     "execution_count": 13,
     "metadata": {},
     "output_type": "execute_result"
    },
    {
     "data": {
      "image/png": "[encoded data removed]",
      "text/plain": [
       "<Figure size 432x288 with 1 Axes>"
      ]
     },
     "metadata": {},
     "output_type": "display_data"
    }
   ],
   "source": [
    "sns.distplot(data_with_dummies['SalePrice'])"
   ]
  },
  {
   "cell_type": "markdown",
   "metadata": {},
   "source": [
    "We Can see that the shape of the distribution of the log transform is different to the distribution of the target features. We now have values between 10.5 and 13.5 wheras having values between 35k and 800k before. We also have a distribution looking like a normal distribution wheras before it looked like a Beta distribution.\n",
    "\n",
    "The root mean square error between log of predicted price and log of observed price is a better metric than a RMSE applied directly on observed and predicted prices because the datas areare concentrated around the mean of the log. Therefore the distance will be more precise. With the Raw saleprice a long distance might cause a higher error."
   ]
  },
  {
   "cell_type": "code",
   "execution_count": 14,
   "metadata": {},
   "outputs": [],
   "source": [
    "#Cut the data between features and target\n",
    "y = data_with_dummies['SalePrice']\n",
    "X = data_with_dummies.drop(columns='SalePrice')"
   ]
  },
  {
   "cell_type": "markdown",
   "metadata": {},
   "source": [
    "**Q 6:** Visualize the correlation of different features with target and sort them based on the absolute value of correlation. What are the top 10 correlated values ? Do all of them make sense compared to your prior expectation ?"
   ]
  },
  {
   "cell_type": "markdown",
   "metadata": {},
   "source": [
    "Hint: To compute pearson correlation of two dataframe columns A and B, do the following:\n",
    "\n",
    "*df['A'].corr(df['B'])*"
   ]
  },
  {
   "cell_type": "code",
   "execution_count": 15,
   "metadata": {},
   "outputs": [
    {
     "name": "stdout",
     "output_type": "stream",
     "text": [
      "SalePrice 1.0\n",
      "OverallQual 0.7909816005838044\n",
      "GrLivArea 0.7086244776126523\n",
      "ExterQual 0.6826392416562594\n",
      "KitchenQual 0.6595997207286639\n",
      "BsmtQual 0.6501380175698004\n",
      "GarageCars 0.6404091972583529\n",
      "GarageArea 0.6234314389183618\n",
      "TotalBsmtSF 0.6135805515591956\n",
      "1stFlrSF 0.6058521846919147\n",
      "FullBath 0.5606637627484449\n",
      "TotRmsAbvGrd 0.5337231555820282\n",
      "YearBuilt 0.5228973328794969\n",
      "YearRemodAdd 0.5071009671113865\n",
      "Foundation_PConc 0.4977337525869366\n",
      "MasVnrArea 0.47524131677366865\n",
      "Fireplaces 0.46692883675152724\n",
      "HeatingQC 0.427648707398804\n",
      "Neighborhood_NridgHt 0.4021485981752672\n",
      "BsmtFinSF1 0.3864198062421532\n",
      "MSSubClass_60 0.37719706842810663\n",
      "MasVnrType_None 0.36745636519324915\n",
      "BsmtExposure 0.36186283187566526\n",
      "SaleType_New 0.35750940508319323\n",
      "SaleCondition_Partial 0.35205985467143436\n",
      "Foundation_CBlock 0.3432629994446493\n",
      "MasVnrType_Stone 0.330475646543412\n",
      "Neighborhood_NoRidge 0.3304236257653571\n",
      "WoodDeckSF 0.3244134445681294\n",
      "2ndFlrSF 0.3193338028320681\n",
      "OpenPorchSF 0.3158562271160555\n",
      "Exterior2nd_VinylSd 0.306388880871482\n",
      "Exterior1st_VinylSd 0.3050088024776272\n",
      "BsmtFinType1 0.29877102909474235\n",
      "MSZoning_RM 0.2880651218971256\n",
      "HalfBath 0.2841076755947831\n",
      "LotShape_Reg 0.2676717602887937\n",
      "LotArea 0.2638433538714056\n",
      "CentralAir_Y 0.25132816384015527\n",
      "CentralAir_N 0.2513281638401552\n",
      "MSZoning_RL 0.24506340389709313\n",
      "HouseStyle_2Story 0.24288002726854274\n",
      "SaleType_WD 0.24259751727295095\n",
      "Electrical_SBrkr 0.24235702166420733\n",
      "MSSubClass_30 0.2386398001723952\n",
      "RoofStyle_Hip 0.2358969186646027\n",
      "PavedDrive_Y 0.23196803451042206\n",
      "BsmtFullBath 0.22712223313149382\n",
      "RoofStyle_Gable 0.22474411621309082\n",
      "LotShape_IR1 0.2232839247049024\n",
      "Neighborhood_StoneBr 0.2153627227693867\n",
      "BsmtUnfSF 0.21447910554696892\n",
      "PavedDrive_N 0.21262978253141096\n",
      "Foundation_BrkTil 0.20411736578270126\n",
      "MasVnrType_BrkFace 0.1981912062006382\n",
      "Electrical_FuseA 0.19397792356662372\n",
      "Neighborhood_OldTown 0.19218879886097295\n",
      "Neighborhood_NAmes 0.18851259699796927\n",
      "Neighborhood_Edwards 0.17994896448338454\n",
      "RoofMatl_WdShngl 0.16932390580208082\n",
      "BedroomAbvGr 0.16821315430073988\n",
      "Exterior1st_MetalSd 0.16706804265413464\n",
      "Neighborhood_IDOTRR 0.1640558518909175\n",
      "HouseStyle_1.5Fin 0.16346607100995525\n",
      "Exterior2nd_MetalSd 0.16238867058442735\n",
      "Exterior2nd_Wd Sdng 0.1618004951731798\n",
      "BsmtCond 0.1594452773835928\n",
      "Exterior1st_Wd Sdng 0.15861908165107275\n",
      "MSSubClass_50 0.1566922256381893\n",
      "SaleCondition_Normal 0.15398979048536585\n",
      "Neighborhood_BrkSide 0.14364786671580437\n",
      "LotConfig_CulDSac 0.14181753652525772\n",
      "Neighborhood_Somerst 0.1400579963436251\n",
      "BldgType_1Fam 0.13748324869515238\n",
      "KitchenAbvGr 0.13590737084214122\n",
      "Exterior1st_CemntBd 0.13349176235033514\n",
      "EnclosedPorch 0.12857795792595653\n",
      "Neighborhood_Sawyer 0.1283940655054436\n",
      "Exterior2nd_CmentBd 0.12818316002692465\n",
      "Electrical_FuseF 0.12660098635768433\n",
      "Neighborhood_Timber 0.12623630766971297\n",
      "LotShape_IR2 0.12609608820325474\n",
      "LandContour_HLS 0.12001380186770784\n",
      "Foundation_Slab 0.11974016023647939\n",
      "SaleCondition_Abnorml 0.11806923061460257\n",
      "Condition1_Feedr 0.11732867748568182\n",
      "BldgType_Duplex 0.11465483002228433\n",
      "MSSubClass_90 0.11465483002228433\n",
      "MSSubClass_160 0.11304188140989821\n",
      "Condition1_Norm 0.11296832108736433\n",
      "Neighborhood_MeadowV 0.11254415474599883\n",
      "ScreenPorch 0.11144657114291105\n",
      "MSZoning_C (all) 0.11125658290808606\n",
      "Exterior1st_AsbShng 0.10912582164200835\n",
      "Functional 0.10761889324399447\n",
      "Condition1_Artery 0.10640071096805344\n",
      "RoofMatl_CompShg 0.1045051699858391\n",
      "Neighborhood_BrDale 0.10130283618166967\n",
      "LandContour_Bnk 0.10112449060458618\n",
      "Exterior2nd_AsbShng 0.09922021939101369\n",
      "BldgType_Twnhs 0.09873019861048887\n",
      "BldgType_2fmCon 0.09734830194128398\n",
      "Exterior1st_HdBoard 0.09514764583955215\n",
      "MSSubClass_190 0.09357770607047991\n",
      "HouseStyle_SFoyer 0.09308987468225167\n",
      "Heating_GasA 0.092528913163042\n",
      "PoolArea 0.09240354949187321\n",
      "Heating_Grav 0.09233803351104597\n",
      "MSZoning_FV 0.08994971967036089\n",
      "PavedDrive_P 0.08862292093317285\n",
      "HouseStyle_1.5Unf 0.0876864058463646\n",
      "MSSubClass_45 0.08291208642778068\n",
      "MSSubClass_180 0.08221508458044877\n",
      "SaleType_COD 0.08104671129791098\n",
      "LotConfig_Inside 0.08053786914590562\n",
      "OverallCond 0.07785589404867803\n",
      "Exterior2nd_ImStucc 0.07440111895297531\n",
      "Neighborhood_CollgCr 0.07262599312707745\n",
      "Neighborhood_Crawfor 0.07115960252664823\n",
      "Exterior2nd_HdBoard 0.06786360534380857\n",
      "MSZoning_RH 0.06542929310102465\n",
      "Neighborhood_SWISU 0.06370549244437913\n",
      "Neighborhood_Veenker 0.06347063934055383\n",
      "MSSubClass_120 0.06294383548205996\n",
      "HouseStyle_1Story 0.061811100535888085\n",
      "Heating_Wall 0.0586221561490982\n",
      "Neighborhood_Mitchel 0.05784505418676342\n",
      "Neighborhood_ClearCr 0.05571831053291104\n",
      "Exterior2nd_Plywood 0.052940868975969085\n",
      "Exterior1st_WdShing 0.05131740614311984\n",
      "Exterior1st_BrkComm 0.0512641244105632\n",
      "LandSlope 0.05115224817946653\n",
      "SaleCondition_AdjLand 0.0506856335586721\n",
      "Condition1_PosN 0.04954116844794391\n",
      "MSSubClass_85 0.04913652981950296\n",
      "Condition2_PosN 0.048481102335697634\n",
      "Condition2_Feedr 0.04833482100357303\n",
      "Electrical_FuseP 0.04776061769494799\n",
      "Condition2_PosA 0.047497233281443625\n",
      "Exterior2nd_Brk Cmn 0.04737690972154164\n",
      "Condition1_RRAe 0.04665127135276283\n",
      "SaleCondition_Family 0.0464801960323448\n",
      "MoSold 0.046432245223819384\n",
      "LandContour_Low 0.04552825032749514\n",
      "Exterior2nd_Other 0.04551926433972547\n",
      "RoofMatl_WdShake 0.04464291700440558\n",
      "3SsnPorch 0.04458366533574846\n",
      "MasVnrType_BrkCmn 0.044393863680547485\n",
      "Exterior2nd_Stucco 0.04241569231469865\n",
      "Condition1_PosA 0.04201689908541708\n",
      "SaleType_ConLD 0.041790840641078845\n",
      "SaleType_Con 0.04135727608882861\n",
      "MSSubClass_20 0.04127392338024131\n",
      "Street_Grvl 0.041035535500049486\n",
      "Street_Pave 0.04103553550004948\n",
      "Exterior2nd_Wd Shng 0.04032943564552018\n",
      "Condition2_RRNn 0.03925505561469539\n",
      "HouseStyle_SLvl 0.03864543349361021\n",
      "Neighborhood_NPkVill 0.03790973990404993\n",
      "Electrical_Mix 0.03755543121243711\n",
      "MSSubClass_70 0.036883017176535124\n",
      "LotShape_IR3 0.036720475499535776\n",
      "HouseStyle_2.5Fin 0.036525722375987654\n",
      "Exterior1st_Stone 0.036180551287503034\n",
      "Neighborhood_Gilbert 0.035939622294684004\n",
      "Heating_Floor 0.0357422930158622\n",
      "RoofStyle_Gambrel 0.03512143449364918\n",
      "SaleType_Oth 0.034894994917515326\n",
      "Condition2_Artery 0.03470793247839593\n",
      "Exterior1st_BrkFace 0.03237139069159004\n",
      "BsmtFinType2 0.0320604276835968\n",
      "Condition2_Norm 0.0306762884356373\n",
      "Exterior1st_Stucco 0.029802258156837843\n",
      "YrSold 0.028922585168730378\n",
      "MSSubClass_80 0.028645606731152073\n",
      "LandContour_Lvl 0.02754457933083855\n",
      "SaleType_ConLw 0.027475125928901774\n",
      "Exterior1st_ImStucc 0.026728559393402882\n",
      "Exterior1st_AsphShn 0.026676602032987228\n",
      "HouseStyle_2.5Unf 0.02585567459562444\n",
      "Heating_OthW 0.02573027910672784\n",
      "LowQualFinSF 0.02560613000067959\n",
      "Exterior1st_CBlock 0.02502829458155548\n",
      "Exterior2nd_CBlock 0.02502829458155548\n",
      "Exterior2nd_BrkFace 0.024758995691036487\n",
      "Exterior2nd_AsphShn 0.02452440779344125\n",
      "Neighborhood_NWAmes 0.023482773020255265\n",
      "Condition1_RRNn 0.02323633312450888\n",
      "MiscVal 0.02118957964030325\n",
      "RoofStyle_Shed 0.020557102562781867\n",
      "Neighborhood_Blueste 0.020250412762982346\n",
      "Heating_GasW 0.02010259903543327\n",
      "RoofMatl_Membran 0.019970498842532616\n",
      "SaleType_CWD 0.019588066467574505\n",
      "Neighborhood_Blmngtn 0.019065649513505444\n",
      "ExterCond 0.018899118482413015\n",
      "LotConfig_FR3 0.018185562475503375\n",
      "Exterior1st_Plywood 0.017719256492840164\n",
      "BsmtHalfBath 0.016844154297359016\n",
      "Exterior2nd_Stone 0.016753527668945754\n",
      "RoofStyle_Flat 0.016433478287942255\n",
      "MSSubClass_40 0.01636553587034321\n",
      "SaleCondition_Alloca 0.015525374015419816\n",
      "MSSubClass_75 0.01526459840493454\n",
      "Neighborhood_SawyerW 0.014560153318488723\n",
      "Condition2_RRAn 0.014510444733969168\n",
      "RoofMatl_Roll 0.014479126892392025\n",
      "SaleType_ConLI 0.014371054765972287\n",
      "Utilities_AllPub 0.014314296147248806\n",
      "Utilities_NoSeWa 0.014314296147248806\n",
      "Foundation_Stone 0.012102630775853215\n",
      "BsmtFinSF2 0.011378121450215125\n",
      "RoofMatl_ClyTile 0.006896912615805739\n",
      "LotConfig_FR2 0.006858890782776002\n",
      "Condition1_RRAn 0.005892711711544376\n",
      "RoofMatl_Tar&Grv 0.0049208112142086705\n",
      "Condition1_RRNe 0.004583875135268449\n",
      "LotConfig_Corner 0.004144823294072507\n",
      "BldgType_TwnhsE 0.0038043834533088806\n",
      "Condition2_RRAe 0.0029929320927850377\n",
      "Foundation_Wood 0.0027114775829150083\n",
      "RoofStyle_Mansard 0.00030831909381730574\n",
      "RoofMatl_Metal 0.00030368281007854683\n"
     ]
    }
   ],
   "source": [
    "# Visualize corelation of different features with respect to target\n",
    "\n",
    "# Compute the correlation matrix\n",
    "corr_dic = {}\n",
    "above_10 = []\n",
    "for column in data_with_dummies.columns:\n",
    "    corr_dic[column] = abs(data_with_dummies[column]\n",
    "                           .corr(data_with_dummies['SalePrice']))\n",
    "    if abs(data_with_dummies[column].corr(data_with_dummies['SalePrice']))>0.1:\n",
    "        above_10.append(column)\n",
    "\n",
    "for w in sorted(corr_dic, key=corr_dic.get, reverse=True):\n",
    "    print (w, corr_dic[w])"
   ]
  },
  {
   "cell_type": "code",
   "execution_count": 16,
   "metadata": {},
   "outputs": [
    {
     "name": "stdout",
     "output_type": "stream",
     "text": [
      "The 10 most corrolated features are :\n",
      "OverallQual 0.7909816005838044\n",
      "GrLivArea 0.7086244776126523\n",
      "ExterQual 0.6826392416562594\n",
      "KitchenQual 0.6595997207286639\n",
      "BsmtQual 0.6501380175698004\n",
      "GarageCars 0.6404091972583529\n",
      "GarageArea 0.6234314389183618\n",
      "TotalBsmtSF 0.6135805515591956\n",
      "1stFlrSF 0.6058521846919147\n",
      "FullBath 0.5606637627484449\n"
     ]
    }
   ],
   "source": [
    "i=0\n",
    "print('The 10 most corrolated features are :')\n",
    "\n",
    "for w in sorted(corr_dic, key=corr_dic.get, reverse=True):\n",
    "    if i==11:\n",
    "        break\n",
    "    if i!=0:\n",
    "        print(w, corr_dic[w])\n",
    "    i+=1"
   ]
  },
  {
   "cell_type": "markdown",
   "metadata": {},
   "source": [
    "We decide to keep only the features with a correlation greater than 10% with the output"
   ]
  },
  {
   "cell_type": "code",
   "execution_count": 17,
   "metadata": {},
   "outputs": [
    {
     "data": {
      "text/html": [
       "<div>\n",
       "<style scoped>\n",
       "    .dataframe tbody tr th:only-of-type {\n",
       "        vertical-align: middle;\n",
       "    }\n",
       "\n",
       "    .dataframe tbody tr th {\n",
       "        vertical-align: top;\n",
       "    }\n",
       "\n",
       "    .dataframe thead th {\n",
       "        text-align: right;\n",
       "    }\n",
       "</style>\n",
       "<table border=\"1\" class=\"dataframe\">\n",
       "  <thead>\n",
       "    <tr style=\"text-align: right;\">\n",
       "      <th></th>\n",
       "      <th>LotArea</th>\n",
       "      <th>OverallQual</th>\n",
       "      <th>YearBuilt</th>\n",
       "      <th>YearRemodAdd</th>\n",
       "      <th>MasVnrArea</th>\n",
       "      <th>ExterQual</th>\n",
       "      <th>BsmtQual</th>\n",
       "      <th>BsmtCond</th>\n",
       "      <th>BsmtExposure</th>\n",
       "      <th>BsmtFinType1</th>\n",
       "      <th>...</th>\n",
       "      <th>Exterior1st_CemntBd</th>\n",
       "      <th>Exterior1st_MetalSd</th>\n",
       "      <th>Exterior1st_VinylSd</th>\n",
       "      <th>Exterior1st_Wd Sdng</th>\n",
       "      <th>MasVnrType_BrkFace</th>\n",
       "      <th>MasVnrType_None</th>\n",
       "      <th>MasVnrType_Stone</th>\n",
       "      <th>LotConfig_CulDSac</th>\n",
       "      <th>HouseStyle_1.5Fin</th>\n",
       "      <th>HouseStyle_2Story</th>\n",
       "    </tr>\n",
       "  </thead>\n",
       "  <tbody>\n",
       "    <tr>\n",
       "      <th>0</th>\n",
       "      <td>8450</td>\n",
       "      <td>7</td>\n",
       "      <td>2003</td>\n",
       "      <td>2003</td>\n",
       "      <td>196.0</td>\n",
       "      <td>3</td>\n",
       "      <td>4</td>\n",
       "      <td>3</td>\n",
       "      <td>1</td>\n",
       "      <td>6</td>\n",
       "      <td>...</td>\n",
       "      <td>0</td>\n",
       "      <td>0</td>\n",
       "      <td>1</td>\n",
       "      <td>0</td>\n",
       "      <td>1</td>\n",
       "      <td>0</td>\n",
       "      <td>0</td>\n",
       "      <td>0</td>\n",
       "      <td>0</td>\n",
       "      <td>1</td>\n",
       "    </tr>\n",
       "    <tr>\n",
       "      <th>1</th>\n",
       "      <td>9600</td>\n",
       "      <td>6</td>\n",
       "      <td>1976</td>\n",
       "      <td>1976</td>\n",
       "      <td>0.0</td>\n",
       "      <td>2</td>\n",
       "      <td>4</td>\n",
       "      <td>3</td>\n",
       "      <td>4</td>\n",
       "      <td>5</td>\n",
       "      <td>...</td>\n",
       "      <td>0</td>\n",
       "      <td>1</td>\n",
       "      <td>0</td>\n",
       "      <td>0</td>\n",
       "      <td>0</td>\n",
       "      <td>1</td>\n",
       "      <td>0</td>\n",
       "      <td>0</td>\n",
       "      <td>0</td>\n",
       "      <td>0</td>\n",
       "    </tr>\n",
       "    <tr>\n",
       "      <th>2</th>\n",
       "      <td>11250</td>\n",
       "      <td>7</td>\n",
       "      <td>2001</td>\n",
       "      <td>2002</td>\n",
       "      <td>162.0</td>\n",
       "      <td>3</td>\n",
       "      <td>4</td>\n",
       "      <td>3</td>\n",
       "      <td>2</td>\n",
       "      <td>6</td>\n",
       "      <td>...</td>\n",
       "      <td>0</td>\n",
       "      <td>0</td>\n",
       "      <td>1</td>\n",
       "      <td>0</td>\n",
       "      <td>1</td>\n",
       "      <td>0</td>\n",
       "      <td>0</td>\n",
       "      <td>0</td>\n",
       "      <td>0</td>\n",
       "      <td>1</td>\n",
       "    </tr>\n",
       "    <tr>\n",
       "      <th>3</th>\n",
       "      <td>9550</td>\n",
       "      <td>7</td>\n",
       "      <td>1915</td>\n",
       "      <td>1970</td>\n",
       "      <td>0.0</td>\n",
       "      <td>2</td>\n",
       "      <td>3</td>\n",
       "      <td>4</td>\n",
       "      <td>1</td>\n",
       "      <td>5</td>\n",
       "      <td>...</td>\n",
       "      <td>0</td>\n",
       "      <td>0</td>\n",
       "      <td>0</td>\n",
       "      <td>1</td>\n",
       "      <td>0</td>\n",
       "      <td>1</td>\n",
       "      <td>0</td>\n",
       "      <td>0</td>\n",
       "      <td>0</td>\n",
       "      <td>1</td>\n",
       "    </tr>\n",
       "    <tr>\n",
       "      <th>4</th>\n",
       "      <td>14260</td>\n",
       "      <td>8</td>\n",
       "      <td>2000</td>\n",
       "      <td>2000</td>\n",
       "      <td>350.0</td>\n",
       "      <td>3</td>\n",
       "      <td>4</td>\n",
       "      <td>3</td>\n",
       "      <td>3</td>\n",
       "      <td>6</td>\n",
       "      <td>...</td>\n",
       "      <td>0</td>\n",
       "      <td>0</td>\n",
       "      <td>1</td>\n",
       "      <td>0</td>\n",
       "      <td>1</td>\n",
       "      <td>0</td>\n",
       "      <td>0</td>\n",
       "      <td>0</td>\n",
       "      <td>0</td>\n",
       "      <td>1</td>\n",
       "    </tr>\n",
       "  </tbody>\n",
       "</table>\n",
       "<p>5 rows × 99 columns</p>\n",
       "</div>"
      ],
      "text/plain": [
       "   LotArea  OverallQual  YearBuilt  YearRemodAdd  MasVnrArea  ExterQual  \\\n",
       "0     8450            7       2003          2003       196.0          3   \n",
       "1     9600            6       1976          1976         0.0          2   \n",
       "2    11250            7       2001          2002       162.0          3   \n",
       "3     9550            7       1915          1970         0.0          2   \n",
       "4    14260            8       2000          2000       350.0          3   \n",
       "\n",
       "   BsmtQual  BsmtCond  BsmtExposure  BsmtFinType1        ...          \\\n",
       "0         4         3             1             6        ...           \n",
       "1         4         3             4             5        ...           \n",
       "2         4         3             2             6        ...           \n",
       "3         3         4             1             5        ...           \n",
       "4         4         3             3             6        ...           \n",
       "\n",
       "   Exterior1st_CemntBd  Exterior1st_MetalSd  Exterior1st_VinylSd  \\\n",
       "0                    0                    0                    1   \n",
       "1                    0                    1                    0   \n",
       "2                    0                    0                    1   \n",
       "3                    0                    0                    0   \n",
       "4                    0                    0                    1   \n",
       "\n",
       "   Exterior1st_Wd Sdng  MasVnrType_BrkFace  MasVnrType_None  MasVnrType_Stone  \\\n",
       "0                    0                   1                0                 0   \n",
       "1                    0                   0                1                 0   \n",
       "2                    0                   1                0                 0   \n",
       "3                    1                   0                1                 0   \n",
       "4                    0                   1                0                 0   \n",
       "\n",
       "   LotConfig_CulDSac  HouseStyle_1.5Fin  HouseStyle_2Story  \n",
       "0                  0                  0                  1  \n",
       "1                  0                  0                  0  \n",
       "2                  0                  0                  1  \n",
       "3                  0                  0                  1  \n",
       "4                  0                  0                  1  \n",
       "\n",
       "[5 rows x 99 columns]"
      ]
     },
     "execution_count": 17,
     "metadata": {},
     "output_type": "execute_result"
    }
   ],
   "source": [
    "clean_data = data_with_dummies.drop(data_with_dummies.columns.drop(above_10),axis=1)\n",
    "clean_data.head()"
   ]
  },
  {
   "cell_type": "markdown",
   "metadata": {},
   "source": [
    "## Part 2: Preparing Baseline and Cross-Validation Schema"
   ]
  },
  {
   "cell_type": "markdown",
   "metadata": {},
   "source": [
    "**Q 1:** Divide your cleaned dataset into a test set and a training set with ratio of 1 to 4. Dont forget to shuffle your data before hand."
   ]
  },
  {
   "cell_type": "markdown",
   "metadata": {},
   "source": [
    "Hint: Divide data into training and test sets using *train_test_split()* function in *sklearn.model_selection* package."
   ]
  },
  {
   "cell_type": "code",
   "execution_count": 18,
   "metadata": {},
   "outputs": [],
   "source": [
    "from sklearn.model_selection import train_test_split\n",
    "# Should we use y OR log1P(y) ???? PROBABLY USE THE LOG\n",
    "# Split target and features into test and training sets\n",
    "seed = 1\n",
    "X_train, X_test, y_train, y_test = train_test_split(clean_data, y, test_size = 0.2, random_state = seed)"
   ]
  },
  {
   "cell_type": "markdown",
   "metadata": {},
   "source": [
    "**Q 2:** Come up with a proper baseline to compare with your more advanced models. Consider root mean square error as your regression performance metric to give the error in the same unit as target. Print the baseline performance."
   ]
  },
  {
   "cell_type": "markdown",
   "metadata": {},
   "source": [
    "Hint: Fit an object from *DummyRegressor* class in *sklearn.dummy* package to training set and evaluate the performance on the test set. Keep the strategy of *DummyRegressor* object as default (mean)."
   ]
  },
  {
   "cell_type": "code",
   "execution_count": 19,
   "metadata": {},
   "outputs": [
    {
     "name": "stdout",
     "output_type": "stream",
     "text": [
      "0.4356030282531984\n"
     ]
    }
   ],
   "source": [
    "from sklearn.dummy import DummyRegressor\n",
    "from sklearn.metrics import mean_squared_error\n",
    "\n",
    "#compute a proper baseline to compare the results\n",
    "def RMSE_log(y_test,y_pred):\n",
    "    return np.sqrt(mean_squared_error(np.log1p(y_test), np.log1p(y_pred)))\n",
    "\n",
    "dummy_reg = DummyRegressor()\n",
    "dummy_reg.fit(X_train,y_train)\n",
    "y_pred = dummy_reg.predict(X_test)\n",
    "\n",
    "\n",
    "err = RMSE_log(y_test,y_pred)\n",
    "print(err)"
   ]
  },
  {
   "cell_type": "markdown",
   "metadata": {},
   "source": [
    "## Part 3: Ridge Regression"
   ]
  },
  {
   "cell_type": "markdown",
   "metadata": {},
   "source": [
    "**Q 1:** Fit a ridge regression model to your data and tune the value of alpha parameter. Note that your data should be standardize. Use validation curve to visualize your tuning process."
   ]
  },
  {
   "cell_type": "markdown",
   "metadata": {},
   "source": [
    "Hint: Use the *Pipeline* class from *sklearn.pipeline* package to make a pipeline of *StandardScaler* and *Ridge* transformers. Use *validation_curve()* function from *sklearn.model_selection* package on the training set and tune the value of alpha. \n",
    "\n",
    "To visualize your tuning process, use the following function:\n"
   ]
  },
  {
   "cell_type": "code",
   "execution_count": 20,
   "metadata": {},
   "outputs": [],
   "source": [
    "def plot_validation_curve(train_scores,cv_scores,x_data,scale='lin',title='',y_label='',x_label=''):\n",
    "\n",
    "        train_scores_mean = np.mean(train_scores, axis=1)\n",
    "        train_scores_std = np.std(train_scores, axis=1)\n",
    "        cv_scores_mean = np.mean(cv_scores, axis=1)\n",
    "        cv_scores_std = np.std(cv_scores, axis=1)\n",
    "\n",
    "        plt.title(title)\n",
    "        plt.xlabel(x_label)\n",
    "        plt.ylabel(y_label)\n",
    "        lw = 2\n",
    "\n",
    "        plt.fill_between(x_data, train_scores_mean - train_scores_std,train_scores_mean + train_scores_std, alpha=0.2, color=\"r\", lw=lw)\n",
    "        plt.fill_between(x_data, cv_scores_mean - cv_scores_std, cv_scores_mean + cv_scores_std, alpha=0.2, color=\"g\", lw=lw)\n",
    "\n",
    "        if (scale == 'lin'):\n",
    "            plt.plot(x_data, train_scores_mean, 'o-', color=\"r\", label=\"Training score\")\n",
    "            plt.plot(x_data, cv_scores_mean, 'o-', color=\"g\",label=\"Cross-validation score\")\n",
    "        elif (scale == 'log'):\n",
    "            plt.semilogx(x_data, train_scores_mean, 'o-', color=\"r\", label=\"Training score\")\n",
    "            plt.semilogx(x_data, cv_scores_mean, 'o-', color=\"g\",label=\"Cross-validation score\")\n",
    "        plt.grid()\n",
    "        plt.legend(loc=\"best\")\n",
    "        plt.show()"
   ]
  },
  {
   "cell_type": "code",
   "execution_count": 21,
   "metadata": {},
   "outputs": [
    {
     "name": "stdout",
     "output_type": "stream",
     "text": [
      "best alpha = 0.0000000004 with RMSE_log = 0.000000000000607\n"
     ]
    }
   ],
   "source": [
    "from sklearn.pipeline import Pipeline\n",
    "from sklearn.linear_model import Ridge\n",
    "from sklearn.preprocessing import StandardScaler\n",
    "\n",
    "seed_val=2\n",
    "X_train_train, X_train_val, y_train_train, y_train_val = train_test_split(X_train, y_train, \n",
    "                                                                    test_size = 0.25, random_state = seed_val)\n",
    "\n",
    "# Standardize features Ridge in a single pipeline\n",
    "estimators = []\n",
    "estimators.append(('standardize', StandardScaler()))\n",
    "estimators.append(('ridge_regression', Ridge()))\n",
    "\n",
    "pipeline = Pipeline(estimators)\n",
    "pipeline.set_params(ridge_regression__alpha='alpha')\n",
    "\n",
    "# Finding best value of ALPHA using validation set\n",
    "scores = []\n",
    "alphas = []\n",
    "for alpha in np.logspace(-10, 4, 50):\n",
    "    pipeline.set_params(ridge_regression__alpha=alpha) \n",
    "    pipeline.fit(X_train_train,y_train_train)\n",
    "    y_train_pred = pipeline.predict(X_train_val)\n",
    "    scores.append(RMSE_log(y_train_val, y_train_pred))\n",
    "    #scores.append(pipeline.score(X_train_val,y_train_val))\n",
    "    alphas.append(alpha)\n",
    "\n",
    "#best_score = find_nearest(scores,0)\n",
    "best_alpha = alphas[scores.index(min(scores))]\n",
    "print ('best alpha = %2.10f with RMSE_log = %2.15f' %(best_alpha, min(scores)))"
   ]
  },
  {
   "cell_type": "code",
   "execution_count": 22,
   "metadata": {},
   "outputs": [
    {
     "data": {
      "image/png": "[encoded data removed]",
      "text/plain": [
       "<Figure size 432x288 with 1 Axes>"
      ]
     },
     "metadata": {},
     "output_type": "display_data"
    }
   ],
   "source": [
    "from sklearn.model_selection import validation_curve\n",
    "\n",
    "train_scores, valid_scores= validation_curve(pipeline,X_train,y_train,\n",
    "                                             \"ridge_regression__alpha\",np.logspace(-10, 4, 50),cv=5)\n",
    "\n",
    "plot_validation_curve(train_scores,valid_scores,np.logspace(-10, 4, 50),x_label='alpha',y_label='score')"
   ]
  },
  {
   "cell_type": "markdown",
   "metadata": {},
   "source": [
    "**Q 2:** Report its performance on test data. Is this estimation fully reliable? why?"
   ]
  },
  {
   "cell_type": "markdown",
   "metadata": {},
   "source": [
    "Hint: Set the value of alpha to the optimum value. Fit your pipeline to training data and predict the house prices on test data. Use *mean_squared_error()* function from *sklearn.metrics* package to measure your regression performance."
   ]
  },
  {
   "cell_type": "code",
   "execution_count": 23,
   "metadata": {},
   "outputs": [
    {
     "name": "stdout",
     "output_type": "stream",
     "text": [
      "4.710558062939095e-13\n"
     ]
    }
   ],
   "source": [
    "# Performance of the tuned model on test set\n",
    "pipeline.set_params(ridge_regression__alpha=best_alpha)\n",
    "pipeline.fit(X_train,y_train)\n",
    "y_pred_ridge = pipeline.predict(X_test)\n",
    "rmse_score_ridge = RMSE_log(y_test,y_pred_ridge)\n",
    "print(rmse_score_ridge)\n",
    "#print(y_pred_ridge)\n",
    "#pipeline.score(X_test,y_test)"
   ]
  },
  {
   "cell_type": "markdown",
   "metadata": {},
   "source": [
    "It seems reliable because both curve the training curve and the cross validation score are very close."
   ]
  },
  {
   "cell_type": "markdown",
   "metadata": {},
   "source": [
    "**Q 3:** Print the list of ridge coefficients. "
   ]
  },
  {
   "cell_type": "markdown",
   "metadata": {},
   "source": [
    "Hint: Extract the ridge regression from your pipeline and use its methods directly."
   ]
  },
  {
   "cell_type": "code",
   "execution_count": 24,
   "metadata": {},
   "outputs": [
    {
     "name": "stdout",
     "output_type": "stream",
     "text": [
      "[ 1.18336403e-08  2.84213746e-08 -1.44222018e-08  4.31935551e-09\n",
      "  8.25250450e-09  1.10758174e-08  1.17661883e-08  4.52150486e-09\n",
      "  1.54518045e-08  5.85828357e-09  2.58120782e-10 -9.09534087e-09\n",
      "  8.22938724e-09  6.33410535e-09  3.84012612e-08  4.67739387e-08\n",
      "  5.00733141e-10  4.16390094e-09  7.87451242e-09  4.95859611e-09\n",
      " -6.54364881e-09 -5.91394518e-09  1.33717913e-08  2.12916101e-08\n",
      "  9.03550147e-09  8.72859528e-09  1.68620045e-08 -2.13301575e-10\n",
      "  4.14014138e-09  3.15295285e-09  1.76474061e-09  7.78624251e-09\n",
      "  7.80526500e+04  6.06253189e-08  2.59574416e-08  6.36865748e-08\n",
      "  1.82407858e-08 -2.15973419e-09  8.45500493e-10  1.00648782e-08\n",
      "  1.14000455e-08  1.29923981e-08 -8.51796706e-09  7.64278788e-09\n",
      "  2.70126530e-09  2.21720708e-09 -1.09798038e-08 -9.25662333e-10\n",
      " -2.99012514e-09 -6.62471803e-09  1.63523241e-08  2.75914062e-08\n",
      " -8.49738463e-09 -2.93555459e-09  7.98123281e-09  1.77677729e-08\n",
      "  1.01047073e-09  2.49832266e+01  2.49832266e+01  1.53910232e-08\n",
      "  2.25788946e-08  3.10412564e-09  4.33314608e-09 -2.19373779e-08\n",
      " -1.33125441e-08  1.88197750e-08  4.85964250e-09 -8.41415235e-09\n",
      "  2.27456504e-09 -1.30478776e-09 -1.47920650e-09 -4.43538439e-09\n",
      "  7.30345152e-09  6.12172239e-10  1.80796345e-08  1.56430229e-08\n",
      "  2.85994826e-09  4.56581125e-10 -1.25704738e-09 -4.25182345e-09\n",
      "  1.43787118e-11 -4.12020846e-10 -1.07576873e-08 -6.65221851e-09\n",
      " -1.49961763e-08 -4.39070223e-09  1.72713860e-09 -8.52969754e-09\n",
      "  8.46048405e-10  6.84517785e-09 -3.55114405e-09 -3.39469665e-09\n",
      " -1.09277910e-08  3.52778410e-09  1.26854842e-08  5.74700401e-09\n",
      "  6.71889424e-09 -5.58248270e-09 -1.70849264e-08]\n"
     ]
    }
   ],
   "source": [
    "ridge = pipeline.named_steps['ridge_regression']\n",
    "print(ridge.coef_)"
   ]
  },
  {
   "cell_type": "markdown",
   "metadata": {},
   "source": [
    "## Part 4: Lasso Regression"
   ]
  },
  {
   "cell_type": "markdown",
   "metadata": {},
   "source": [
    "**Q 1:** Fit a Lasso regression model to your data and tune the value of alpha parameter. Note that your data should be standardize. Use validation curve to visualize your tuning process."
   ]
  },
  {
   "cell_type": "code",
   "execution_count": 48,
   "metadata": {},
   "outputs": [
    {
     "name": "stdout",
     "output_type": "stream",
     "text": [
      "best alpha = 3.7275937203 with RMSE_log = 0.000030920531922\n"
     ]
    }
   ],
   "source": [
    "from sklearn.linear_model import Lasso\n",
    "\n",
    "# Standardize features Ridge in a single pipeline\n",
    "estimators = []\n",
    "estimators.append(('standardize', StandardScaler()))\n",
    "estimators.append(('Lasso', Lasso()))\n",
    "\n",
    "pipeline_lasso = Pipeline(estimators)\n",
    "pipeline_lasso.set_params(Lasso__alpha='alpha')\n",
    "\n",
    "# Finding best value of ALPHA using validation set\n",
    "scores = []\n",
    "alphas = []\n",
    "for alpha in np.logspace(-10, 4, 50):\n",
    "    pipeline_lasso.set_params(Lasso__alpha=alpha) \n",
    "    pipeline_lasso.fit(X_train_train,y_train_train)\n",
    "    y_train_pred = pipeline_lasso.predict(X_train_val)\n",
    "    scores.append(RMSE_log(y_train_val, y_train_pred))\n",
    "    #scores.append(pipeline.score(X_train_val,y_train_val))\n",
    "    alphas.append(alpha)\n",
    "\n",
    "#best_score = find_nearest(scores,0)\n",
    "best_alpha = alphas[scores.index(min(scores))]\n",
    "print ('best alpha = %2.10f with RMSE_log = %2.15f' %(best_alpha, min(scores)))"
   ]
  },
  {
   "cell_type": "code",
   "execution_count": 49,
   "metadata": {},
   "outputs": [
    {
     "data": {
      "image/png": "[encoded data removed]",
      "text/plain": [
       "<Figure size 432x288 with 1 Axes>"
      ]
     },
     "metadata": {},
     "output_type": "display_data"
    }
   ],
   "source": [
    "train_scores_lasso, valid_scores_lasso= validation_curve(pipeline_lasso,X_train,y_train,\n",
    "                                             \"Lasso__alpha\",np.logspace(-10, 4, 50),cv=5)\n",
    "\n",
    "plot_validation_curve(train_scores_lasso,valid_scores_lasso,\n",
    "                      np.logspace(-10, 4, 50),x_label='alpha',y_label='score')"
   ]
  },
  {
   "cell_type": "markdown",
   "metadata": {},
   "source": [
    "**Q 2:** Report its performance on test data."
   ]
  },
  {
   "cell_type": "code",
   "execution_count": 50,
   "metadata": {},
   "outputs": [
    {
     "name": "stdout",
     "output_type": "stream",
     "text": [
      "3.5626930873284245e-05\n"
     ]
    }
   ],
   "source": [
    "# Performance of the tuned model on test set\n",
    "pipeline_lasso.set_params(Lasso__alpha=best_alpha)\n",
    "pipeline_lasso.fit(X_train,y_train)\n",
    "y_pred_Lasso = pipeline_lasso.predict(X_test)\n",
    "rmse_score_lasso = RMSE_log(y_test,y_pred_Lasso)\n",
    "print(rmse_score_lasso)\n",
    "#print(pipeline_lasso.score(X_test,y_test))"
   ]
  },
  {
   "cell_type": "markdown",
   "metadata": {},
   "source": [
    "**Q 3:** Print the list of ridge coefficients. How do they differ from ridge coefficients ? What would be the benefit ?"
   ]
  },
  {
   "cell_type": "code",
   "execution_count": 51,
   "metadata": {},
   "outputs": [
    {
     "name": "stdout",
     "output_type": "stream",
     "text": [
      "[    0.             0.             0.             0.\n",
      "     0.             0.             0.             0.\n",
      "     0.             0.             0.             0.\n",
      "     0.             0.             0.             0.\n",
      "     0.             0.             0.             0.\n",
      "     0.            -0.             0.             0.\n",
      "     0.             0.             0.             0.\n",
      "     0.             0.            -0.             0.\n",
      " 78047.82231383     0.             0.            -0.\n",
      "     0.            -0.             0.            -0.\n",
      "     0.            -0.            -0.             0.\n",
      "    -0.            -0.            -0.            -0.\n",
      "    -0.            -0.             0.             0.\n",
      "    -0.            -0.             0.             0.\n",
      "     0.            -0.             0.            -0.\n",
      "     0.            -0.             0.            -0.\n",
      "     0.             0.            -0.            -0.\n",
      "     0.            -0.            -0.            -0.\n",
      "     0.            -0.            -0.             0.\n",
      "    -0.            -0.            -0.             0.\n",
      "    -0.            -0.            -0.            -0.\n",
      "     0.            -0.            -0.             0.\n",
      "    -0.             0.            -0.             0.\n",
      "    -0.             0.            -0.             0.\n",
      "     0.            -0.             0.        ]\n"
     ]
    }
   ],
   "source": [
    "lasso = pipeline_lasso.named_steps['Lasso']\n",
    "print(lasso.coef_)"
   ]
  },
  {
   "cell_type": "markdown",
   "metadata": {},
   "source": [
    "We can drop lots of features since their parameters equal 0.."
   ]
  },
  {
   "cell_type": "markdown",
   "metadata": {},
   "source": [
    "## Part 5: Random Forest"
   ]
  },
  {
   "cell_type": "markdown",
   "metadata": {},
   "source": [
    "**Q 1:** Fit a random forest model to your data and tune the value of n_estimators parameter. Use validation curve to visualize your tuning process. Note that tree based models does not require standardized features to function correctly."
   ]
  },
  {
   "cell_type": "code",
   "execution_count": 29,
   "metadata": {},
   "outputs": [
    {
     "name": "stdout",
     "output_type": "stream",
     "text": [
      "best alpha = 5.0000000000 with RMSE_log = 0.026658809894292\n"
     ]
    }
   ],
   "source": [
    "from sklearn.ensemble import RandomForestRegressor\n",
    "\n",
    "seed_val=2\n",
    "X_train_train, X_train_val, y_train_train, y_train_val = train_test_split(X_train, y_train, \n",
    "                                                                    test_size = 0.25, random_state = seed_val)\n",
    "\n",
    "# Standardize features Ridge in a single pipeline\n",
    "estimators = []\n",
    "estimators.append(('standardize', StandardScaler()))\n",
    "estimators.append(('RandomForest_reg', RandomForestRegressor()))\n",
    "\n",
    "pipeline_rdmForest = Pipeline(estimators)\n",
    "pipeline_rdmForest.set_params(RandomForest_reg__n_estimators='n_estimators')\n",
    "\n",
    "# Finding best value of ALPHA using validation set\n",
    "scores = []\n",
    "n_estimators = []\n",
    "for n_estimator in range(1, 150):\n",
    "    pipeline_rdmForest.set_params(RandomForest_reg__n_estimators=n_estimator) \n",
    "    pipeline_rdmForest.fit(X_train_train,y_train_train)\n",
    "    y_train_pred = pipeline_rdmForest.predict(X_train_val)\n",
    "    scores.append(RMSE_log(y_train_val, y_train_pred))\n",
    "    #scores.append(pipeline.score(X_train_val,y_train_val))\n",
    "    n_estimators.append(n_estimator)\n",
    "\n",
    "#best_score = find_nearest(scores,0)\n",
    "best_n_estimators = n_estimators[scores.index(min(scores))]\n",
    "print ('best alpha = %2.10f with RMSE_log = %2.15f' %(best_n_estimators, min(scores)))"
   ]
  },
  {
   "cell_type": "code",
   "execution_count": 32,
   "metadata": {},
   "outputs": [
    {
     "data": {
      "image/png": "[encoded data removed]",
      "text/plain": [
       "<Figure size 432x288 with 1 Axes>"
      ]
     },
     "metadata": {},
     "output_type": "display_data"
    }
   ],
   "source": [
    "train_scores_rdmForest, valid_scores_rdmForest= validation_curve(pipeline_rdmForest,X_train,y_train,\n",
    "                                             \"RandomForest_reg__n_estimators\",list(range(1,150)),cv=5)\n",
    "\n",
    "plot_validation_curve(train_scores_rdmForest,valid_scores_rdmForest,\n",
    "                      list(range(1,150)),x_label='n_estimators',y_label='score')"
   ]
  },
  {
   "cell_type": "markdown",
   "metadata": {},
   "source": [
    "**Q 2:** Report its performance on test data."
   ]
  },
  {
   "cell_type": "code",
   "execution_count": 31,
   "metadata": {},
   "outputs": [
    {
     "name": "stdout",
     "output_type": "stream",
     "text": [
      "2.9308026362331085e-05\n"
     ]
    }
   ],
   "source": [
    "# Performance of the tuned model on test set\n",
    "pipeline_rdmForest.set_params(RandomForest_reg__n_estimators=best_n_estimators)\n",
    "pipeline_rdmForest.fit(X_train,y_train)\n",
    "y_pred_rdmForest = pipeline_rdmForest.predict(X_test)\n",
    "rmse_score_rdmForest = RMSE_log(y_test,y_pred_Lasso)\n",
    "print(rmse_score_rdmForest)"
   ]
  },
  {
   "cell_type": "markdown",
   "metadata": {},
   "source": [
    "**Q 3:** Print list of 10 most important features in order. "
   ]
  },
  {
   "cell_type": "markdown",
   "metadata": {},
   "source": [
    "## CHECK AGAIN"
   ]
  },
  {
   "cell_type": "code",
   "execution_count": 33,
   "metadata": {},
   "outputs": [],
   "source": [
    "def importance_features(pipe,n_importance):\n",
    "    arr = np.array(pipe.named_steps['RandomForest_reg'].feature_importances_)\n",
    "    idx = (-arr).argsort()[:n_importance]\n",
    "    print(\"Importance of features \"+str(arr))\n",
    "    print(\"The \"+str(n_importance)+\" most important features are \")\n",
    "    return X_test.columns[idx]"
   ]
  },
  {
   "cell_type": "code",
   "execution_count": 34,
   "metadata": {},
   "outputs": [
    {
     "name": "stdout",
     "output_type": "stream",
     "text": [
      "Importance of features [3.11192139e-04 1.45609215e-04 1.23451964e-03 1.33416963e-03\n",
      " 3.71935727e-05 5.30108530e-08 1.95579258e-06 1.25082046e-08\n",
      " 8.45070208e-06 9.53572501e-06 4.68107502e-05 2.98539268e-06\n",
      " 8.45970062e-06 4.37945945e-07 2.39168213e-05 6.24562937e-07\n",
      " 6.35042215e-05 4.88663918e-06 1.28015914e-07 6.25313485e-07\n",
      " 5.20805950e-07 2.49125937e-08 2.89203342e-07 6.04929813e-06\n",
      " 3.31104050e-08 3.55318786e-06 6.91013185e-07 1.61185084e-04\n",
      " 5.80049496e-06 4.94963042e-06 9.27544997e-08 5.29180071e-08\n",
      " 9.94879676e-01 5.08735318e-09 1.92428927e-07 2.29385421e-08\n",
      " 7.65444542e-07 5.26568860e-07 2.61120824e-07 1.46506630e-08\n",
      " 4.48720802e-08 1.31144362e-07 1.97319539e-07 2.23836669e-08\n",
      " 1.02115880e-07 1.11557113e-07 1.55485842e-06 1.61880502e-08\n",
      " 2.49292095e-07 3.10086449e-08 1.52821178e-07 1.31742428e-07\n",
      " 5.88025680e-04 1.30031946e-05 3.98882506e-08 1.85754524e-06\n",
      " 8.02660176e-08 2.47102029e-10 5.69414948e-09 1.58407212e-08\n",
      " 3.11706491e-08 2.02366774e-07 3.35733742e-07 9.18897972e-08\n",
      " 4.29503168e-06 3.63289763e-06 1.21810919e-08 1.70591760e-05\n",
      " 6.99687972e-08 1.01268027e-07 5.34531554e-08 7.61929157e-08\n",
      " 6.00288326e-08 1.04219216e-03 1.29165554e-06 2.25978659e-07\n",
      " 0.00000000e+00 2.89033731e-08 1.57614478e-06 1.34895519e-06\n",
      " 8.68241569e-08 2.36810724e-06 1.73263097e-05 4.81687144e-09\n",
      " 1.16851827e-08 2.60197849e-07 9.85224894e-07 5.95352371e-09\n",
      " 0.00000000e+00 2.63426180e-07 1.35196038e-07 4.68887376e-11\n",
      " 0.00000000e+00 6.51255926e-08 1.43219991e-08 8.19634895e-08\n",
      " 8.96123567e-11 9.34525603e-08 6.03183027e-08]\n",
      "The 10 most important features are \n"
     ]
    },
    {
     "data": {
      "text/plain": [
       "Index(['SalePrice', 'YearRemodAdd', 'YearBuilt', 'SaleType_New',\n",
       "       'RoofStyle_Gable', 'LotArea', 'GarageArea', 'OverallQual', 'GrLivArea',\n",
       "       'BsmtFinSF1'],\n",
       "      dtype='object')"
      ]
     },
     "execution_count": 34,
     "metadata": {},
     "output_type": "execute_result"
    }
   ],
   "source": [
    "importance_features(pipeline_rdmForest,10)"
   ]
  },
  {
   "cell_type": "markdown",
   "metadata": {},
   "source": [
    "## Part 6: Gradient Boosted Trees"
   ]
  },
  {
   "cell_type": "markdown",
   "metadata": {},
   "source": [
    "**Q 1:** Fit a gradint boosted tree model to your data and tune the value of n_estimators parameter. Use validation curve to visualize your tuning process."
   ]
  },
  {
   "cell_type": "code",
   "execution_count": 36,
   "metadata": {},
   "outputs": [
    {
     "name": "stdout",
     "output_type": "stream",
     "text": [
      "best alpha = 197.0000000000 with RMSE_log = 0.016501474307240\n"
     ]
    }
   ],
   "source": [
    "from sklearn.ensemble import GradientBoostingRegressor\n",
    "\n",
    "\n",
    "seed_val=2\n",
    "X_train_train, X_train_val, y_train_train, y_train_val = train_test_split(X_train, y_train, \n",
    "                                                                    test_size = 0.25, random_state = seed_val)\n",
    "\n",
    "# Standardize features Ridge in a single pipeline\n",
    "estimators = []\n",
    "estimators.append(('standardize', StandardScaler()))\n",
    "estimators.append(('GradientBoosted_reg', GradientBoostingRegressor()))\n",
    "\n",
    "pipeline_gdtBoosted = Pipeline(estimators)\n",
    "pipeline_gdtBoosted.set_params(GradientBoosted_reg__n_estimators='n_estimators')\n",
    "\n",
    "# Finding best value of ALPHA using validation set\n",
    "scores = []\n",
    "n_estimators = []\n",
    "for n_estimator in range(1, 200):\n",
    "    pipeline_gdtBoosted.set_params(GradientBoosted_reg__n_estimators=n_estimator) \n",
    "    pipeline_gdtBoosted.fit(X_train_train,y_train_train)\n",
    "    y_train_pred = pipeline_gdtBoosted.predict(X_train_val)\n",
    "    scores.append(RMSE_log(y_train_val, y_train_pred))\n",
    "    #scores.append(pipeline.score(X_train_val,y_train_val))\n",
    "    n_estimators.append(n_estimator)\n",
    "\n",
    "#best_score = find_nearest(scores,0)\n",
    "best_n_estimators_gdt = n_estimators[scores.index(min(scores))]\n",
    "print ('best alpha = %2.10f with RMSE_log = %2.15f' %(best_n_estimators_gdt, min(scores)))"
   ]
  },
  {
   "cell_type": "code",
   "execution_count": 37,
   "metadata": {},
   "outputs": [
    {
     "data": {
      "image/png": "[encoded data removed]",
      "text/plain": [
       "<Figure size 432x288 with 1 Axes>"
      ]
     },
     "metadata": {},
     "output_type": "display_data"
    }
   ],
   "source": [
    "train_scores_rdmForest, valid_scores_rdmForest= validation_curve(pipeline_gdtBoosted,X_train,y_train,\n",
    "                                             \"GradientBoosted_reg__n_estimators\",list(range(1,200)),cv=5)\n",
    "\n",
    "plot_validation_curve(train_scores_rdmForest,valid_scores_rdmForest,\n",
    "                      list(range(1,200)),x_label='n_estimators',y_label='score')"
   ]
  },
  {
   "cell_type": "markdown",
   "metadata": {},
   "source": [
    "**Q 2:** Report its performance on test data."
   ]
  },
  {
   "cell_type": "code",
   "execution_count": 38,
   "metadata": {},
   "outputs": [
    {
     "name": "stdout",
     "output_type": "stream",
     "text": [
      "0.006154169328243444\n"
     ]
    }
   ],
   "source": [
    "# Performance of the tuned model on test set\n",
    "pipeline_gdtBoosted.set_params(GradientBoosted_reg__n_estimators=best_n_estimators_gdt)\n",
    "pipeline_gdtBoosted.fit(X_train,y_train)\n",
    "y_pred_gdtBoosted = pipeline_gdtBoosted.predict(X_test)\n",
    "rmse_score_gdtBoosted = RMSE_log(y_test,y_pred_gdtBoosted)\n",
    "print(rmse_score_gdtBoosted)"
   ]
  },
  {
   "cell_type": "markdown",
   "metadata": {},
   "source": [
    "**Q 3:** Print list of 10 most important features and compare it with what you get from random forest predictive model."
   ]
  },
  {
   "cell_type": "code",
   "execution_count": 40,
   "metadata": {},
   "outputs": [],
   "source": [
    "def importance_features(pipe,n_importance):\n",
    "    arr = np.array(pipe.named_steps['GradientBoosted_reg'].feature_importances_)\n",
    "    idx = (-arr).argsort()[:n_importance]\n",
    "    print(\"Importance of features \"+str(arr))\n",
    "    print(\"The \"+str(n_importance)+\" most important features are \")\n",
    "    return X_test.columns[idx]"
   ]
  },
  {
   "cell_type": "code",
   "execution_count": 41,
   "metadata": {},
   "outputs": [
    {
     "name": "stdout",
     "output_type": "stream",
     "text": [
      "Importance of features [6.26558134e-02 3.44193846e-03 1.85989392e-02 1.71999645e-02\n",
      " 3.00873796e-02 5.40775862e-03 0.00000000e+00 4.38227320e-03\n",
      " 1.00726116e-02 3.46146639e-03 5.99555141e-02 3.20123845e-02\n",
      " 1.75095368e-02 5.17616453e-03 3.60078175e-02 2.05106159e-02\n",
      " 4.71424790e-02 6.62453851e-04 4.83584297e-03 1.91580425e-03\n",
      " 9.45050288e-04 0.00000000e+00 7.54399469e-03 7.04356625e-03\n",
      " 0.00000000e+00 1.06309164e-02 3.14207459e-03 2.90492011e-02\n",
      " 3.17836312e-02 4.09592351e-02 1.08072850e-02 7.58765924e-03\n",
      " 3.95779195e-01 0.00000000e+00 0.00000000e+00 1.36967654e-03\n",
      " 0.00000000e+00 5.60079022e-04 0.00000000e+00 0.00000000e+00\n",
      " 4.39185803e-03 2.09899991e-03 0.00000000e+00 0.00000000e+00\n",
      " 7.10656541e-03 1.59624798e-03 1.15463135e-03 5.08847716e-04\n",
      " 1.68154887e-03 0.00000000e+00 7.17704058e-04 5.53171734e-03\n",
      " 2.65428589e-03 2.14990116e-03 2.06595205e-03 5.36686519e-04\n",
      " 1.54376906e-03 0.00000000e+00 0.00000000e+00 1.59885677e-03\n",
      " 0.00000000e+00 4.21262731e-03 1.81685594e-03 1.22011789e-03\n",
      " 1.05348439e-03 0.00000000e+00 0.00000000e+00 1.96146028e-03\n",
      " 7.05819153e-04 7.89494038e-04 9.92358920e-04 0.00000000e+00\n",
      " 1.52547555e-03 5.49918730e-04 4.95828708e-04 0.00000000e+00\n",
      " 7.50894507e-04 1.19043126e-03 1.82593985e-03 2.39003078e-04\n",
      " 0.00000000e+00 0.00000000e+00 2.39485137e-03 0.00000000e+00\n",
      " 0.00000000e+00 0.00000000e+00 8.16623429e-05 1.38450055e-03\n",
      " 4.19831814e-03 2.28691879e-03 6.50368761e-04 0.00000000e+00\n",
      " 0.00000000e+00 1.64102541e-04 4.70292582e-03 4.08223387e-04\n",
      " 0.00000000e+00 8.22523766e-04 0.00000000e+00]\n",
      "The 10 most important features are \n"
     ]
    },
    {
     "data": {
      "text/plain": [
       "Index(['SalePrice', 'LotArea', 'BsmtFinSF1', 'GrLivArea', 'OpenPorchSF',\n",
       "       '1stFlrSF', 'BsmtUnfSF', 'WoodDeckSF', 'MasVnrArea', 'GarageArea'],\n",
       "      dtype='object')"
      ]
     },
     "execution_count": 41,
     "metadata": {},
     "output_type": "execute_result"
    }
   ],
   "source": [
    "importance_features(pipeline_gdtBoosted,10)"
   ]
  },
  {
   "cell_type": "markdown",
   "metadata": {},
   "source": [
    "## Part 7: Prediction Improvement: More Data"
   ]
  },
  {
   "cell_type": "markdown",
   "metadata": {},
   "source": [
    "**Q 1:** Try to answer whether investing on more data could make sense by choosing the best predictive model you obtained above and apply a training curve on it."
   ]
  },
  {
   "cell_type": "markdown",
   "metadata": {},
   "source": [
    "Hint: Use *learning_curve()* function from *sklearn.model_selection* to assess performance of your model using training data with different sizes. Consider 0.1, 0.2, ..., 1.0 times of the training size. Use the following function to visualize your learning curve:\n"
   ]
  },
  {
   "cell_type": "markdown",
   "metadata": {},
   "source": [
    "##### The best model obtained above is the Ridge regression"
   ]
  },
  {
   "cell_type": "code",
   "execution_count": 25,
   "metadata": {},
   "outputs": [],
   "source": [
    "def plot_learning_curve(train_scores,cv_scores,x_data,scale='lin',title='',y_label='',x_label=''):\n",
    "\n",
    "        train_scores_mean = np.mean(train_scores, axis=1)\n",
    "        train_scores_std = np.std(train_scores, axis=1)\n",
    "        cv_scores_mean = np.mean(cv_scores, axis=1)\n",
    "        cv_scores_std = np.std(cv_scores, axis=1)\n",
    "\n",
    "        plt.title(title)\n",
    "        plt.xlabel(x_label)\n",
    "        plt.ylabel(y_label)\n",
    "        lw = 2\n",
    "\n",
    "        plt.fill_between(x_data, train_scores_mean - train_scores_std,train_scores_mean + train_scores_std, alpha=0.2, color=\"r\", lw=lw)\n",
    "        plt.fill_between(x_data, cv_scores_mean - cv_scores_std, cv_scores_mean + cv_scores_std, alpha=0.2, color=\"g\", lw=lw)\n",
    "\n",
    "        if (scale == 'lin'):\n",
    "            plt.plot(x_data, train_scores_mean, 'o-', color=\"r\", label=\"Training score\")\n",
    "            plt.plot(x_data, cv_scores_mean, 'o-', color=\"g\",label=\"Cross-validation score\")\n",
    "        elif (scale == 'log'):\n",
    "            plt.semilogx(x_data, train_scores_mean, 'o-', color=\"r\", label=\"Training score\")\n",
    "            plt.semilogx(x_data, cv_scores_mean, 'o-', color=\"g\",label=\"Cross-validation score\")\n",
    "        plt.grid()\n",
    "        plt.legend(loc=\"best\")\n",
    "        plt.show()\n",
    "        \n",
    "from sklearn.model_selection import learning_curve"
   ]
  },
  {
   "cell_type": "code",
   "execution_count": 47,
   "metadata": {},
   "outputs": [
    {
     "ename": "ValueError",
     "evalue": "too many values to unpack (expected 2)",
     "output_type": "error",
     "traceback": [
      "\u001b[0;31m---------------------------------------------------------------------------\u001b[0m",
      "\u001b[0;31mValueError\u001b[0m                                Traceback (most recent call last)",
      "\u001b[0;32m<ipython-input-47-46dd011031fa>\u001b[0m in \u001b[0;36m<module>\u001b[0;34m()\u001b[0m\n\u001b[1;32m      1\u001b[0m train_scores_r, valid_scores_r = learning_curve(pipeline,X_train,y_train,\n\u001b[0;32m----> 2\u001b[0;31m                                                 train_sizes=np.linspace(.1, 1.0, 1))\n\u001b[0m\u001b[1;32m      3\u001b[0m \u001b[0mplot_learning_curve\u001b[0m\u001b[0;34m(\u001b[0m\u001b[0mtrain_scores_r\u001b[0m\u001b[0;34m,\u001b[0m\u001b[0mvalid_scores_r\u001b[0m\u001b[0;34m)\u001b[0m\u001b[0;34m\u001b[0m\u001b[0m\n",
      "\u001b[0;31mValueError\u001b[0m: too many values to unpack (expected 2)"
     ]
    }
   ],
   "source": [
    "train_scores_r, valid_scores_r = learning_curve(pipeline,X_train,y_train,\n",
    "                                                n_jobs)\n",
    "plot_learning_curve(train_scores_r,valid_scores_r)"
   ]
  },
  {
   "cell_type": "markdown",
   "metadata": {},
   "source": [
    "**Q 2:** What strategies regarding data can be proposed to come up with a better prediction ?"
   ]
  },
  {
   "cell_type": "markdown",
   "metadata": {},
   "source": [
    "We could either lower the threshold of correlation for the dropping data (or Add more Observations to our training data) to get a better model with better parameters, thus a better Model with more precise predictions."
   ]
  },
  {
   "cell_type": "markdown",
   "metadata": {},
   "source": [
    "## Part 8: Prediction Improvement: Better Model"
   ]
  },
  {
   "cell_type": "markdown",
   "metadata": {},
   "source": [
    "**Q 1:** Create a simple ensemble regressor using the average of your two best models. Compare its performance with each of the two individual models."
   ]
  },
  {
   "cell_type": "code",
   "execution_count": null,
   "metadata": {},
   "outputs": [],
   "source": [
    "y_pred_ensemble = np.mean([y_pred_ridge,y_pred_Lasso])\n",
    "\n",
    "rmse_score_ensemble = RMSE_log(y_test,y_pred_ensemble)\n",
    "\n",
    "print(rmse_score_ensemble)\n",
    "print(y_pred_ridge)\n",
    "print(y_pred_Lasso)"
   ]
  },
  {
   "cell_type": "markdown",
   "metadata": {},
   "source": [
    "**Q 2:** How can you make your performance results statistically more reliable ?"
   ]
  },
  {
   "cell_type": "markdown",
   "metadata": {},
   "source": [
    "Hint: Consider sources of selection bias."
   ]
  },
  {
   "cell_type": "code",
   "execution_count": null,
   "metadata": {},
   "outputs": [],
   "source": []
  },
  {
   "cell_type": "markdown",
   "metadata": {},
   "source": [
    "**Q 3:** What strategies regarding modeling technique can be proposed to come up with a better prediction ?"
   ]
  },
  {
   "cell_type": "code",
   "execution_count": null,
   "metadata": {},
   "outputs": [],
   "source": []
  },
  {
   "cell_type": "markdown",
   "metadata": {},
   "source": [
    "## Bonus: Food for Thought"
   ]
  },
  {
   "cell_type": "markdown",
   "metadata": {},
   "source": [
    "To read: https://www.aeaweb.org/articles?id=10.1257/jep.31.2.87"
   ]
  },
  {
   "cell_type": "markdown",
   "metadata": {},
   "source": [
    "To watch: https://www.ted.com/talks/anne_milgram_why_smart_statistics_are_the_key_to_fighting_crime"
   ]
  }
 ],
 "metadata": {
  "kernelspec": {
   "display_name": "Python 3",
   "language": "python",
   "name": "python3"
  },
  "language_info": {
   "codemirror_mode": {
    "name": "ipython",
    "version": 3
   },
   "file_extension": ".py",
   "mimetype": "text/x-python",
   "name": "python",
   "nbconvert_exporter": "python",
   "pygments_lexer": "ipython3",
   "version": "3.7.0"
  }
 },
 "nbformat": 4,
 "nbformat_minor": 2
}
